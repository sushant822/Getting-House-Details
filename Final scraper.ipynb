{
 "cells": [
  {
   "cell_type": "code",
   "execution_count": null,
   "metadata": {},
   "outputs": [],
   "source": [
    "import pandas as pd\n",
    "import numpy as np\n",
    "import requests\n",
    "from bs4 import BeautifulSoup\n",
    "import time\n",
    "from splinter import Browser\n",
    "import warnings\n",
    "warnings.filterwarnings('ignore')\n",
    "print('Libraries imported!')"
   ]
  },
  {
   "cell_type": "code",
   "execution_count": null,
   "metadata": {},
   "outputs": [],
   "source": [
    "house_address = []\n",
    "house_details = []\n",
    "\n",
    "base_url = 'https://www.remax.ca/ab/calgary-real-estate?page='\n",
    "urls = [base_url + str(x) for x in range(1,1)]\n",
    "\n",
    "for url in urls:\n",
    "    \n",
    "    #browser.visit(url)\n",
    "    time.sleep(5)\n",
    "\n",
    "    # Parse HTML with Beautiful Soup\n",
    "    response = requests.get(url)\n",
    "    soup = BeautifulSoup(response.text, 'html.parser')\n",
    "\n",
    "    try:\n",
    "        addresses = soup.find_all('div', class_='left-content flex-one')\n",
    "        for address in addresses:\n",
    "            house_address.append(address.text)\n",
    "    except:\n",
    "        house_address.append('None')\n",
    "        \n",
    "    try:\n",
    "        details = soup.find_all('div', class_='property-details')\n",
    "        for detail in details:\n",
    "            house_details.append(detail.text)\n",
    "    except:\n",
    "        house_details.append('None')"
   ]
  },
  {
   "cell_type": "code",
   "execution_count": null,
   "metadata": {},
   "outputs": [],
   "source": [
    "house_details_more=[]\n",
    "try:\n",
    "    for detail in soup.find_all('a'):\n",
    "        house_details_more.append(detail.get('href'))\n",
    "except:\n",
    "    house_details_more.append('None')"
   ]
  },
  {
   "cell_type": "code",
   "execution_count": null,
   "metadata": {},
   "outputs": [],
   "source": [
    "url_house = []\n",
    "for i in house_details_more:\n",
    "    if '/ab/calgary-real-estate/' in str(i):\n",
    "        link = 'https://www.remax.ca' + str(i)\n",
    "        url_house.append(link)\n",
    "url_house"
   ]
  },
  {
   "cell_type": "code",
   "execution_count": null,
   "metadata": {},
   "outputs": [],
   "source": [
    "address_df = pd.DataFrame(house_address)\n",
    "\n",
    "new_df = address_df[0].str.split(' ', 2, expand=True)\n",
    "new_df[\"price\"] = new_df[1].str.replace(\"$\", \"\")\n",
    "new_df[\"price\"] = new_df[\"price\"].str.replace(\",\", \"\")\n",
    "\n",
    "del new_df[0]\n",
    "del new_df[1]\n",
    "new_df.head()"
   ]
  }
 ],
 "metadata": {
  "kernelspec": {
   "display_name": "Python 3",
   "language": "python",
   "name": "python3"
  },
  "language_info": {
   "codemirror_mode": {
    "name": "ipython",
    "version": 3
   },
   "file_extension": ".py",
   "mimetype": "text/x-python",
   "name": "python",
   "nbconvert_exporter": "python",
   "pygments_lexer": "ipython3",
   "version": "3.7.3"
  }
 },
 "nbformat": 4,
 "nbformat_minor": 2
}
