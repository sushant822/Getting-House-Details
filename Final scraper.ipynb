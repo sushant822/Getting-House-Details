{
 "cells": [
  {
   "cell_type": "code",
   "execution_count": 1,
   "metadata": {},
   "outputs": [
    {
     "name": "stdout",
     "output_type": "stream",
     "text": [
      "Libraries imported!\n"
     ]
    }
   ],
   "source": [
    "import pandas as pd\n",
    "import numpy as np\n",
    "import requests\n",
    "from bs4 import BeautifulSoup\n",
    "import time\n",
    "from splinter import Browser\n",
    "import warnings\n",
    "warnings.filterwarnings('ignore')\n",
    "print('Libraries imported!')"
   ]
  },
  {
   "cell_type": "code",
   "execution_count": 2,
   "metadata": {},
   "outputs": [],
   "source": [
    "house_address = []\n",
    "house_details = []\n",
    "PostalCode = []\n",
    "Latitude = []\n",
    "Longitude = []\n",
    "YearBuilt = []\n",
    "\n",
    "base_url = 'https://www.remax.ca/ab/calgary-real-estate?page='\n",
    "urls = [base_url + str(x) for x in range(1,2)]\n",
    "\n",
    "for url in urls:\n",
    "    \n",
    "    #browser.visit(url)\n",
    "    time.sleep(5)\n",
    "\n",
    "    # Parse HTML with Beautiful Soup\n",
    "    response = requests.get(url)\n",
    "    soup = BeautifulSoup(response.text, 'html.parser')\n",
    "    \n",
    "    time.sleep(5)\n",
    "\n",
    "    try:\n",
    "        addresses = soup.find_all('div', class_='left-content flex-one')\n",
    "        for address in addresses:\n",
    "            house_address.append(address.text)\n",
    "    except:\n",
    "        house_address.append('None')\n",
    "        \n",
    "    time.sleep(5)\n",
    "        \n",
    "    try:\n",
    "        details = soup.find_all('div', class_='property-details')\n",
    "        for detail in details:\n",
    "            house_details.append(detail.text)\n",
    "    except:\n",
    "        house_details.append('None')\n",
    "        \n",
    "    time.sleep(5)\n",
    "        \n",
    "    house_details_more=[]\n",
    "    url_house = []\n",
    "        \n",
    "    try:\n",
    "        for detail in soup.find_all('a'):\n",
    "            house_details_more.append(detail.get('href'))\n",
    "    except:\n",
    "        house_details_more.append('None')\n",
    "    \n",
    "    time.sleep(5)\n",
    "\n",
    "    for i in house_details_more:\n",
    "        if '/ab/calgary-real-estate/' in str(i):\n",
    "            link = 'https://www.remax.ca' + str(i)\n",
    "            url_house.append(link)\n",
    "            \n",
    "    time.sleep(5)\n",
    "    \n",
    "    for i in url_house[:10]:\n",
    "    \n",
    "        time.sleep(5)\n",
    "\n",
    "        page = requests.get(i)\n",
    "        soup = BeautifulSoup(page.text, \"html.parser\")\n",
    "\n",
    "        lat_all = soup.find_all('script')[4]\n",
    "\n",
    "        string = ', '.join(lat_all)\n",
    "        pc = \"postalCode\"\n",
    "        position_pc = string.find(pc)\n",
    "        pcd = string[(position_pc+14):(position_pc+21)]\n",
    "        PostalCode.append(pcd)\n",
    "\n",
    "        lat = \"latitude\"\n",
    "        position_lat = string.find(lat)\n",
    "        latd = string[(position_lat+11):(position_lat+20)]\n",
    "        Latitude.append(latd)\n",
    "\n",
    "        long = \"longitude\"\n",
    "        position_long = string.find(long)\n",
    "        longd = string[(position_long+12):(position_long+23)]\n",
    "        Longitude.append(longd)\n",
    "\n",
    "        house_address = []\n",
    "\n",
    "        time.sleep(5)\n",
    "\n",
    "        try:\n",
    "            addresses = soup.find_all('section', class_='property-details')\n",
    "            for address in addresses:\n",
    "                house_address.append(address.text)\n",
    "        except:\n",
    "            house_address.append('None')\n",
    "\n",
    "        time.sleep(5)\n",
    "\n",
    "        string = ', '.join(house_address)\n",
    "        s_year = \"Year Built\"\n",
    "        position_year = string.find(s_year)\n",
    "        year_built = string[(position_year+12):(position_year+16)]\n",
    "        YearBuilt.append(year_built)\n",
    "\n",
    "        time.sleep(5)"
   ]
  },
  {
   "cell_type": "code",
   "execution_count": 6,
   "metadata": {},
   "outputs": [
    {
     "data": {
      "text/plain": [
       "['1977',\n",
       " '1964',\n",
       " '1974',\n",
       " '2011',\n",
       " '2010',\n",
       " '1955',\n",
       " '1999',\n",
       " '1976',\n",
       " '1999',\n",
       " '1999']"
      ]
     },
     "execution_count": 6,
     "metadata": {},
     "output_type": "execute_result"
    }
   ],
   "source": [
    "#PostalCode\n",
    "#Latitude\n",
    "#Longitude\n",
    "#YearBuilt"
   ]
  },
  {
   "cell_type": "code",
   "execution_count": 7,
   "metadata": {},
   "outputs": [
    {
     "data": {
      "text/html": [
       "<div>\n",
       "<style scoped>\n",
       "    .dataframe tbody tr th:only-of-type {\n",
       "        vertical-align: middle;\n",
       "    }\n",
       "\n",
       "    .dataframe tbody tr th {\n",
       "        vertical-align: top;\n",
       "    }\n",
       "\n",
       "    .dataframe thead th {\n",
       "        text-align: right;\n",
       "    }\n",
       "</style>\n",
       "<table border=\"1\" class=\"dataframe\">\n",
       "  <thead>\n",
       "    <tr style=\"text-align: right;\">\n",
       "      <th></th>\n",
       "      <th>2</th>\n",
       "      <th>price</th>\n",
       "    </tr>\n",
       "  </thead>\n",
       "  <tbody>\n",
       "    <tr>\n",
       "      <th>0</th>\n",
       "      <td>97 Prestwick Gardens SEProperty Type: Townhome...</td>\n",
       "      <td>for</td>\n",
       "    </tr>\n",
       "  </tbody>\n",
       "</table>\n",
       "</div>"
      ],
      "text/plain": [
       "                                                   2 price\n",
       "0  97 Prestwick Gardens SEProperty Type: Townhome...   for"
      ]
     },
     "execution_count": 7,
     "metadata": {},
     "output_type": "execute_result"
    }
   ],
   "source": [
    "address_df = pd.DataFrame(house_address)\n",
    "\n",
    "new_df = address_df[0].str.split(' ', 2, expand=True)\n",
    "new_df[\"price\"] = new_df[1].str.replace(\"$\", \"\")\n",
    "new_df[\"price\"] = new_df[\"price\"].str.replace(\",\", \"\")\n",
    "\n",
    "del new_df[0]\n",
    "del new_df[1]\n",
    "new_df.head()"
   ]
  },
  {
   "cell_type": "markdown",
   "metadata": {},
   "source": [
    "-----------"
   ]
  },
  {
   "cell_type": "markdown",
   "metadata": {},
   "source": [
    "<div class=\"alert alert-info\">\n",
    "    <b>UNSED</b>\n",
    "</div>"
   ]
  },
  {
   "cell_type": "code",
   "execution_count": 6,
   "metadata": {},
   "outputs": [
    {
     "data": {
      "text/plain": [
       "['https://www.remax.ca/ab/calgary-real-estate/4312-49-st-ne-wp_id282699451-lst',\n",
       " 'https://www.remax.ca/ab/calgary-real-estate/3916-vancouver-crescent-nw-wp_id282833251-lst',\n",
       " 'https://www.remax.ca/ab/calgary-real-estate/102-99-arbour-lake-road-nw-wp_id282825809-lst',\n",
       " 'https://www.remax.ca/ab/calgary-real-estate/63-cranarch-circle-se-wp_id282826543-lst',\n",
       " 'https://www.remax.ca/ab/calgary-real-estate/32-copperpond-close-se-wp_id282827182-lst',\n",
       " 'https://www.remax.ca/ab/calgary-real-estate/1408-43-street-sw-wp_id282826546-lst',\n",
       " 'https://www.remax.ca/ab/calgary-real-estate/1314-7451-springbank-boulevard-sw-wp_id282825813-lst',\n",
       " 'https://www.remax.ca/ab/calgary-real-estate/54-6103-madigan-drive-ne-wp_id282827181-lst',\n",
       " 'https://www.remax.ca/ab/calgary-real-estate/303-4-14-street-nw-wp_id282825548-lst',\n",
       " 'https://www.remax.ca/ab/calgary-real-estate/97-prestwick-gardens-se-wp_id282825546-lst',\n",
       " 'https://www.remax.ca/luxury/ab/calgary-real-estate/707-35-street-nw-wp_id282831352-lst',\n",
       " 'https://www.remax.ca/ab/calgary-real-estate/116-franklin-drive-se-wp_id282831367-lst',\n",
       " 'https://www.remax.ca/ab/calgary-real-estate/15-riverbirch-place-se-wp_id282827195-lst',\n",
       " 'https://www.remax.ca/ab/calgary-real-estate/1225-2395-eversyde-avenue-sw-wp_id282826775-lst',\n",
       " 'https://www.remax.ca/ab/calgary-real-estate/7744-46-avenue-nw-wp_id282827183-lst',\n",
       " 'https://www.remax.ca/ab/calgary-real-estate/137-saddlelake-grove-ne-wp_id282826344-lst',\n",
       " 'https://www.remax.ca/ab/calgary-real-estate/247-valley-pointe-way-nw-wp_id282831355-lst',\n",
       " 'https://www.remax.ca/ab/calgary-real-estate/3810-catalina-boulevard-ne-wp_id282826335-lst',\n",
       " 'https://www.remax.ca/ab/calgary-real-estate/956-nolan-hill-boulevard-nw-wp_id282825808-lst',\n",
       " 'https://www.remax.ca/ab/calgary-real-estate/6408-tregillus-street-nw-wp_id282835659-lst',\n",
       " 'https://www.remax.ca/ab/calgary-real-estate/4312-49-st-ne-wp_id282699451-lst',\n",
       " 'https://www.remax.ca/ab/calgary-real-estate/3916-vancouver-crescent-nw-wp_id282833251-lst',\n",
       " 'https://www.remax.ca/ab/calgary-real-estate/102-99-arbour-lake-road-nw-wp_id282825809-lst',\n",
       " 'https://www.remax.ca/ab/calgary-real-estate/63-cranarch-circle-se-wp_id282826543-lst',\n",
       " 'https://www.remax.ca/ab/calgary-real-estate/32-copperpond-close-se-wp_id282827182-lst',\n",
       " 'https://www.remax.ca/ab/calgary-real-estate/1408-43-street-sw-wp_id282826546-lst',\n",
       " 'https://www.remax.ca/ab/calgary-real-estate/1314-7451-springbank-boulevard-sw-wp_id282825813-lst',\n",
       " 'https://www.remax.ca/ab/calgary-real-estate/54-6103-madigan-drive-ne-wp_id282827181-lst',\n",
       " 'https://www.remax.ca/ab/calgary-real-estate/303-4-14-street-nw-wp_id282825548-lst',\n",
       " 'https://www.remax.ca/ab/calgary-real-estate/97-prestwick-gardens-se-wp_id282825546-lst',\n",
       " 'https://www.remax.ca/luxury/ab/calgary-real-estate/707-35-street-nw-wp_id282831352-lst',\n",
       " 'https://www.remax.ca/ab/calgary-real-estate/116-franklin-drive-se-wp_id282831367-lst',\n",
       " 'https://www.remax.ca/ab/calgary-real-estate/15-riverbirch-place-se-wp_id282827195-lst',\n",
       " 'https://www.remax.ca/ab/calgary-real-estate/1225-2395-eversyde-avenue-sw-wp_id282826775-lst',\n",
       " 'https://www.remax.ca/ab/calgary-real-estate/7744-46-avenue-nw-wp_id282827183-lst',\n",
       " 'https://www.remax.ca/ab/calgary-real-estate/137-saddlelake-grove-ne-wp_id282826344-lst',\n",
       " 'https://www.remax.ca/ab/calgary-real-estate/247-valley-pointe-way-nw-wp_id282831355-lst',\n",
       " 'https://www.remax.ca/ab/calgary-real-estate/3810-catalina-boulevard-ne-wp_id282826335-lst',\n",
       " 'https://www.remax.ca/ab/calgary-real-estate/956-nolan-hill-boulevard-nw-wp_id282825808-lst',\n",
       " 'https://www.remax.ca/ab/calgary-real-estate/6408-tregillus-street-nw-wp_id282835659-lst',\n",
       " 'https://www.remax.ca/ab/calgary-real-estate/4312-49-st-ne-wp_id282699451-lst',\n",
       " 'https://www.remax.ca/ab/calgary-real-estate/3916-vancouver-crescent-nw-wp_id282833251-lst',\n",
       " 'https://www.remax.ca/ab/calgary-real-estate/102-99-arbour-lake-road-nw-wp_id282825809-lst',\n",
       " 'https://www.remax.ca/ab/calgary-real-estate/63-cranarch-circle-se-wp_id282826543-lst',\n",
       " 'https://www.remax.ca/ab/calgary-real-estate/32-copperpond-close-se-wp_id282827182-lst',\n",
       " 'https://www.remax.ca/ab/calgary-real-estate/1408-43-street-sw-wp_id282826546-lst',\n",
       " 'https://www.remax.ca/ab/calgary-real-estate/1314-7451-springbank-boulevard-sw-wp_id282825813-lst',\n",
       " 'https://www.remax.ca/ab/calgary-real-estate/54-6103-madigan-drive-ne-wp_id282827181-lst',\n",
       " 'https://www.remax.ca/ab/calgary-real-estate/303-4-14-street-nw-wp_id282825548-lst',\n",
       " 'https://www.remax.ca/ab/calgary-real-estate/97-prestwick-gardens-se-wp_id282825546-lst',\n",
       " 'https://www.remax.ca/luxury/ab/calgary-real-estate/707-35-street-nw-wp_id282831352-lst',\n",
       " 'https://www.remax.ca/ab/calgary-real-estate/116-franklin-drive-se-wp_id282831367-lst',\n",
       " 'https://www.remax.ca/ab/calgary-real-estate/15-riverbirch-place-se-wp_id282827195-lst',\n",
       " 'https://www.remax.ca/ab/calgary-real-estate/1225-2395-eversyde-avenue-sw-wp_id282826775-lst',\n",
       " 'https://www.remax.ca/ab/calgary-real-estate/7744-46-avenue-nw-wp_id282827183-lst',\n",
       " 'https://www.remax.ca/ab/calgary-real-estate/137-saddlelake-grove-ne-wp_id282826344-lst',\n",
       " 'https://www.remax.ca/ab/calgary-real-estate/247-valley-pointe-way-nw-wp_id282831355-lst',\n",
       " 'https://www.remax.ca/ab/calgary-real-estate/3810-catalina-boulevard-ne-wp_id282826335-lst',\n",
       " 'https://www.remax.ca/ab/calgary-real-estate/956-nolan-hill-boulevard-nw-wp_id282825808-lst',\n",
       " 'https://www.remax.ca/ab/calgary-real-estate/6408-tregillus-street-nw-wp_id282835659-lst']"
      ]
     },
     "execution_count": 6,
     "metadata": {},
     "output_type": "execute_result"
    }
   ],
   "source": [
    "house_details_more=[]\n",
    "url_house = []\n",
    "try:\n",
    "    for detail in soup.find_all('a'):\n",
    "        house_details_more.append(detail.get('href'))\n",
    "except:\n",
    "    house_details_more.append('None')\n",
    "    \n",
    "for i in house_details_more:\n",
    "    if '/ab/calgary-real-estate/' in str(i):\n",
    "        link = 'https://www.remax.ca' + str(i)\n",
    "        url_house.append(link)\n",
    "url_house"
   ]
  },
  {
   "cell_type": "code",
   "execution_count": 16,
   "metadata": {},
   "outputs": [
    {
     "data": {
      "text/plain": [
       "['https://www.remax.ca/ab/calgary-real-estate/4312-49-st-ne-wp_id282699451-lst',\n",
       " 'https://www.remax.ca/ab/calgary-real-estate/3916-vancouver-crescent-nw-wp_id282833251-lst',\n",
       " 'https://www.remax.ca/ab/calgary-real-estate/102-99-arbour-lake-road-nw-wp_id282825809-lst',\n",
       " 'https://www.remax.ca/ab/calgary-real-estate/63-cranarch-circle-se-wp_id282826543-lst',\n",
       " 'https://www.remax.ca/ab/calgary-real-estate/32-copperpond-close-se-wp_id282827182-lst']"
      ]
     },
     "execution_count": 16,
     "metadata": {},
     "output_type": "execute_result"
    }
   ],
   "source": [
    "url_house[:5]"
   ]
  },
  {
   "cell_type": "code",
   "execution_count": 26,
   "metadata": {},
   "outputs": [],
   "source": [
    "PostalCode = []\n",
    "Latitude = []\n",
    "Longitude = []\n",
    "YearBuilt = []\n",
    "\n",
    "for i in url_house[:5]:\n",
    "    \n",
    "    time.sleep(5)\n",
    "    \n",
    "    page = requests.get(i)\n",
    "    soup = BeautifulSoup(page.text, \"html.parser\")\n",
    "    \n",
    "    lat_all = soup.find_all('script')[4]\n",
    "    \n",
    "    string = ', '.join(lat_all)\n",
    "    pc = \"postalCode\"\n",
    "    position_pc = string.find(pc)\n",
    "    pcd = string[(position_pc+14):(position_pc+21)]\n",
    "    PostalCode.append(pcd)\n",
    "\n",
    "    lat = \"latitude\"\n",
    "    position_lat = string.find(lat)\n",
    "    latd = string[(position_lat+11):(position_lat+20)]\n",
    "    Latitude.append(latd)\n",
    "\n",
    "    long = \"longitude\"\n",
    "    position_long = string.find(long)\n",
    "    longd = string[(position_long+12):(position_long+23)]\n",
    "    Longitude.append(longd)\n",
    "    \n",
    "    house_address = []\n",
    "    \n",
    "    time.sleep(5)\n",
    "    \n",
    "    try:\n",
    "        addresses = soup.find_all('section', class_='property-details')\n",
    "        for address in addresses:\n",
    "            house_address.append(address.text)\n",
    "    except:\n",
    "        house_address.append('None')\n",
    "    \n",
    "    time.sleep(5)\n",
    "    \n",
    "    string = ', '.join(house_address)\n",
    "    s_year = \"Year Built\"\n",
    "    position_year = string.find(s_year)\n",
    "    year_built = string[(position_year+12):(position_year+16)]\n",
    "    YearBuilt.append(year_built)"
   ]
  },
  {
   "cell_type": "code",
   "execution_count": null,
   "metadata": {},
   "outputs": [],
   "source": []
  }
 ],
 "metadata": {
  "kernelspec": {
   "display_name": "Python 3",
   "language": "python",
   "name": "python3"
  },
  "language_info": {
   "codemirror_mode": {
    "name": "ipython",
    "version": 3
   },
   "file_extension": ".py",
   "mimetype": "text/x-python",
   "name": "python",
   "nbconvert_exporter": "python",
   "pygments_lexer": "ipython3",
   "version": "3.7.3"
  }
 },
 "nbformat": 4,
 "nbformat_minor": 2
}
