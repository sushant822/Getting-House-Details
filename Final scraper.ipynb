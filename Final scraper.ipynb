{
 "cells": [
  {
   "cell_type": "code",
   "execution_count": 1,
   "metadata": {},
   "outputs": [
    {
     "name": "stdout",
     "output_type": "stream",
     "text": [
      "Libraries imported!\n"
     ]
    }
   ],
   "source": [
    "import pandas as pd\n",
    "import numpy as np\n",
    "import requests\n",
    "from bs4 import BeautifulSoup\n",
    "import time\n",
    "from math import sin, cos, sqrt, atan2, radians\n",
    "import re\n",
    "import warnings\n",
    "warnings.filterwarnings('ignore')\n",
    "print('Libraries imported!')"
   ]
  },
  {
   "cell_type": "code",
   "execution_count": 2,
   "metadata": {},
   "outputs": [],
   "source": [
    "house_address_all = []\n",
    "house_details_all = []\n",
    "house_address = []\n",
    "house_details = []\n",
    "postal_code_array = []\n",
    "latitude_array = []\n",
    "longitude_array = []\n",
    "year_built_array = []\n",
    "payment_monthly = []\n",
    "lot_size = []\n",
    "basement = []\n",
    "garage = []\n",
    "mlsa = []\n",
    "mls_array = []\n",
    "\n",
    "base_url = 'https://www.remax.ca/ab/calgary-real-estate?page='\n",
    "urls = [base_url + str(x) for x in range(1,2)]\n",
    "\n",
    "for url in urls:\n",
    "    \n",
    "    #browser.visit(url)\n",
    "    time.sleep(5)\n",
    "\n",
    "    # Parse HTML with Beautiful Soup\n",
    "    response = requests.get(url)\n",
    "    soup = BeautifulSoup(response.text, 'html.parser')\n",
    "    \n",
    "    #time.sleep(5)\n",
    "    \n",
    "    for each in soup.find_all(class_= \"card-text ng-star-inserted\" ):\n",
    "        try: \n",
    "            mls = each.find(class_='mlsNumber').text.replace('MLS® #: ', '')\n",
    "            mls_array.append(mls)\n",
    "        except:\n",
    "            mls_array.append(np.nan)\n",
    "\n",
    "    try:\n",
    "        addresses = soup.find_all('div', class_='left-content flex-one')\n",
    "        for address in addresses:\n",
    "            house_address_all.append(address.text)\n",
    "    except:\n",
    "        house_address_all.append('None')\n",
    "        \n",
    "    #time.sleep(5)\n",
    "        \n",
    "    try:\n",
    "        details = soup.find_all('div', class_='property-details')\n",
    "        for detail in details:\n",
    "            house_details_all.append(detail.text)\n",
    "    except:\n",
    "        house_details_all.append('None')\n",
    "        \n",
    "    #time.sleep(5)\n",
    "        \n",
    "    house_details_more=[]\n",
    "    url_house = []\n",
    "        \n",
    "    try:\n",
    "        for detail in soup.find_all('a'):\n",
    "            house_details_more.append(detail.get('href'))\n",
    "    except:\n",
    "        house_details_more.append('None')\n",
    "    \n",
    "    #time.sleep(5)\n",
    "\n",
    "    for i in house_details_more:\n",
    "        if '/ab/calgary-real-estate/' in str(i):\n",
    "            link = 'https://www.remax.ca' + str(i)\n",
    "            url_house.append(link)\n",
    "            \n",
    "    #time.sleep(5)\n",
    "    \n",
    "    for i in url_house:\n",
    "    \n",
    "        time.sleep(5)\n",
    "\n",
    "        page = requests.get(i)\n",
    "        soup = BeautifulSoup(page.text, \"html.parser\")\n",
    "\n",
    "        #lat_all = soup.find_all('script')[3]\n",
    "        lat3 = soup.find_all('script')[3]\n",
    "        lat4 = soup.find_all('script')[4]\n",
    "        \n",
    "        string3 = ', '.join(lat3)\n",
    "        string4 = ', '.join(lat4)\n",
    "        \n",
    "        #string = ', '.join(lat_all)\n",
    "        #pc = \"postalCode\"\n",
    "        #position_pc = string.find(pc)\n",
    "        #pcd = string[(position_pc+14):(position_pc+20)]\n",
    "        #postal_code_array.append(pcd)\n",
    "        \n",
    "        lat = \"latitude\"\n",
    "        if lat in string3:\n",
    "            position_lat = string3.find(lat)\n",
    "            latd = string3[(position_lat+11):(position_lat+20)]\n",
    "            latitude_array.append(latd)\n",
    "        elif lat in string4:\n",
    "            position_lat = string4.find(lat)\n",
    "            latd = string4[(position_lat+11):(position_lat+20)]\n",
    "            latitude_array.append(latd)\n",
    "\n",
    "        long = \"longitude\"\n",
    "        if long in string3:\n",
    "            position_lat = string3.find(long)\n",
    "            latd = string3[(position_lat+11):(position_lat+20)]\n",
    "            longitude_array.append(latd)\n",
    "        elif long in string4:\n",
    "            position_lat = string4.find(long)\n",
    "            latd = string4[(position_lat+11):(position_lat+20)]\n",
    "            longitude_array.append(latd)\n",
    "\n",
    "        house_address = []\n",
    "\n",
    "        #time.sleep(5)\n",
    "\n",
    "        try:\n",
    "            addresses = soup.find_all('section', class_='property-details')\n",
    "            for address in addresses:\n",
    "                house_address.append(address.text)\n",
    "        except:\n",
    "            house_address.append('None')\n",
    "\n",
    "        #time.sleep(5)\n",
    "\n",
    "        string = ', '.join(house_address)\n",
    "        s_year = \"Year Built: \"\n",
    "        if s_year in string:            \n",
    "            position_year = string.find(s_year)\n",
    "            year_built = string[(position_year+12):(position_year+16)]\n",
    "            year_built_array.append(year_built)\n",
    "        else:\n",
    "            year_built_array.append(np.nan)\n",
    "        \n",
    "        s_lot = \"Lot Size: \"\n",
    "        if s_lot in string:\n",
    "            try:\n",
    "                start = string.rindex(s_lot) + len(s_lot)\n",
    "                end = string.rindex(\"Occupancy\", start )\n",
    "                lot_size.append(string[start:end])\n",
    "            except:\n",
    "                lot_size.append(np.nan)\n",
    "        else:\n",
    "            lot_size.append(np.nan)\n",
    "        \n",
    "        basement_yn = \"Basement\"\n",
    "        if basement_yn in string:\n",
    "            basement.append(1)\n",
    "        else:\n",
    "            basement.append(0)\n",
    "            \n",
    "        garage_yn = \"Garage\"\n",
    "        if garage_yn in string:\n",
    "            garage.append(1)\n",
    "        else:\n",
    "            garage.append(0)\n",
    "        \n",
    "        try:\n",
    "            payment = soup.find(class_=\"payment-amount\").text\n",
    "            payment_monthly.append(payment)\n",
    "        except:\n",
    "            payment_monthly.append(np.nan)\n",
    "        \n",
    "        #result = re.search('MLSÂ® #: (.*)Ownership', string)\n",
    "        #result_app = result.group(1)\n",
    "        #mlsa.append(result.group(1))\n",
    "        \n",
    "        mlsa_number = \"MLSÂ® #: \"\n",
    "        try:\n",
    "            start = string.rindex(mlsa_number) + len(mlsa_number)\n",
    "            end = string.rindex(\"Ownership\", start )\n",
    "            mlsa.append(string[start:end])\n",
    "        except:\n",
    "            #mlsa_pos = string.find(mlsa_number)\n",
    "            #mlsa_temp = string[(mlsa_pos+8):(mlsa_pos+16)]\n",
    "            mlsa.append(np.nan)\n",
    "\n",
    "        #time.sleep(5)"
   ]
  },
  {
   "cell_type": "code",
   "execution_count": 3,
   "metadata": {},
   "outputs": [
    {
     "data": {
      "text/plain": [
       "['51.143517', '51.060892', '51.041044', '51.103611', '51.00287,']"
      ]
     },
     "execution_count": 3,
     "metadata": {},
     "output_type": "execute_result"
    }
   ],
   "source": [
    "latitude_array[:5]"
   ]
  },
  {
   "cell_type": "code",
   "execution_count": 4,
   "metadata": {},
   "outputs": [
    {
     "data": {
      "text/plain": [
       "[' -114.152', ' -113.959', ' -114.029', ' -114.163', ' -114.129']"
      ]
     },
     "execution_count": 4,
     "metadata": {},
     "output_type": "execute_result"
    }
   ],
   "source": [
    "longitude_array[:5]"
   ]
  },
  {
   "cell_type": "code",
   "execution_count": 5,
   "metadata": {},
   "outputs": [
    {
     "data": {
      "text/html": [
       "<div>\n",
       "<style scoped>\n",
       "    .dataframe tbody tr th:only-of-type {\n",
       "        vertical-align: middle;\n",
       "    }\n",
       "\n",
       "    .dataframe tbody tr th {\n",
       "        vertical-align: top;\n",
       "    }\n",
       "\n",
       "    .dataframe thead th {\n",
       "        text-align: right;\n",
       "    }\n",
       "</style>\n",
       "<table border=\"1\" class=\"dataframe\">\n",
       "  <thead>\n",
       "    <tr style=\"text-align: right;\">\n",
       "      <th></th>\n",
       "      <th>0</th>\n",
       "    </tr>\n",
       "  </thead>\n",
       "  <tbody>\n",
       "    <tr>\n",
       "      <th>0</th>\n",
       "      <td>MLSÂ® #: A1046648</td>\n",
       "    </tr>\n",
       "    <tr>\n",
       "      <th>1</th>\n",
       "      <td>MLSÂ® #: A1046959</td>\n",
       "    </tr>\n",
       "    <tr>\n",
       "      <th>2</th>\n",
       "      <td>MLSÂ® #: A1046689</td>\n",
       "    </tr>\n",
       "    <tr>\n",
       "      <th>3</th>\n",
       "      <td>MLSÂ® #: A1046941</td>\n",
       "    </tr>\n",
       "    <tr>\n",
       "      <th>4</th>\n",
       "      <td>MLSÂ® #: A1046898</td>\n",
       "    </tr>\n",
       "  </tbody>\n",
       "</table>\n",
       "</div>"
      ],
      "text/plain": [
       "                   0\n",
       "0  MLSÂ® #: A1046648\n",
       "1  MLSÂ® #: A1046959\n",
       "2  MLSÂ® #: A1046689\n",
       "3  MLSÂ® #: A1046941\n",
       "4  MLSÂ® #: A1046898"
      ]
     },
     "execution_count": 5,
     "metadata": {},
     "output_type": "execute_result"
    }
   ],
   "source": [
    "mls_array_df_temp = pd.DataFrame(mls_array)\n",
    "mls_array_df_temp.head()"
   ]
  },
  {
   "cell_type": "code",
   "execution_count": 6,
   "metadata": {},
   "outputs": [
    {
     "data": {
      "text/plain": [
       "0    A1046648\n",
       "1    A1046959\n",
       "2    A1046689\n",
       "3    A1046941\n",
       "4    A1046898\n",
       "Name: 1, dtype: object"
      ]
     },
     "execution_count": 6,
     "metadata": {},
     "output_type": "execute_result"
    }
   ],
   "source": [
    "mls_array_df = mls_array_df_temp[0].str.split(\"MLSÂ® #: \", 1, expand=True)\n",
    "mls_array_df[1].head()"
   ]
  },
  {
   "cell_type": "code",
   "execution_count": 7,
   "metadata": {},
   "outputs": [
    {
     "data": {
      "text/html": [
       "<div>\n",
       "<style scoped>\n",
       "    .dataframe tbody tr th:only-of-type {\n",
       "        vertical-align: middle;\n",
       "    }\n",
       "\n",
       "    .dataframe tbody tr th {\n",
       "        vertical-align: top;\n",
       "    }\n",
       "\n",
       "    .dataframe thead th {\n",
       "        text-align: right;\n",
       "    }\n",
       "</style>\n",
       "<table border=\"1\" class=\"dataframe\">\n",
       "  <thead>\n",
       "    <tr style=\"text-align: right;\">\n",
       "      <th></th>\n",
       "      <th>2</th>\n",
       "      <th>price</th>\n",
       "    </tr>\n",
       "  </thead>\n",
       "  <tbody>\n",
       "    <tr>\n",
       "      <th>0</th>\n",
       "      <td>27 HAMPTONS HEATH NW, Calgary, AB, T3A 5E8</td>\n",
       "      <td>576800</td>\n",
       "    </tr>\n",
       "    <tr>\n",
       "      <th>1</th>\n",
       "      <td>28 MARCOMBE PL NE, Calgary, AB, T2A 4H9</td>\n",
       "      <td>389900</td>\n",
       "    </tr>\n",
       "    <tr>\n",
       "      <th>2</th>\n",
       "      <td>7 NEW ST SE, Calgary, AB, T2G 3X8</td>\n",
       "      <td>899900</td>\n",
       "    </tr>\n",
       "    <tr>\n",
       "      <th>3</th>\n",
       "      <td>402 - 16 VARSITY ESTATES CIR NW, Calgary, AB, ...</td>\n",
       "      <td>455000</td>\n",
       "    </tr>\n",
       "    <tr>\n",
       "      <th>4</th>\n",
       "      <td>1416 - 5605 HENWOOD ST SW, Calgary, AB, T3E 7R2</td>\n",
       "      <td>295000</td>\n",
       "    </tr>\n",
       "  </tbody>\n",
       "</table>\n",
       "</div>"
      ],
      "text/plain": [
       "                                                   2   price\n",
       "0         27 HAMPTONS HEATH NW, Calgary, AB, T3A 5E8  576800\n",
       "1            28 MARCOMBE PL NE, Calgary, AB, T2A 4H9  389900\n",
       "2                  7 NEW ST SE, Calgary, AB, T2G 3X8  899900\n",
       "3  402 - 16 VARSITY ESTATES CIR NW, Calgary, AB, ...  455000\n",
       "4    1416 - 5605 HENWOOD ST SW, Calgary, AB, T3E 7R2  295000"
      ]
     },
     "execution_count": 7,
     "metadata": {},
     "output_type": "execute_result"
    }
   ],
   "source": [
    "address_df = pd.DataFrame(house_address_all)\n",
    "\n",
    "new_df = address_df[0].str.split(' ', 2, expand=True)\n",
    "new_df[\"price\"] = new_df[1].str.replace(\"$\", \"\")\n",
    "new_df[\"price\"] = new_df[\"price\"].str.replace(\",\", \"\")\n",
    "new_df[\"price\"] = pd.to_numeric(new_df[\"price\"])\n",
    "\n",
    "del new_df[0]\n",
    "del new_df[1]\n",
    "new_df.head()"
   ]
  },
  {
   "cell_type": "code",
   "execution_count": 8,
   "metadata": {
    "scrolled": true
   },
   "outputs": [
    {
     "data": {
      "text/html": [
       "<div>\n",
       "<style scoped>\n",
       "    .dataframe tbody tr th:only-of-type {\n",
       "        vertical-align: middle;\n",
       "    }\n",
       "\n",
       "    .dataframe tbody tr th {\n",
       "        vertical-align: top;\n",
       "    }\n",
       "\n",
       "    .dataframe thead th {\n",
       "        text-align: right;\n",
       "    }\n",
       "</style>\n",
       "<table border=\"1\" class=\"dataframe\">\n",
       "  <thead>\n",
       "    <tr style=\"text-align: right;\">\n",
       "      <th></th>\n",
       "      <th>0</th>\n",
       "      <th>1</th>\n",
       "    </tr>\n",
       "  </thead>\n",
       "  <tbody>\n",
       "    <tr>\n",
       "      <th>0</th>\n",
       "      <td>27 HAMPTONS HEATH NW</td>\n",
       "      <td>T3A 5E8</td>\n",
       "    </tr>\n",
       "    <tr>\n",
       "      <th>1</th>\n",
       "      <td>28 MARCOMBE PL NE</td>\n",
       "      <td>T2A 4H9</td>\n",
       "    </tr>\n",
       "    <tr>\n",
       "      <th>2</th>\n",
       "      <td>7 NEW ST SE</td>\n",
       "      <td>T2G 3X8</td>\n",
       "    </tr>\n",
       "    <tr>\n",
       "      <th>3</th>\n",
       "      <td>402 - 16 VARSITY ESTATES CIR NW</td>\n",
       "      <td>T3A 2C5</td>\n",
       "    </tr>\n",
       "    <tr>\n",
       "      <th>4</th>\n",
       "      <td>1416 - 5605 HENWOOD ST SW</td>\n",
       "      <td>T3E 7R2</td>\n",
       "    </tr>\n",
       "  </tbody>\n",
       "</table>\n",
       "</div>"
      ],
      "text/plain": [
       "                                 0        1\n",
       "0             27 HAMPTONS HEATH NW  T3A 5E8\n",
       "1                28 MARCOMBE PL NE  T2A 4H9\n",
       "2                      7 NEW ST SE  T2G 3X8\n",
       "3  402 - 16 VARSITY ESTATES CIR NW  T3A 2C5\n",
       "4        1416 - 5605 HENWOOD ST SW  T3E 7R2"
      ]
     },
     "execution_count": 8,
     "metadata": {},
     "output_type": "execute_result"
    }
   ],
   "source": [
    "final_df_pc = new_df[2].str.split(', Calgary, AB, ', expand=True)\n",
    "final_df_pc.head()"
   ]
  },
  {
   "cell_type": "code",
   "execution_count": 9,
   "metadata": {
    "scrolled": true
   },
   "outputs": [
    {
     "data": {
      "text/plain": [
       "0    T3A 5E8\n",
       "1    T2A 4H9\n",
       "2    T2G 3X8\n",
       "3    T3A 2C5\n",
       "4    T3E 7R2\n",
       "Name: 1, dtype: object"
      ]
     },
     "execution_count": 9,
     "metadata": {},
     "output_type": "execute_result"
    }
   ],
   "source": [
    "#final_df_pc_clean = final_df_pc[1].str.replace(\" \", \"\")\n",
    "final_df_pc_clean = final_df_pc[1]\n",
    "final_df_pc_clean.head()"
   ]
  },
  {
   "cell_type": "code",
   "execution_count": 10,
   "metadata": {},
   "outputs": [
    {
     "data": {
      "text/html": [
       "<div>\n",
       "<style scoped>\n",
       "    .dataframe tbody tr th:only-of-type {\n",
       "        vertical-align: middle;\n",
       "    }\n",
       "\n",
       "    .dataframe tbody tr th {\n",
       "        vertical-align: top;\n",
       "    }\n",
       "\n",
       "    .dataframe thead th {\n",
       "        text-align: right;\n",
       "    }\n",
       "</style>\n",
       "<table border=\"1\" class=\"dataframe\">\n",
       "  <thead>\n",
       "    <tr style=\"text-align: right;\">\n",
       "      <th></th>\n",
       "      <th>price</th>\n",
       "      <th>postal_code</th>\n",
       "      <th>address</th>\n",
       "      <th>mls</th>\n",
       "    </tr>\n",
       "  </thead>\n",
       "  <tbody>\n",
       "    <tr>\n",
       "      <th>0</th>\n",
       "      <td>576800</td>\n",
       "      <td>T3A 5E8</td>\n",
       "      <td>27 HAMPTONS HEATH NW</td>\n",
       "      <td>A1046648</td>\n",
       "    </tr>\n",
       "    <tr>\n",
       "      <th>1</th>\n",
       "      <td>389900</td>\n",
       "      <td>T2A 4H9</td>\n",
       "      <td>28 MARCOMBE PL NE</td>\n",
       "      <td>A1046959</td>\n",
       "    </tr>\n",
       "    <tr>\n",
       "      <th>2</th>\n",
       "      <td>899900</td>\n",
       "      <td>T2G 3X8</td>\n",
       "      <td>7 NEW ST SE</td>\n",
       "      <td>A1046689</td>\n",
       "    </tr>\n",
       "    <tr>\n",
       "      <th>3</th>\n",
       "      <td>455000</td>\n",
       "      <td>T3A 2C5</td>\n",
       "      <td>402 - 16 VARSITY ESTATES CIR NW</td>\n",
       "      <td>A1046941</td>\n",
       "    </tr>\n",
       "    <tr>\n",
       "      <th>4</th>\n",
       "      <td>295000</td>\n",
       "      <td>T3E 7R2</td>\n",
       "      <td>1416 - 5605 HENWOOD ST SW</td>\n",
       "      <td>A1046898</td>\n",
       "    </tr>\n",
       "  </tbody>\n",
       "</table>\n",
       "</div>"
      ],
      "text/plain": [
       "    price postal_code                          address       mls\n",
       "0  576800     T3A 5E8             27 HAMPTONS HEATH NW  A1046648\n",
       "1  389900     T2A 4H9                28 MARCOMBE PL NE  A1046959\n",
       "2  899900     T2G 3X8                      7 NEW ST SE  A1046689\n",
       "3  455000     T3A 2C5  402 - 16 VARSITY ESTATES CIR NW  A1046941\n",
       "4  295000     T3E 7R2        1416 - 5605 HENWOOD ST SW  A1046898"
      ]
     },
     "execution_count": 10,
     "metadata": {},
     "output_type": "execute_result"
    }
   ],
   "source": [
    "df_add = pd.concat([new_df, final_df_pc_clean, final_df_pc[0], mls_array_df[1]], axis=1)\n",
    "del df_add[2]\n",
    "df_add.columns = [\"price\", \"postal_code\", \"address\", \"mls\"]\n",
    "df_add.head()"
   ]
  },
  {
   "cell_type": "code",
   "execution_count": 11,
   "metadata": {},
   "outputs": [
    {
     "data": {
      "text/html": [
       "<div>\n",
       "<style scoped>\n",
       "    .dataframe tbody tr th:only-of-type {\n",
       "        vertical-align: middle;\n",
       "    }\n",
       "\n",
       "    .dataframe tbody tr th {\n",
       "        vertical-align: top;\n",
       "    }\n",
       "\n",
       "    .dataframe thead th {\n",
       "        text-align: right;\n",
       "    }\n",
       "</style>\n",
       "<table border=\"1\" class=\"dataframe\">\n",
       "  <thead>\n",
       "    <tr style=\"text-align: right;\">\n",
       "      <th></th>\n",
       "      <th>0</th>\n",
       "      <th>1</th>\n",
       "      <th>2</th>\n",
       "      <th>3</th>\n",
       "    </tr>\n",
       "  </thead>\n",
       "  <tbody>\n",
       "    <tr>\n",
       "      <th>0</th>\n",
       "      <td>4 bed</td>\n",
       "      <td>3 + 1 bath</td>\n",
       "      <td>1891 sqft</td>\n",
       "      <td>house</td>\n",
       "    </tr>\n",
       "    <tr>\n",
       "      <th>1</th>\n",
       "      <td>5 bed</td>\n",
       "      <td>2 + 1 bath</td>\n",
       "      <td>1133 sqft</td>\n",
       "      <td>house</td>\n",
       "    </tr>\n",
       "    <tr>\n",
       "      <th>2</th>\n",
       "      <td>4 bed</td>\n",
       "      <td>2 bath</td>\n",
       "      <td>1216 sqft</td>\n",
       "      <td>house</td>\n",
       "    </tr>\n",
       "    <tr>\n",
       "      <th>3</th>\n",
       "      <td>2 bed</td>\n",
       "      <td>2 bath</td>\n",
       "      <td>1281 sqft</td>\n",
       "      <td>condo</td>\n",
       "    </tr>\n",
       "    <tr>\n",
       "      <th>4</th>\n",
       "      <td>2 bed</td>\n",
       "      <td>2 bath</td>\n",
       "      <td>887 sqft</td>\n",
       "      <td>condo</td>\n",
       "    </tr>\n",
       "  </tbody>\n",
       "</table>\n",
       "</div>"
      ],
      "text/plain": [
       "       0           1          2      3\n",
       "0  4 bed  3 + 1 bath  1891 sqft  house\n",
       "1  5 bed  2 + 1 bath  1133 sqft  house\n",
       "2  4 bed      2 bath  1216 sqft  house\n",
       "3  2 bed      2 bath  1281 sqft  condo\n",
       "4  2 bed      2 bath   887 sqft  condo"
      ]
     },
     "execution_count": 11,
     "metadata": {},
     "output_type": "execute_result"
    }
   ],
   "source": [
    "details = pd.DataFrame(house_details_all)\n",
    "details_df_temp = details[0].str.split('|', expand=True)\n",
    "details_df_temp.head()"
   ]
  },
  {
   "cell_type": "code",
   "execution_count": 12,
   "metadata": {},
   "outputs": [],
   "source": [
    "details_df_bed = details_df_temp[0].str.replace(' bed', '')\n",
    "details_df_bath = details_df_temp[1].str.replace(' bath', '')\n",
    "details_df_area = details_df_temp[2].str.replace(' sqft', '')"
   ]
  },
  {
   "cell_type": "code",
   "execution_count": 13,
   "metadata": {},
   "outputs": [],
   "source": [
    "details_df_bath_all = details_df_bath.str.split('+', expand=True)\n",
    "details_df_bath_full = details_df_bath_all[0]\n",
    "details_df_bath_half = details_df_bath_all[1]"
   ]
  },
  {
   "cell_type": "code",
   "execution_count": 14,
   "metadata": {},
   "outputs": [],
   "source": [
    "details_df_bed = details_df_bed.replace('N/A', np.nan)\n",
    "details_df_bed = pd.to_numeric(details_df_bed)\n",
    "details_df_area = details_df_area.replace('N/A', np.nan)\n",
    "details_df_area = pd.to_numeric(details_df_area)\n",
    "details_df_bath_full = details_df_bath_full.replace('N/A', np.nan)\n",
    "details_df_bath_full = pd.to_numeric(details_df_bath_full)\n",
    "details_df_bath_half = details_df_bath_half.replace('N/A', int(0))\n",
    "details_df_bath_half = pd.to_numeric(details_df_bath_half)"
   ]
  },
  {
   "cell_type": "code",
   "execution_count": 15,
   "metadata": {},
   "outputs": [],
   "source": [
    "data = {'bed':details_df_bed, 'full_bath':details_df_bath_full, 'half_bath':details_df_bath_half,\n",
    "       'property_area':details_df_area, 'property_type':details_df_temp[3]}"
   ]
  },
  {
   "cell_type": "code",
   "execution_count": 16,
   "metadata": {},
   "outputs": [
    {
     "data": {
      "text/html": [
       "<div>\n",
       "<style scoped>\n",
       "    .dataframe tbody tr th:only-of-type {\n",
       "        vertical-align: middle;\n",
       "    }\n",
       "\n",
       "    .dataframe tbody tr th {\n",
       "        vertical-align: top;\n",
       "    }\n",
       "\n",
       "    .dataframe thead th {\n",
       "        text-align: right;\n",
       "    }\n",
       "</style>\n",
       "<table border=\"1\" class=\"dataframe\">\n",
       "  <thead>\n",
       "    <tr style=\"text-align: right;\">\n",
       "      <th></th>\n",
       "      <th>bed</th>\n",
       "      <th>full_bath</th>\n",
       "      <th>half_bath</th>\n",
       "      <th>property_area</th>\n",
       "      <th>property_type</th>\n",
       "    </tr>\n",
       "  </thead>\n",
       "  <tbody>\n",
       "    <tr>\n",
       "      <th>0</th>\n",
       "      <td>4</td>\n",
       "      <td>3</td>\n",
       "      <td>1.0</td>\n",
       "      <td>1891</td>\n",
       "      <td>house</td>\n",
       "    </tr>\n",
       "    <tr>\n",
       "      <th>1</th>\n",
       "      <td>5</td>\n",
       "      <td>2</td>\n",
       "      <td>1.0</td>\n",
       "      <td>1133</td>\n",
       "      <td>house</td>\n",
       "    </tr>\n",
       "    <tr>\n",
       "      <th>2</th>\n",
       "      <td>4</td>\n",
       "      <td>2</td>\n",
       "      <td>NaN</td>\n",
       "      <td>1216</td>\n",
       "      <td>house</td>\n",
       "    </tr>\n",
       "    <tr>\n",
       "      <th>3</th>\n",
       "      <td>2</td>\n",
       "      <td>2</td>\n",
       "      <td>NaN</td>\n",
       "      <td>1281</td>\n",
       "      <td>condo</td>\n",
       "    </tr>\n",
       "    <tr>\n",
       "      <th>4</th>\n",
       "      <td>2</td>\n",
       "      <td>2</td>\n",
       "      <td>NaN</td>\n",
       "      <td>887</td>\n",
       "      <td>condo</td>\n",
       "    </tr>\n",
       "  </tbody>\n",
       "</table>\n",
       "</div>"
      ],
      "text/plain": [
       "   bed  full_bath  half_bath  property_area property_type\n",
       "0    4          3        1.0           1891         house\n",
       "1    5          2        1.0           1133         house\n",
       "2    4          2        NaN           1216         house\n",
       "3    2          2        NaN           1281         condo\n",
       "4    2          2        NaN            887         condo"
      ]
     },
     "execution_count": 16,
     "metadata": {},
     "output_type": "execute_result"
    }
   ],
   "source": [
    "details_df = pd.DataFrame(data)\n",
    "details_df.head()"
   ]
  },
  {
   "cell_type": "code",
   "execution_count": 17,
   "metadata": {},
   "outputs": [
    {
     "data": {
      "text/html": [
       "<div>\n",
       "<style scoped>\n",
       "    .dataframe tbody tr th:only-of-type {\n",
       "        vertical-align: middle;\n",
       "    }\n",
       "\n",
       "    .dataframe tbody tr th {\n",
       "        vertical-align: top;\n",
       "    }\n",
       "\n",
       "    .dataframe thead th {\n",
       "        text-align: right;\n",
       "    }\n",
       "</style>\n",
       "<table border=\"1\" class=\"dataframe\">\n",
       "  <thead>\n",
       "    <tr style=\"text-align: right;\">\n",
       "      <th></th>\n",
       "      <th>price</th>\n",
       "      <th>postal_code</th>\n",
       "      <th>address</th>\n",
       "      <th>mls</th>\n",
       "      <th>bed</th>\n",
       "      <th>full_bath</th>\n",
       "      <th>half_bath</th>\n",
       "      <th>property_area</th>\n",
       "      <th>property_type</th>\n",
       "    </tr>\n",
       "  </thead>\n",
       "  <tbody>\n",
       "    <tr>\n",
       "      <th>0</th>\n",
       "      <td>576800</td>\n",
       "      <td>T3A 5E8</td>\n",
       "      <td>27 HAMPTONS HEATH NW</td>\n",
       "      <td>A1046648</td>\n",
       "      <td>4</td>\n",
       "      <td>3</td>\n",
       "      <td>1.0</td>\n",
       "      <td>1891</td>\n",
       "      <td>house</td>\n",
       "    </tr>\n",
       "    <tr>\n",
       "      <th>1</th>\n",
       "      <td>389900</td>\n",
       "      <td>T2A 4H9</td>\n",
       "      <td>28 MARCOMBE PL NE</td>\n",
       "      <td>A1046959</td>\n",
       "      <td>5</td>\n",
       "      <td>2</td>\n",
       "      <td>1.0</td>\n",
       "      <td>1133</td>\n",
       "      <td>house</td>\n",
       "    </tr>\n",
       "    <tr>\n",
       "      <th>2</th>\n",
       "      <td>899900</td>\n",
       "      <td>T2G 3X8</td>\n",
       "      <td>7 NEW ST SE</td>\n",
       "      <td>A1046689</td>\n",
       "      <td>4</td>\n",
       "      <td>2</td>\n",
       "      <td>NaN</td>\n",
       "      <td>1216</td>\n",
       "      <td>house</td>\n",
       "    </tr>\n",
       "    <tr>\n",
       "      <th>3</th>\n",
       "      <td>455000</td>\n",
       "      <td>T3A 2C5</td>\n",
       "      <td>402 - 16 VARSITY ESTATES CIR NW</td>\n",
       "      <td>A1046941</td>\n",
       "      <td>2</td>\n",
       "      <td>2</td>\n",
       "      <td>NaN</td>\n",
       "      <td>1281</td>\n",
       "      <td>condo</td>\n",
       "    </tr>\n",
       "    <tr>\n",
       "      <th>4</th>\n",
       "      <td>295000</td>\n",
       "      <td>T3E 7R2</td>\n",
       "      <td>1416 - 5605 HENWOOD ST SW</td>\n",
       "      <td>A1046898</td>\n",
       "      <td>2</td>\n",
       "      <td>2</td>\n",
       "      <td>NaN</td>\n",
       "      <td>887</td>\n",
       "      <td>condo</td>\n",
       "    </tr>\n",
       "  </tbody>\n",
       "</table>\n",
       "</div>"
      ],
      "text/plain": [
       "    price postal_code                          address       mls  bed  \\\n",
       "0  576800     T3A 5E8             27 HAMPTONS HEATH NW  A1046648    4   \n",
       "1  389900     T2A 4H9                28 MARCOMBE PL NE  A1046959    5   \n",
       "2  899900     T2G 3X8                      7 NEW ST SE  A1046689    4   \n",
       "3  455000     T3A 2C5  402 - 16 VARSITY ESTATES CIR NW  A1046941    2   \n",
       "4  295000     T3E 7R2        1416 - 5605 HENWOOD ST SW  A1046898    2   \n",
       "\n",
       "   full_bath  half_bath  property_area property_type  \n",
       "0          3        1.0           1891         house  \n",
       "1          2        1.0           1133         house  \n",
       "2          2        NaN           1216         house  \n",
       "3          2        NaN           1281         condo  \n",
       "4          2        NaN            887         condo  "
      ]
     },
     "execution_count": 17,
     "metadata": {},
     "output_type": "execute_result"
    }
   ],
   "source": [
    "calgary_df_dup = pd.concat([df_add, details_df], axis=1)\n",
    "calgary_df = calgary_df_dup.drop_duplicates()\n",
    "calgary_df.head()"
   ]
  },
  {
   "cell_type": "code",
   "execution_count": 18,
   "metadata": {},
   "outputs": [
    {
     "data": {
      "text/plain": [
       "20"
      ]
     },
     "execution_count": 18,
     "metadata": {},
     "output_type": "execute_result"
    }
   ],
   "source": [
    "len(calgary_df)"
   ]
  },
  {
   "cell_type": "code",
   "execution_count": 19,
   "metadata": {},
   "outputs": [],
   "source": [
    "calgary_df.to_csv('data/calgary_listings-a-test.csv', index=False)"
   ]
  },
  {
   "cell_type": "markdown",
   "metadata": {},
   "source": [
    "## Cleanup Postal Codes, Latitude, Longitude and Year Built"
   ]
  },
  {
   "cell_type": "markdown",
   "metadata": {},
   "source": [
    "postal_codes_messy = pd.DataFrame(postal_code_array, columns=[\"postal_code\"])"
   ]
  },
  {
   "cell_type": "markdown",
   "metadata": {},
   "source": [
    "postal_codes_messy.head()"
   ]
  },
  {
   "cell_type": "markdown",
   "metadata": {},
   "source": [
    "postal_code_array_clean = postal_codes_messy[\"postal_code\"].str.replace('\"', '')\n",
    "postal_code_array_clean = postal_code_array_clean.str.replace(\" \", \"\")"
   ]
  },
  {
   "cell_type": "code",
   "execution_count": 20,
   "metadata": {},
   "outputs": [],
   "source": [
    "latitude_array_messy = pd.DataFrame(latitude_array, columns=[\"latitude\"])"
   ]
  },
  {
   "cell_type": "code",
   "execution_count": 21,
   "metadata": {},
   "outputs": [],
   "source": [
    "#latitude_array_messy"
   ]
  },
  {
   "cell_type": "code",
   "execution_count": 22,
   "metadata": {},
   "outputs": [
    {
     "data": {
      "text/plain": [
       "0    51.143517\n",
       "1    51.060892\n",
       "2    51.041044\n",
       "3    51.103611\n",
       "4     51.00287\n",
       "Name: latitude, dtype: object"
      ]
     },
     "execution_count": 22,
     "metadata": {},
     "output_type": "execute_result"
    }
   ],
   "source": [
    "latitude_array_messy = latitude_array_messy[\"latitude\"].str.replace(',', '')\n",
    "latitude_array_messy.head()"
   ]
  },
  {
   "cell_type": "code",
   "execution_count": 23,
   "metadata": {},
   "outputs": [],
   "source": [
    "longitude_array_messy = pd.DataFrame(longitude_array, columns=[\"longitude\"])"
   ]
  },
  {
   "cell_type": "code",
   "execution_count": 24,
   "metadata": {},
   "outputs": [
    {
     "data": {
      "text/plain": [
       "0     -114.152\n",
       "1     -113.959\n",
       "2     -114.029\n",
       "3     -114.163\n",
       "4     -114.129\n",
       "Name: longitude, dtype: object"
      ]
     },
     "execution_count": 24,
     "metadata": {},
     "output_type": "execute_result"
    }
   ],
   "source": [
    "longitude_array_messy = longitude_array_messy[\"longitude\"].str.replace(',', '')\n",
    "longitude_array_messy.head()"
   ]
  },
  {
   "cell_type": "markdown",
   "metadata": {},
   "source": [
    "<div class=\"alert alert-danger\">\n",
    "    <b>Unused</b>\n",
    "    \n",
    "year_built_messy = pd.DataFrame(year_built_array, columns=[\"year_built\"])<br>\n",
    "year_built_clean = year_built_messy[\"year_built\"].str.replace('', np.nan)<br>\n",
    "year_built_num = year_built_messy.astype(int)\n",
    "\n",
    "year_built_num.head()\n",
    "</div>"
   ]
  },
  {
   "cell_type": "code",
   "execution_count": 25,
   "metadata": {},
   "outputs": [
    {
     "data": {
      "text/html": [
       "<div>\n",
       "<style scoped>\n",
       "    .dataframe tbody tr th:only-of-type {\n",
       "        vertical-align: middle;\n",
       "    }\n",
       "\n",
       "    .dataframe tbody tr th {\n",
       "        vertical-align: top;\n",
       "    }\n",
       "\n",
       "    .dataframe thead th {\n",
       "        text-align: right;\n",
       "    }\n",
       "</style>\n",
       "<table border=\"1\" class=\"dataframe\">\n",
       "  <thead>\n",
       "    <tr style=\"text-align: right;\">\n",
       "      <th></th>\n",
       "      <th>year_built</th>\n",
       "    </tr>\n",
       "  </thead>\n",
       "  <tbody>\n",
       "    <tr>\n",
       "      <th>0</th>\n",
       "      <td>1993</td>\n",
       "    </tr>\n",
       "    <tr>\n",
       "      <th>1</th>\n",
       "      <td>1973</td>\n",
       "    </tr>\n",
       "    <tr>\n",
       "      <th>2</th>\n",
       "      <td>1914</td>\n",
       "    </tr>\n",
       "    <tr>\n",
       "      <th>3</th>\n",
       "      <td>2015</td>\n",
       "    </tr>\n",
       "    <tr>\n",
       "      <th>4</th>\n",
       "      <td>2006</td>\n",
       "    </tr>\n",
       "  </tbody>\n",
       "</table>\n",
       "</div>"
      ],
      "text/plain": [
       "  year_built\n",
       "0       1993\n",
       "1       1973\n",
       "2       1914\n",
       "3       2015\n",
       "4       2006"
      ]
     },
     "execution_count": 25,
     "metadata": {},
     "output_type": "execute_result"
    }
   ],
   "source": [
    "year_built_messy = pd.DataFrame(year_built_array, columns=[\"year_built\"])\n",
    "#year_built_messy = pd.to_numeric(year_built_messy)\n",
    "year_built_messy.head()"
   ]
  },
  {
   "cell_type": "code",
   "execution_count": 26,
   "metadata": {},
   "outputs": [],
   "source": [
    "year_built_clean = year_built_messy[\"year_built\"].replace('', np.nan)"
   ]
  },
  {
   "cell_type": "code",
   "execution_count": 27,
   "metadata": {},
   "outputs": [
    {
     "data": {
      "text/plain": [
       "0     1993\n",
       "1     1973\n",
       "2     1914\n",
       "3     2015\n",
       "4     2006\n",
       "5     1964\n",
       "6     1961\n",
       "7     1964\n",
       "8     2017\n",
       "9     1976\n",
       "10    2011\n",
       "Name: year_built, dtype: object"
      ]
     },
     "execution_count": 27,
     "metadata": {},
     "output_type": "execute_result"
    }
   ],
   "source": [
    "year_built_clean.head(11)"
   ]
  },
  {
   "cell_type": "code",
   "execution_count": 28,
   "metadata": {},
   "outputs": [],
   "source": [
    "year_built_digits = []\n",
    "\n",
    "for i in year_built_clean:\n",
    "    if ((str(i) >= 'A' and str(i) <= 'Z') or (str(i) >= 'a' and str(i) <= 'z')):\n",
    "        #year_built_clean.replace(i, np.nan)\n",
    "        year_built_digits.append(np.nan)\n",
    "    if ((str(i) == ' 9 2') or (str(i) == ' 8 2') or (str(i) == ' 2 2') or (str(i) == 'nasq') or (str(i) == ' 6 R') or (str(i) == ' 6 S')):\n",
    "        year_built_digits.append(np.nan)\n",
    "    else:\n",
    "        year_built_digits.append(i)"
   ]
  },
  {
   "cell_type": "code",
   "execution_count": 29,
   "metadata": {},
   "outputs": [
    {
     "data": {
      "text/plain": [
       "['1993',\n",
       " '1973',\n",
       " '1914',\n",
       " '2015',\n",
       " '2006',\n",
       " '1964',\n",
       " '1961',\n",
       " '1964',\n",
       " '2017',\n",
       " '1976',\n",
       " '2011']"
      ]
     },
     "execution_count": 29,
     "metadata": {},
     "output_type": "execute_result"
    }
   ],
   "source": [
    "year_built_digits[:11]"
   ]
  },
  {
   "cell_type": "code",
   "execution_count": 30,
   "metadata": {},
   "outputs": [
    {
     "data": {
      "text/plain": [
       "array([1993., 1973., 1914., 2015., 2006., 1964., 1961., 1964., 2017.,\n",
       "       1976.])"
      ]
     },
     "execution_count": 30,
     "metadata": {},
     "output_type": "execute_result"
    }
   ],
   "source": [
    "year_built_num = pd.to_numeric(year_built_digits)\n",
    "year_built_num[:10]"
   ]
  },
  {
   "cell_type": "code",
   "execution_count": 31,
   "metadata": {},
   "outputs": [],
   "source": [
    "year_built_num_pd = pd.DataFrame(year_built_num)"
   ]
  },
  {
   "cell_type": "code",
   "execution_count": 32,
   "metadata": {},
   "outputs": [
    {
     "data": {
      "text/plain": [
       "array([ 27.,  47., 106.,   5.,  14.,  56.,  59.,  56.,   3.,  44.])"
      ]
     },
     "execution_count": 32,
     "metadata": {},
     "output_type": "execute_result"
    }
   ],
   "source": [
    "years_old = 2020 - year_built_num\n",
    "years_old[:10]"
   ]
  },
  {
   "cell_type": "code",
   "execution_count": 33,
   "metadata": {},
   "outputs": [],
   "source": [
    "years_old_df = pd.DataFrame(years_old)"
   ]
  },
  {
   "cell_type": "code",
   "execution_count": 34,
   "metadata": {},
   "outputs": [],
   "source": [
    "latitude_digits = []\n",
    "\n",
    "for i in latitude_array_messy:\n",
    "    if ((str(i) >= 'A' and str(i) <= 'Z') or (str(i) >= 'a' and str(i) <= 'z')):\n",
    "        latitude_digits.append(np.nan)\n",
    "    else:\n",
    "        latitude_digits.append(i)"
   ]
  },
  {
   "cell_type": "code",
   "execution_count": 35,
   "metadata": {},
   "outputs": [],
   "source": [
    "longitude_digits = []\n",
    "\n",
    "for i in longitude_array_messy:\n",
    "    if ((str(i) >= 'A' and str(i) <= 'Z') or (str(i) >= 'a' and str(i) <= 'z')):\n",
    "        longitude_digits.append(np.nan)\n",
    "    else:\n",
    "        longitude_digits.append(i)"
   ]
  },
  {
   "cell_type": "code",
   "execution_count": 36,
   "metadata": {},
   "outputs": [],
   "source": [
    "latitude_digits = pd.to_numeric(latitude_digits)\n",
    "longitude_digits = pd.to_numeric(longitude_digits)"
   ]
  },
  {
   "cell_type": "code",
   "execution_count": 37,
   "metadata": {},
   "outputs": [
    {
     "data": {
      "text/html": [
       "<div>\n",
       "<style scoped>\n",
       "    .dataframe tbody tr th:only-of-type {\n",
       "        vertical-align: middle;\n",
       "    }\n",
       "\n",
       "    .dataframe tbody tr th {\n",
       "        vertical-align: top;\n",
       "    }\n",
       "\n",
       "    .dataframe thead th {\n",
       "        text-align: right;\n",
       "    }\n",
       "</style>\n",
       "<table border=\"1\" class=\"dataframe\">\n",
       "  <thead>\n",
       "    <tr style=\"text-align: right;\">\n",
       "      <th></th>\n",
       "      <th>monthly_payments</th>\n",
       "    </tr>\n",
       "  </thead>\n",
       "  <tbody>\n",
       "    <tr>\n",
       "      <th>0</th>\n",
       "      <td>$2494.15</td>\n",
       "    </tr>\n",
       "    <tr>\n",
       "      <th>1</th>\n",
       "      <td>$1685.98</td>\n",
       "    </tr>\n",
       "    <tr>\n",
       "      <th>2</th>\n",
       "      <td>$3891.28</td>\n",
       "    </tr>\n",
       "    <tr>\n",
       "      <th>3</th>\n",
       "      <td>$1967.48</td>\n",
       "    </tr>\n",
       "    <tr>\n",
       "      <th>4</th>\n",
       "      <td>$1275.62</td>\n",
       "    </tr>\n",
       "  </tbody>\n",
       "</table>\n",
       "</div>"
      ],
      "text/plain": [
       "  monthly_payments\n",
       "0         $2494.15\n",
       "1         $1685.98\n",
       "2         $3891.28\n",
       "3         $1967.48\n",
       "4         $1275.62"
      ]
     },
     "execution_count": 37,
     "metadata": {},
     "output_type": "execute_result"
    }
   ],
   "source": [
    "payment_monthly_messy = pd.DataFrame(payment_monthly, columns=[\"monthly_payments\"])\n",
    "payment_monthly_messy.head()"
   ]
  },
  {
   "cell_type": "code",
   "execution_count": 38,
   "metadata": {
    "scrolled": true
   },
   "outputs": [
    {
     "data": {
      "text/plain": [
       "0    2494.15\n",
       "1    1685.98\n",
       "2    3891.28\n",
       "3    1967.48\n",
       "4    1275.62\n",
       "5    2269.73\n",
       "6    2118.39\n",
       "7    2443.13\n",
       "8    1988.66\n",
       "9    1751.27\n",
       "Name: monthly_payments, dtype: object"
      ]
     },
     "execution_count": 38,
     "metadata": {},
     "output_type": "execute_result"
    }
   ],
   "source": [
    "payment_monthly_messy = payment_monthly_messy[\"monthly_payments\"].str.replace('$', '')\n",
    "payment_monthly_messy.head(10)"
   ]
  },
  {
   "cell_type": "code",
   "execution_count": 39,
   "metadata": {},
   "outputs": [],
   "source": [
    "payment_monthly_messy = payment_monthly_messy.replace('', np.nan)"
   ]
  },
  {
   "cell_type": "code",
   "execution_count": 40,
   "metadata": {},
   "outputs": [],
   "source": [
    "payment_monthly_clean = payment_monthly_messy.replace('None', np.nan)\n",
    "payment_monthly_clean = pd.to_numeric(payment_monthly_clean)"
   ]
  },
  {
   "cell_type": "markdown",
   "metadata": {},
   "source": [
    "<div class=\"alert alert-success\">\n",
    "    <b>Guide</b>\n",
    "    \n",
    "https://stackoverflow.com/questions/19412462/getting-distance-between-two-points-based-on-latitude-longitude\n",
    "\n",
    "#### approximate radius of earth in km\n",
    "R = 6373.0\n",
    "    \n",
    "lat1 = radians(52.2296756)<br>\n",
    "lon1 = radians(21.0122287)\n",
    "\n",
    "lat2 = radians(52.406374)<br>\n",
    "lon2 = radians(16.9251681)\n",
    "\n",
    "dlon = lon2 - lon1<br>\n",
    "dlat = lat2 - lat1\n",
    "\n",
    "a = sin(dlat / 2)**2 + cos(lat1) * cos(lat2) * sin(dlon / 2)**2<br>\n",
    "c = 2 * atan2(sqrt(a), sqrt(1 - a))\n",
    "\n",
    "distance = R * c\n",
    "\n",
    "print(\"Result:\", distance)\n",
    "    \n",
    "#### Calgary Downtown coordinates (51.0449485,-114.0739559)\n",
    "</div>"
   ]
  },
  {
   "cell_type": "code",
   "execution_count": 41,
   "metadata": {},
   "outputs": [],
   "source": [
    "distance_downtown = []\n",
    "\n",
    "for i, j in zip(latitude_digits, longitude_digits):\n",
    "    lat1 = radians(i)\n",
    "    lon1 = radians(j)\n",
    "    lat2 = radians(51.0449485)\n",
    "    lon2 = radians(-114.0739559)\n",
    "    \n",
    "    dlon = lon2 - lon1\n",
    "    dlat = lat2 - lat1\n",
    "\n",
    "    a = sin(dlat / 2)**2 + cos(lat1) * cos(lat2) * sin(dlon / 2)**2\n",
    "    c = 2 * atan2(sqrt(a), sqrt(1 - a))\n",
    "    R = 6373.0\n",
    "    distance = (R * c)\n",
    "    \n",
    "    distance_downtown.append(round(distance, 2))"
   ]
  },
  {
   "cell_type": "code",
   "execution_count": 42,
   "metadata": {},
   "outputs": [
    {
     "data": {
      "text/plain": [
       "[12.24, 8.23, 3.17, 9.02, 6.06]"
      ]
     },
     "execution_count": 42,
     "metadata": {},
     "output_type": "execute_result"
    }
   ],
   "source": [
    "distance_downtown[:5]"
   ]
  },
  {
   "cell_type": "code",
   "execution_count": 43,
   "metadata": {},
   "outputs": [],
   "source": [
    "distance_downtown_df = pd.DataFrame(distance_downtown)"
   ]
  },
  {
   "cell_type": "markdown",
   "metadata": {},
   "source": [
    "<div class=\"alert alert-warning\">\n",
    "    <b>Another example</b>\n",
    "    \n",
    "import geopy.distance\n",
    "\n",
    "coords_1 = (52.2296756, 21.0122287)<br>\n",
    "coords_2 = (52.406374, 16.9251681)\n",
    "\n",
    "print(geopy.distance.vincenty(coords_1, coords_2).km)\n",
    "</div>"
   ]
  },
  {
   "cell_type": "code",
   "execution_count": 44,
   "metadata": {},
   "outputs": [
    {
     "data": {
      "text/html": [
       "<div>\n",
       "<style scoped>\n",
       "    .dataframe tbody tr th:only-of-type {\n",
       "        vertical-align: middle;\n",
       "    }\n",
       "\n",
       "    .dataframe tbody tr th {\n",
       "        vertical-align: top;\n",
       "    }\n",
       "\n",
       "    .dataframe thead th {\n",
       "        text-align: right;\n",
       "    }\n",
       "</style>\n",
       "<table border=\"1\" class=\"dataframe\">\n",
       "  <thead>\n",
       "    <tr style=\"text-align: right;\">\n",
       "      <th></th>\n",
       "      <th>0</th>\n",
       "      <th>1</th>\n",
       "      <th>2</th>\n",
       "    </tr>\n",
       "  </thead>\n",
       "  <tbody>\n",
       "    <tr>\n",
       "      <th>0</th>\n",
       "      <td>51.143517</td>\n",
       "      <td>-114.152</td>\n",
       "      <td>1993.0</td>\n",
       "    </tr>\n",
       "    <tr>\n",
       "      <th>1</th>\n",
       "      <td>51.060892</td>\n",
       "      <td>-113.959</td>\n",
       "      <td>1973.0</td>\n",
       "    </tr>\n",
       "    <tr>\n",
       "      <th>2</th>\n",
       "      <td>51.041044</td>\n",
       "      <td>-114.029</td>\n",
       "      <td>1914.0</td>\n",
       "    </tr>\n",
       "    <tr>\n",
       "      <th>3</th>\n",
       "      <td>51.103611</td>\n",
       "      <td>-114.163</td>\n",
       "      <td>2015.0</td>\n",
       "    </tr>\n",
       "    <tr>\n",
       "      <th>4</th>\n",
       "      <td>51.002870</td>\n",
       "      <td>-114.129</td>\n",
       "      <td>2006.0</td>\n",
       "    </tr>\n",
       "  </tbody>\n",
       "</table>\n",
       "</div>"
      ],
      "text/plain": [
       "           0        1       2\n",
       "0  51.143517 -114.152  1993.0\n",
       "1  51.060892 -113.959  1973.0\n",
       "2  51.041044 -114.029  1914.0\n",
       "3  51.103611 -114.163  2015.0\n",
       "4  51.002870 -114.129  2006.0"
      ]
     },
     "execution_count": 44,
     "metadata": {},
     "output_type": "execute_result"
    }
   ],
   "source": [
    "more_details = pd.DataFrame([latitude_digits, longitude_digits, year_built_num]).T\n",
    "#more_details.columns = [\"postal_code\", \"latitude\", \"longitude\", \"year_built\"]\n",
    "more_details.head()"
   ]
  },
  {
   "cell_type": "code",
   "execution_count": 45,
   "metadata": {},
   "outputs": [],
   "source": [
    "lot_size_df = pd.DataFrame(lot_size)"
   ]
  },
  {
   "cell_type": "code",
   "execution_count": 46,
   "metadata": {},
   "outputs": [],
   "source": [
    "basement_df = pd.DataFrame(basement)"
   ]
  },
  {
   "cell_type": "code",
   "execution_count": 47,
   "metadata": {},
   "outputs": [],
   "source": [
    "garage_df = pd.DataFrame(garage)"
   ]
  },
  {
   "cell_type": "code",
   "execution_count": 48,
   "metadata": {},
   "outputs": [],
   "source": [
    "mls_df = pd.DataFrame(mlsa)"
   ]
  },
  {
   "cell_type": "code",
   "execution_count": 49,
   "metadata": {
    "scrolled": false
   },
   "outputs": [
    {
     "data": {
      "text/html": [
       "<div>\n",
       "<style scoped>\n",
       "    .dataframe tbody tr th:only-of-type {\n",
       "        vertical-align: middle;\n",
       "    }\n",
       "\n",
       "    .dataframe tbody tr th {\n",
       "        vertical-align: top;\n",
       "    }\n",
       "\n",
       "    .dataframe thead th {\n",
       "        text-align: right;\n",
       "    }\n",
       "</style>\n",
       "<table border=\"1\" class=\"dataframe\">\n",
       "  <thead>\n",
       "    <tr style=\"text-align: right;\">\n",
       "      <th></th>\n",
       "      <th>latitude</th>\n",
       "      <th>longitude</th>\n",
       "      <th>year_built</th>\n",
       "      <th>years_old</th>\n",
       "      <th>distance_downtown</th>\n",
       "      <th>monthly_payments</th>\n",
       "      <th>lot_size</th>\n",
       "      <th>basement</th>\n",
       "      <th>garage</th>\n",
       "      <th>mls</th>\n",
       "    </tr>\n",
       "  </thead>\n",
       "  <tbody>\n",
       "    <tr>\n",
       "      <th>0</th>\n",
       "      <td>51.143517</td>\n",
       "      <td>-114.152</td>\n",
       "      <td>1993.0</td>\n",
       "      <td>27.0</td>\n",
       "      <td>12.24</td>\n",
       "      <td>2494.15</td>\n",
       "      <td>8654</td>\n",
       "      <td>1.0</td>\n",
       "      <td>1.0</td>\n",
       "      <td>A1046648</td>\n",
       "    </tr>\n",
       "    <tr>\n",
       "      <th>1</th>\n",
       "      <td>51.060892</td>\n",
       "      <td>-113.959</td>\n",
       "      <td>1973.0</td>\n",
       "      <td>47.0</td>\n",
       "      <td>8.23</td>\n",
       "      <td>1685.98</td>\n",
       "      <td>11313</td>\n",
       "      <td>1.0</td>\n",
       "      <td>1.0</td>\n",
       "      <td>A1046959</td>\n",
       "    </tr>\n",
       "    <tr>\n",
       "      <th>2</th>\n",
       "      <td>51.041044</td>\n",
       "      <td>-114.029</td>\n",
       "      <td>1914.0</td>\n",
       "      <td>106.0</td>\n",
       "      <td>3.17</td>\n",
       "      <td>3891.28</td>\n",
       "      <td>5253</td>\n",
       "      <td>1.0</td>\n",
       "      <td>0.0</td>\n",
       "      <td>A1046689</td>\n",
       "    </tr>\n",
       "    <tr>\n",
       "      <th>3</th>\n",
       "      <td>51.103611</td>\n",
       "      <td>-114.163</td>\n",
       "      <td>2015.0</td>\n",
       "      <td>5.0</td>\n",
       "      <td>9.02</td>\n",
       "      <td>1967.48</td>\n",
       "      <td>NaN</td>\n",
       "      <td>0.0</td>\n",
       "      <td>1.0</td>\n",
       "      <td>A1046941</td>\n",
       "    </tr>\n",
       "    <tr>\n",
       "      <th>4</th>\n",
       "      <td>51.002870</td>\n",
       "      <td>-114.129</td>\n",
       "      <td>2006.0</td>\n",
       "      <td>14.0</td>\n",
       "      <td>6.06</td>\n",
       "      <td>1275.62</td>\n",
       "      <td>NaN</td>\n",
       "      <td>0.0</td>\n",
       "      <td>1.0</td>\n",
       "      <td>A1046898</td>\n",
       "    </tr>\n",
       "  </tbody>\n",
       "</table>\n",
       "</div>"
      ],
      "text/plain": [
       "    latitude  longitude  year_built  years_old  distance_downtown  \\\n",
       "0  51.143517   -114.152      1993.0       27.0              12.24   \n",
       "1  51.060892   -113.959      1973.0       47.0               8.23   \n",
       "2  51.041044   -114.029      1914.0      106.0               3.17   \n",
       "3  51.103611   -114.163      2015.0        5.0               9.02   \n",
       "4  51.002870   -114.129      2006.0       14.0               6.06   \n",
       "\n",
       "   monthly_payments lot_size  basement  garage       mls  \n",
       "0           2494.15     8654       1.0     1.0  A1046648  \n",
       "1           1685.98    11313       1.0     1.0  A1046959  \n",
       "2           3891.28     5253       1.0     0.0  A1046689  \n",
       "3           1967.48      NaN       0.0     1.0  A1046941  \n",
       "4           1275.62      NaN       0.0     1.0  A1046898  "
      ]
     },
     "execution_count": 49,
     "metadata": {},
     "output_type": "execute_result"
    }
   ],
   "source": [
    "more_df = pd.concat([more_details, years_old_df, distance_downtown_df, payment_monthly_clean, lot_size_df, basement_df, garage_df, mls_df], axis=1)\n",
    "more_df.columns = [\"latitude\", \"longitude\", \"year_built\", \"years_old\", \"distance_downtown\", \"monthly_payments\", \"lot_size\", \"basement\", \"garage\", \"mls\"]\n",
    "more_df.head()"
   ]
  },
  {
   "cell_type": "code",
   "execution_count": 50,
   "metadata": {},
   "outputs": [
    {
     "data": {
      "text/plain": [
       "63"
      ]
     },
     "execution_count": 50,
     "metadata": {},
     "output_type": "execute_result"
    }
   ],
   "source": [
    "len(more_df)"
   ]
  },
  {
   "cell_type": "code",
   "execution_count": 51,
   "metadata": {},
   "outputs": [],
   "source": [
    "more_df.to_csv('data/calgary_listings-b-test.csv', index=False)"
   ]
  },
  {
   "cell_type": "code",
   "execution_count": 52,
   "metadata": {},
   "outputs": [
    {
     "data": {
      "text/html": [
       "<div>\n",
       "<style scoped>\n",
       "    .dataframe tbody tr th:only-of-type {\n",
       "        vertical-align: middle;\n",
       "    }\n",
       "\n",
       "    .dataframe tbody tr th {\n",
       "        vertical-align: top;\n",
       "    }\n",
       "\n",
       "    .dataframe thead th {\n",
       "        text-align: right;\n",
       "    }\n",
       "</style>\n",
       "<table border=\"1\" class=\"dataframe\">\n",
       "  <thead>\n",
       "    <tr style=\"text-align: right;\">\n",
       "      <th></th>\n",
       "      <th>price</th>\n",
       "      <th>postal_code</th>\n",
       "      <th>address</th>\n",
       "      <th>mls</th>\n",
       "      <th>bed</th>\n",
       "      <th>full_bath</th>\n",
       "      <th>half_bath</th>\n",
       "      <th>property_area</th>\n",
       "      <th>property_type</th>\n",
       "      <th>latitude</th>\n",
       "      <th>longitude</th>\n",
       "      <th>year_built</th>\n",
       "      <th>years_old</th>\n",
       "      <th>distance_downtown</th>\n",
       "      <th>monthly_payments</th>\n",
       "      <th>lot_size</th>\n",
       "      <th>basement</th>\n",
       "      <th>garage</th>\n",
       "    </tr>\n",
       "  </thead>\n",
       "  <tbody>\n",
       "    <tr>\n",
       "      <th>0</th>\n",
       "      <td>576800</td>\n",
       "      <td>T3A 5E8</td>\n",
       "      <td>27 HAMPTONS HEATH NW</td>\n",
       "      <td>A1046648</td>\n",
       "      <td>4</td>\n",
       "      <td>3</td>\n",
       "      <td>1.0</td>\n",
       "      <td>1891</td>\n",
       "      <td>house</td>\n",
       "      <td>51.143517</td>\n",
       "      <td>-114.152</td>\n",
       "      <td>1993.0</td>\n",
       "      <td>27.0</td>\n",
       "      <td>12.24</td>\n",
       "      <td>2494.15</td>\n",
       "      <td>8654</td>\n",
       "      <td>1.0</td>\n",
       "      <td>1.0</td>\n",
       "    </tr>\n",
       "    <tr>\n",
       "      <th>1</th>\n",
       "      <td>576800</td>\n",
       "      <td>T3A 5E8</td>\n",
       "      <td>27 HAMPTONS HEATH NW</td>\n",
       "      <td>A1046648</td>\n",
       "      <td>4</td>\n",
       "      <td>3</td>\n",
       "      <td>1.0</td>\n",
       "      <td>1891</td>\n",
       "      <td>house</td>\n",
       "      <td>51.143517</td>\n",
       "      <td>-114.152</td>\n",
       "      <td>2008.0</td>\n",
       "      <td>12.0</td>\n",
       "      <td>12.24</td>\n",
       "      <td>2494.15</td>\n",
       "      <td>8654</td>\n",
       "      <td>1.0</td>\n",
       "      <td>1.0</td>\n",
       "    </tr>\n",
       "    <tr>\n",
       "      <th>2</th>\n",
       "      <td>576800</td>\n",
       "      <td>T3A 5E8</td>\n",
       "      <td>27 HAMPTONS HEATH NW</td>\n",
       "      <td>A1046648</td>\n",
       "      <td>4</td>\n",
       "      <td>3</td>\n",
       "      <td>1.0</td>\n",
       "      <td>1891</td>\n",
       "      <td>house</td>\n",
       "      <td>51.143517</td>\n",
       "      <td>-114.152</td>\n",
       "      <td>1975.0</td>\n",
       "      <td>45.0</td>\n",
       "      <td>12.24</td>\n",
       "      <td>2494.15</td>\n",
       "      <td>8654</td>\n",
       "      <td>1.0</td>\n",
       "      <td>1.0</td>\n",
       "    </tr>\n",
       "    <tr>\n",
       "      <th>3</th>\n",
       "      <td>389900</td>\n",
       "      <td>T2A 4H9</td>\n",
       "      <td>28 MARCOMBE PL NE</td>\n",
       "      <td>A1046959</td>\n",
       "      <td>5</td>\n",
       "      <td>2</td>\n",
       "      <td>1.0</td>\n",
       "      <td>1133</td>\n",
       "      <td>house</td>\n",
       "      <td>51.060892</td>\n",
       "      <td>-113.959</td>\n",
       "      <td>1973.0</td>\n",
       "      <td>47.0</td>\n",
       "      <td>8.23</td>\n",
       "      <td>1685.98</td>\n",
       "      <td>11313</td>\n",
       "      <td>1.0</td>\n",
       "      <td>1.0</td>\n",
       "    </tr>\n",
       "    <tr>\n",
       "      <th>4</th>\n",
       "      <td>389900</td>\n",
       "      <td>T2A 4H9</td>\n",
       "      <td>28 MARCOMBE PL NE</td>\n",
       "      <td>A1046959</td>\n",
       "      <td>5</td>\n",
       "      <td>2</td>\n",
       "      <td>1.0</td>\n",
       "      <td>1133</td>\n",
       "      <td>house</td>\n",
       "      <td>51.060892</td>\n",
       "      <td>-113.959</td>\n",
       "      <td>1993.0</td>\n",
       "      <td>27.0</td>\n",
       "      <td>8.23</td>\n",
       "      <td>1685.98</td>\n",
       "      <td>11313</td>\n",
       "      <td>1.0</td>\n",
       "      <td>1.0</td>\n",
       "    </tr>\n",
       "  </tbody>\n",
       "</table>\n",
       "</div>"
      ],
      "text/plain": [
       "    price postal_code               address       mls  bed  full_bath  \\\n",
       "0  576800     T3A 5E8  27 HAMPTONS HEATH NW  A1046648    4          3   \n",
       "1  576800     T3A 5E8  27 HAMPTONS HEATH NW  A1046648    4          3   \n",
       "2  576800     T3A 5E8  27 HAMPTONS HEATH NW  A1046648    4          3   \n",
       "3  389900     T2A 4H9     28 MARCOMBE PL NE  A1046959    5          2   \n",
       "4  389900     T2A 4H9     28 MARCOMBE PL NE  A1046959    5          2   \n",
       "\n",
       "   half_bath  property_area property_type   latitude  longitude  year_built  \\\n",
       "0        1.0           1891         house  51.143517   -114.152      1993.0   \n",
       "1        1.0           1891         house  51.143517   -114.152      2008.0   \n",
       "2        1.0           1891         house  51.143517   -114.152      1975.0   \n",
       "3        1.0           1133         house  51.060892   -113.959      1973.0   \n",
       "4        1.0           1133         house  51.060892   -113.959      1993.0   \n",
       "\n",
       "   years_old  distance_downtown  monthly_payments lot_size  basement  garage  \n",
       "0       27.0              12.24           2494.15     8654       1.0     1.0  \n",
       "1       12.0              12.24           2494.15     8654       1.0     1.0  \n",
       "2       45.0              12.24           2494.15     8654       1.0     1.0  \n",
       "3       47.0               8.23           1685.98    11313       1.0     1.0  \n",
       "4       27.0               8.23           1685.98    11313       1.0     1.0  "
      ]
     },
     "execution_count": 52,
     "metadata": {},
     "output_type": "execute_result"
    }
   ],
   "source": [
    "result_dup = pd.merge(calgary_df, more_df, on='mls')\n",
    "result = result_dup.drop_duplicates()\n",
    "result = result.reset_index(drop=True)\n",
    "result.head()"
   ]
  },
  {
   "cell_type": "code",
   "execution_count": 53,
   "metadata": {},
   "outputs": [
    {
     "data": {
      "text/plain": [
       "54"
      ]
     },
     "execution_count": 53,
     "metadata": {},
     "output_type": "execute_result"
    }
   ],
   "source": [
    "len(result)"
   ]
  },
  {
   "cell_type": "code",
   "execution_count": 54,
   "metadata": {},
   "outputs": [
    {
     "data": {
      "text/html": [
       "<div>\n",
       "<style scoped>\n",
       "    .dataframe tbody tr th:only-of-type {\n",
       "        vertical-align: middle;\n",
       "    }\n",
       "\n",
       "    .dataframe tbody tr th {\n",
       "        vertical-align: top;\n",
       "    }\n",
       "\n",
       "    .dataframe thead th {\n",
       "        text-align: right;\n",
       "    }\n",
       "</style>\n",
       "<table border=\"1\" class=\"dataframe\">\n",
       "  <thead>\n",
       "    <tr style=\"text-align: right;\">\n",
       "      <th></th>\n",
       "      <th>price</th>\n",
       "      <th>postal_code</th>\n",
       "      <th>address</th>\n",
       "      <th>mls</th>\n",
       "      <th>bed</th>\n",
       "      <th>full_bath</th>\n",
       "      <th>half_bath</th>\n",
       "      <th>property_area</th>\n",
       "      <th>property_type</th>\n",
       "      <th>latitude</th>\n",
       "      <th>longitude</th>\n",
       "      <th>year_built</th>\n",
       "      <th>years_old</th>\n",
       "      <th>distance_downtown</th>\n",
       "      <th>monthly_payments</th>\n",
       "      <th>lot_size</th>\n",
       "      <th>basement</th>\n",
       "      <th>garage</th>\n",
       "    </tr>\n",
       "  </thead>\n",
       "  <tbody>\n",
       "    <tr>\n",
       "      <th>39</th>\n",
       "      <td>225000</td>\n",
       "      <td>T3H 4C4</td>\n",
       "      <td>102, 2188 85 Street SW</td>\n",
       "      <td>A1043290</td>\n",
       "      <td>2</td>\n",
       "      <td>1</td>\n",
       "      <td>NaN</td>\n",
       "      <td>634</td>\n",
       "      <td>townhouse</td>\n",
       "      <td>51.035997</td>\n",
       "      <td>-114.210</td>\n",
       "      <td>2002.0</td>\n",
       "      <td>18.0</td>\n",
       "      <td>9.57</td>\n",
       "      <td>972.93</td>\n",
       "      <td>na</td>\n",
       "      <td>0.0</td>\n",
       "      <td>0.0</td>\n",
       "    </tr>\n",
       "    <tr>\n",
       "      <th>14</th>\n",
       "      <td>295000</td>\n",
       "      <td>T3E 7R2</td>\n",
       "      <td>1416 - 5605 HENWOOD ST SW</td>\n",
       "      <td>A1046898</td>\n",
       "      <td>2</td>\n",
       "      <td>2</td>\n",
       "      <td>NaN</td>\n",
       "      <td>887</td>\n",
       "      <td>condo</td>\n",
       "      <td>51.002870</td>\n",
       "      <td>-114.129</td>\n",
       "      <td>1914.0</td>\n",
       "      <td>106.0</td>\n",
       "      <td>6.06</td>\n",
       "      <td>1275.62</td>\n",
       "      <td>NaN</td>\n",
       "      <td>0.0</td>\n",
       "      <td>1.0</td>\n",
       "    </tr>\n",
       "    <tr>\n",
       "      <th>47</th>\n",
       "      <td>249900</td>\n",
       "      <td>T3G 5T2</td>\n",
       "      <td>2204 - 928 ARBOUR LAKE RD NW</td>\n",
       "      <td>A1046820</td>\n",
       "      <td>2</td>\n",
       "      <td>2</td>\n",
       "      <td>NaN</td>\n",
       "      <td>1061</td>\n",
       "      <td>condo</td>\n",
       "      <td>51.132670</td>\n",
       "      <td>-114.215</td>\n",
       "      <td>2022.0</td>\n",
       "      <td>-2.0</td>\n",
       "      <td>13.87</td>\n",
       "      <td>1080.60</td>\n",
       "      <td>NaN</td>\n",
       "      <td>0.0</td>\n",
       "      <td>1.0</td>\n",
       "    </tr>\n",
       "    <tr>\n",
       "      <th>53</th>\n",
       "      <td>279900</td>\n",
       "      <td>T3H 0K1</td>\n",
       "      <td>2209 - 211 ASPEN STONE BLVD SW</td>\n",
       "      <td>A1046610</td>\n",
       "      <td>2</td>\n",
       "      <td>2</td>\n",
       "      <td>1.0</td>\n",
       "      <td>1207</td>\n",
       "      <td>condo</td>\n",
       "      <td>51.038162</td>\n",
       "      <td>-114.215</td>\n",
       "      <td>2020.0</td>\n",
       "      <td>0.0</td>\n",
       "      <td>9.89</td>\n",
       "      <td>1210.32</td>\n",
       "      <td>NaN</td>\n",
       "      <td>0.0</td>\n",
       "      <td>0.0</td>\n",
       "    </tr>\n",
       "    <tr>\n",
       "      <th>28</th>\n",
       "      <td>405000</td>\n",
       "      <td>T2W 2W7</td>\n",
       "      <td>223 BROOKPARK DR SW</td>\n",
       "      <td>A1046755</td>\n",
       "      <td>5</td>\n",
       "      <td>1</td>\n",
       "      <td>1.0</td>\n",
       "      <td>1150</td>\n",
       "      <td>house</td>\n",
       "      <td>50.955108</td>\n",
       "      <td>-114.113</td>\n",
       "      <td>1964.0</td>\n",
       "      <td>56.0</td>\n",
       "      <td>10.36</td>\n",
       "      <td>1751.27</td>\n",
       "      <td>531.00</td>\n",
       "      <td>1.0</td>\n",
       "      <td>0.0</td>\n",
       "    </tr>\n",
       "  </tbody>\n",
       "</table>\n",
       "</div>"
      ],
      "text/plain": [
       "     price postal_code                         address       mls  bed  \\\n",
       "39  225000     T3H 4C4          102, 2188 85 Street SW  A1043290    2   \n",
       "14  295000     T3E 7R2       1416 - 5605 HENWOOD ST SW  A1046898    2   \n",
       "47  249900     T3G 5T2    2204 - 928 ARBOUR LAKE RD NW  A1046820    2   \n",
       "53  279900     T3H 0K1  2209 - 211 ASPEN STONE BLVD SW  A1046610    2   \n",
       "28  405000     T2W 2W7             223 BROOKPARK DR SW  A1046755    5   \n",
       "\n",
       "    full_bath  half_bath  property_area property_type   latitude  longitude  \\\n",
       "39          1        NaN            634     townhouse  51.035997   -114.210   \n",
       "14          2        NaN            887         condo  51.002870   -114.129   \n",
       "47          2        NaN           1061         condo  51.132670   -114.215   \n",
       "53          2        1.0           1207         condo  51.038162   -114.215   \n",
       "28          1        1.0           1150         house  50.955108   -114.113   \n",
       "\n",
       "    year_built  years_old  distance_downtown  monthly_payments lot_size  \\\n",
       "39      2002.0       18.0               9.57            972.93       na   \n",
       "14      1914.0      106.0               6.06           1275.62      NaN   \n",
       "47      2022.0       -2.0              13.87           1080.60      NaN   \n",
       "53      2020.0        0.0               9.89           1210.32      NaN   \n",
       "28      1964.0       56.0              10.36           1751.27   531.00   \n",
       "\n",
       "    basement  garage  \n",
       "39       0.0     0.0  \n",
       "14       0.0     1.0  \n",
       "47       0.0     1.0  \n",
       "53       0.0     0.0  \n",
       "28       1.0     0.0  "
      ]
     },
     "execution_count": 54,
     "metadata": {},
     "output_type": "execute_result"
    }
   ],
   "source": [
    "result_df_clean = result.sort_values('address').drop_duplicates(subset=['mls']) \n",
    "result_df_clean.head()"
   ]
  },
  {
   "cell_type": "code",
   "execution_count": 55,
   "metadata": {},
   "outputs": [
    {
     "data": {
      "text/plain": [
       "19"
      ]
     },
     "execution_count": 55,
     "metadata": {},
     "output_type": "execute_result"
    }
   ],
   "source": [
    "len(result_df_clean)"
   ]
  },
  {
   "cell_type": "code",
   "execution_count": 56,
   "metadata": {},
   "outputs": [],
   "source": [
    "result_df_clean.to_csv('data/calgary_listings-test.csv', index=False)"
   ]
  },
  {
   "cell_type": "markdown",
   "metadata": {},
   "source": [
    "-----------"
   ]
  },
  {
   "cell_type": "markdown",
   "metadata": {},
   "source": [
    "<div class=\"alert alert-info\">\n",
    "    <b>UNSED</b>\n",
    "</div>"
   ]
  },
  {
   "cell_type": "code",
   "execution_count": null,
   "metadata": {},
   "outputs": [],
   "source": [
    "house_details_more=[]\n",
    "url_house = []\n",
    "try:\n",
    "    for detail in soup.find_all('a'):\n",
    "        house_details_more.append(detail.get('href'))\n",
    "except:\n",
    "    house_details_more.append('None')\n",
    "    \n",
    "for i in house_details_more:\n",
    "    if '/ab/calgary-real-estate/' in str(i):\n",
    "        link = 'https://www.remax.ca' + str(i)\n",
    "        url_house.append(link)\n",
    "url_house"
   ]
  },
  {
   "cell_type": "code",
   "execution_count": null,
   "metadata": {},
   "outputs": [],
   "source": [
    "url_house[:5]"
   ]
  },
  {
   "cell_type": "code",
   "execution_count": null,
   "metadata": {},
   "outputs": [],
   "source": [
    "PostalCode = []\n",
    "Latitude = []\n",
    "Longitude = []\n",
    "YearBuilt = []\n",
    "\n",
    "for i in url_house[:5]:\n",
    "    \n",
    "    time.sleep(5)\n",
    "    \n",
    "    page = requests.get(i)\n",
    "    soup = BeautifulSoup(page.text, \"html.parser\")\n",
    "    \n",
    "    lat_all = soup.find_all('script')[4]\n",
    "    \n",
    "    string = ', '.join(lat_all)\n",
    "    pc = \"postalCode\"\n",
    "    position_pc = string.find(pc)\n",
    "    pcd = string[(position_pc+14):(position_pc+21)]\n",
    "    PostalCode.append(pcd)\n",
    "\n",
    "    lat = \"latitude\"\n",
    "    position_lat = string.find(lat)\n",
    "    latd = string[(position_lat+11):(position_lat+20)]\n",
    "    Latitude.append(latd)\n",
    "\n",
    "    long = \"longitude\"\n",
    "    position_long = string.find(long)\n",
    "    longd = string[(position_long+12):(position_long+23)]\n",
    "    Longitude.append(longd)\n",
    "    \n",
    "    house_address = []\n",
    "    \n",
    "    time.sleep(5)\n",
    "    \n",
    "    try:\n",
    "        addresses = soup.find_all('section', class_='property-details')\n",
    "        for address in addresses:\n",
    "            house_address.append(address.text)\n",
    "    except:\n",
    "        house_address.append('None')\n",
    "    \n",
    "    time.sleep(5)\n",
    "    \n",
    "    string = ', '.join(house_address)\n",
    "    s_year = \"Year Built\"\n",
    "    position_year = string.find(s_year)\n",
    "    year_built = string[(position_year+12):(position_year+16)]\n",
    "    YearBuilt.append(year_built)"
   ]
  },
  {
   "cell_type": "code",
   "execution_count": null,
   "metadata": {},
   "outputs": [],
   "source": []
  }
 ],
 "metadata": {
  "kernelspec": {
   "display_name": "Python 3",
   "language": "python",
   "name": "python3"
  },
  "language_info": {
   "codemirror_mode": {
    "name": "ipython",
    "version": 3
   },
   "file_extension": ".py",
   "mimetype": "text/x-python",
   "name": "python",
   "nbconvert_exporter": "python",
   "pygments_lexer": "ipython3",
   "version": "3.7.3"
  }
 },
 "nbformat": 4,
 "nbformat_minor": 2
}
