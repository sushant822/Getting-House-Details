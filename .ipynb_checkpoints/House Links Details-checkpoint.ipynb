{
 "cells": [
  {
   "cell_type": "code",
   "execution_count": 1,
   "metadata": {},
   "outputs": [],
   "source": [
    "import pandas as pd\n",
    "import numpy as np\n",
    "import requests\n",
    "from bs4 import BeautifulSoup\n",
    "import time"
   ]
  },
  {
   "cell_type": "code",
   "execution_count": 2,
   "metadata": {},
   "outputs": [],
   "source": [
    "url = 'https://www.remax.ca/ab/calgary-real-estate/13-auburn-bay-green-se-wp_id278637256-lst'"
   ]
  },
  {
   "cell_type": "code",
   "execution_count": 3,
   "metadata": {},
   "outputs": [],
   "source": [
    "page = requests.get(url)\n",
    "soup = BeautifulSoup(page.text, \"html.parser\")"
   ]
  },
  {
   "cell_type": "code",
   "execution_count": 32,
   "metadata": {},
   "outputs": [],
   "source": [
    "#print(soup.prettify())"
   ]
  },
  {
   "cell_type": "code",
   "execution_count": 22,
   "metadata": {},
   "outputs": [
    {
     "data": {
      "text/plain": [
       "<script type=\"application/ld+json\">{\n",
       "  \"@context\": \"http://schema.org\",\n",
       "  \"@graph\": [\n",
       "    {\n",
       "      \"@type\": \"SingleFamilyResidence\",\n",
       "      \"address\": {\n",
       "        \"@type\": \"PostalAddress\",\n",
       "        \"streetAddress\": \"3209 29 ST SW, Calgary, AB T3E2L2\",\n",
       "        \"addressLocality\": \"Calgary\",\n",
       "        \"addressRegion\": \"AB\",\n",
       "        \"postalCode\": \"T3E2L2\"\n",
       "      },\n",
       "      \"geo\": {\n",
       "        \"@type\": \"GeoCoordinates\",\n",
       "        \"latitude\": 51.026546,\n",
       "        \"longitude\": -114.130027\n",
       "      }\n",
       "    },\n",
       "    {\n",
       "      \"@type\": \"House\",\n",
       "      \"address\": {\n",
       "        \"@type\": \"PostalAddress\",\n",
       "        \"streetAddress\": \"3209 29 ST SW, Calgary, AB T3E2L2\",\n",
       "        \"addressLocality\": \"Calgary\",\n",
       "        \"addressRegion\": \"AB\",\n",
       "        \"postalCode\": \"T3E2L2\"\n",
       "      },\n",
       "      \"geo\": {\n",
       "        \"@type\": \"GeoCoordinates\",\n",
       "        \"latitude\": 51.026546,\n",
       "        \"longitude\": -114.130027\n",
       "      },\n",
       "      \"photo\": {\n",
       "        \"@type\": \"ImageObject\",\n",
       "        \"url\": []\n",
       "      }\n",
       "    },\n",
       "    {\n",
       "      \"@type\": \"Offer\",\n",
       "      \"price\": 575000,\n",
       "      \"priceCurrency\": \"CAD\",\n",
       "      \"url\": \"/ab/calgary-real-estate/3209-29-street-sw-wp_id281353872-lst\"\n",
       "    }\n",
       "  ]\n",
       "}</script>"
      ]
     },
     "execution_count": 22,
     "metadata": {},
     "output_type": "execute_result"
    }
   ],
   "source": [
    "lat_all = soup.find_all('script')[4]\n",
    "lat_all"
   ]
  },
  {
   "cell_type": "code",
   "execution_count": 27,
   "metadata": {},
   "outputs": [
    {
     "data": {
      "text/plain": [
       "'51.026546'"
      ]
     },
     "execution_count": 27,
     "metadata": {},
     "output_type": "execute_result"
    }
   ],
   "source": [
    "string = ', '.join(lat_all)\n",
    "lat = \"latitude\"\n",
    "position_lat = string.find(lat)\n",
    "latd = string[(position_lat+11):(position_lat+20)]\n",
    "latd\n",
    "#position_lat"
   ]
  },
  {
   "cell_type": "code",
   "execution_count": 31,
   "metadata": {},
   "outputs": [
    {
     "data": {
      "text/plain": [
       "'-114.130027'"
      ]
     },
     "execution_count": 31,
     "metadata": {},
     "output_type": "execute_result"
    }
   ],
   "source": [
    "string = ', '.join(lat_all)\n",
    "long = \"longitude\"\n",
    "position_long = string.find(long)\n",
    "longd = string[(position_long+12):(position_long+23)]\n",
    "longd"
   ]
  },
  {
   "cell_type": "markdown",
   "metadata": {},
   "source": [
    "house_details = []\n",
    "\n",
    "try:\n",
    "    addresses = soup.find_all('meta content')\n",
    "    for address in addresses:\n",
    "        house_details.append(address.text)\n",
    "except:\n",
    "    house_details.append('None')\n",
    "\n",
    "house_details"
   ]
  },
  {
   "cell_type": "code",
   "execution_count": 8,
   "metadata": {},
   "outputs": [
    {
     "data": {
      "text/plain": [
       "['Details for 13 AUBURN BAY GREEN SEProperty Type: Single FamilyProperty Tax: N/ALast Updated: Sun, August 23, 2020Possession: NegotiableProperty Subtype: DetachedRestrictions: None KnownKey Facts for 13 AUBURN BAY GREEN SEMLSÂ® #: A1026227Ownership-Type: N/AYear Built: 2006sqft: 1512.60 SQFTDate Listed: Aug 23, 2020Lot Size: 2874Occupancy: N/ASubdivision: Auburn BayInside of 13 AUBURN BAY GREEN SEHeating: Natural Gas, Forced Air, Fireplace(s)Heating Source: N/AFull Bathrooms: 2Half Bathrooms: 1Rooms: N/AStories: 2Basement: Full, UnfinishedElectric: 100 Amp ServiceFlooring: Carpet, LinoleumInterior Features: Vaulted Ceiling(s), Walk-In Closet(s), See Remarks, Open Floorplan, Kitchen Island, Granite Counters, No Smoking HomeOutside of 13 AUBURN BAY GREEN SEExterior Features: Private YardRoof: Asphalt ShingleWaterfront Features: Lake PrivilegesAccess: Paved LaneFencing: FencedFeatures for 13 AUBURN BAY GREEN SEConstructionMaterials: Wood Frame, Vinyl SidingStructureType: HouseFoundationDetails: ConcreteCommunity Features: Fishing, Lake, Street Lights, Park, Shopping Nearby, Playground, Clubhouse, Schools NearbyParkingFeatures: Stall, Alley Access, Off StreetLaundryFeatures: In BasementFireplaceFeatures: Living Room, Mantle, GasSecurity Features: Smoke Detector(s)Patio And Porch Features: Front Porch, DeckLot Features: Back Lane, Rectangular Lot, LevelCondo: Not a CondoAssociationYN: YAssociationAmenities: Clubhouse, Playground, Beach AccessArchitecturalStyle: 2 StoreyLevels: TwoSee more details keyboard_arrow_down']"
      ]
     },
     "execution_count": 8,
     "metadata": {},
     "output_type": "execute_result"
    }
   ],
   "source": [
    "house_address = []\n",
    "\n",
    "try:\n",
    "    addresses = soup.find_all('section', class_='property-details')\n",
    "    for address in addresses:\n",
    "        house_address.append(address.text)\n",
    "except:\n",
    "    house_address.append('None')\n",
    "\n",
    "house_address"
   ]
  },
  {
   "cell_type": "code",
   "execution_count": 33,
   "metadata": {},
   "outputs": [],
   "source": [
    "string = ', '.join(house_address)"
   ]
  },
  {
   "cell_type": "code",
   "execution_count": 34,
   "metadata": {},
   "outputs": [
    {
     "data": {
      "text/plain": [
       "'2006'"
      ]
     },
     "execution_count": 34,
     "metadata": {},
     "output_type": "execute_result"
    }
   ],
   "source": [
    "s_year = \"Year Built\"\n",
    "position_year = string.find(s_year)\n",
    "year_built = string[(position_year+12):(position_year+16)]\n",
    "year_built"
   ]
  },
  {
   "cell_type": "code",
   "execution_count": 36,
   "metadata": {},
   "outputs": [
    {
     "data": {
      "text/plain": [
       "'2874'"
      ]
     },
     "execution_count": 36,
     "metadata": {},
     "output_type": "execute_result"
    }
   ],
   "source": [
    "s_lot = \"Lot Size\"\n",
    "position_lot = string.find(s_lot)\n",
    "lot_size = string[(position_lot+10):(position_lot+14)]\n",
    "lot_size"
   ]
  },
  {
   "cell_type": "code",
   "execution_count": null,
   "metadata": {},
   "outputs": [],
   "source": []
  }
 ],
 "metadata": {
  "kernelspec": {
   "display_name": "Python 3",
   "language": "python",
   "name": "python3"
  },
  "language_info": {
   "codemirror_mode": {
    "name": "ipython",
    "version": 3
   },
   "file_extension": ".py",
   "mimetype": "text/x-python",
   "name": "python",
   "nbconvert_exporter": "python",
   "pygments_lexer": "ipython3",
   "version": "3.7.6"
  }
 },
 "nbformat": 4,
 "nbformat_minor": 2
}
