{
 "cells": [
  {
   "cell_type": "code",
   "execution_count": 1,
   "metadata": {},
   "outputs": [],
   "source": [
    "import pandas as pd\n",
    "import numpy as np\n",
    "import requests\n",
    "from bs4 import BeautifulSoup\n",
    "import time"
   ]
  },
  {
   "cell_type": "code",
   "execution_count": 2,
   "metadata": {},
   "outputs": [],
   "source": [
    "url = 'https://www.remax.ca/ab/calgary-real-estate/13-auburn-bay-green-se-wp_id278637256-lst'"
   ]
  },
  {
   "cell_type": "code",
   "execution_count": 3,
   "metadata": {},
   "outputs": [],
   "source": [
    "page = requests.get(url)\n",
    "soup = BeautifulSoup(page.text, \"html.parser\")"
   ]
  },
  {
   "cell_type": "code",
   "execution_count": 4,
   "metadata": {},
   "outputs": [],
   "source": [
    "#print(soup.prettify())"
   ]
  },
  {
   "cell_type": "markdown",
   "metadata": {},
   "source": [
    "house_details = []\n",
    "\n",
    "try:\n",
    "    addresses = soup.find_all('meta content')\n",
    "    for address in addresses:\n",
    "        house_details.append(address.text)\n",
    "except:\n",
    "    house_details.append('None')\n",
    "\n",
    "house_details"
   ]
  },
  {
   "cell_type": "code",
   "execution_count": 8,
   "metadata": {},
   "outputs": [
    {
     "data": {
      "text/plain": [
       "['Details for 13 AUBURN BAY GREEN SEProperty Type: Single FamilyProperty Tax: N/ALast Updated: Sun, August 23, 2020Possession: NegotiableProperty Subtype: DetachedRestrictions: None KnownKey Facts for 13 AUBURN BAY GREEN SEMLSÂ® #: A1026227Ownership-Type: N/AYear Built: 2006sqft: 1512.60 SQFTDate Listed: Aug 23, 2020Lot Size: 2874Occupancy: N/ASubdivision: Auburn BayInside of 13 AUBURN BAY GREEN SEHeating: Natural Gas, Forced Air, Fireplace(s)Heating Source: N/AFull Bathrooms: 2Half Bathrooms: 1Rooms: N/AStories: 2Basement: Full, UnfinishedElectric: 100 Amp ServiceFlooring: Carpet, LinoleumInterior Features: Vaulted Ceiling(s), Walk-In Closet(s), See Remarks, Open Floorplan, Kitchen Island, Granite Counters, No Smoking HomeOutside of 13 AUBURN BAY GREEN SEExterior Features: Private YardRoof: Asphalt ShingleWaterfront Features: Lake PrivilegesAccess: Paved LaneFencing: FencedFeatures for 13 AUBURN BAY GREEN SEConstructionMaterials: Wood Frame, Vinyl SidingStructureType: HouseFoundationDetails: ConcreteCommunity Features: Fishing, Lake, Street Lights, Park, Shopping Nearby, Playground, Clubhouse, Schools NearbyParkingFeatures: Stall, Alley Access, Off StreetLaundryFeatures: In BasementFireplaceFeatures: Living Room, Mantle, GasSecurity Features: Smoke Detector(s)Patio And Porch Features: Front Porch, DeckLot Features: Back Lane, Rectangular Lot, LevelCondo: Not a CondoAssociationYN: YAssociationAmenities: Clubhouse, Playground, Beach AccessArchitecturalStyle: 2 StoreyLevels: TwoSee more details keyboard_arrow_down']"
      ]
     },
     "execution_count": 8,
     "metadata": {},
     "output_type": "execute_result"
    }
   ],
   "source": [
    "house_address = []\n",
    "\n",
    "try:\n",
    "    addresses = soup.find_all('section', class_='property-details')\n",
    "    for address in addresses:\n",
    "        house_address.append(address.text)\n",
    "except:\n",
    "    house_address.append('None')\n",
    "\n",
    "house_address"
   ]
  },
  {
   "cell_type": "code",
   "execution_count": 33,
   "metadata": {},
   "outputs": [],
   "source": [
    "string = ', '.join(house_address)"
   ]
  },
  {
   "cell_type": "code",
   "execution_count": 34,
   "metadata": {},
   "outputs": [
    {
     "data": {
      "text/plain": [
       "'2006'"
      ]
     },
     "execution_count": 34,
     "metadata": {},
     "output_type": "execute_result"
    }
   ],
   "source": [
    "s_year = \"Year Built\"\n",
    "position_year = string.find(s_year)\n",
    "year_built = string[(position_year+12):(position_year+16)]\n",
    "year_built"
   ]
  },
  {
   "cell_type": "code",
   "execution_count": 36,
   "metadata": {},
   "outputs": [
    {
     "data": {
      "text/plain": [
       "'2874'"
      ]
     },
     "execution_count": 36,
     "metadata": {},
     "output_type": "execute_result"
    }
   ],
   "source": [
    "s_lot = \"Lot Size\"\n",
    "position_lot = string.find(s_lot)\n",
    "lot_size = string[(position_lot+10):(position_lot+14)]\n",
    "lot_size"
   ]
  },
  {
   "cell_type": "code",
   "execution_count": null,
   "metadata": {},
   "outputs": [],
   "source": []
  }
 ],
 "metadata": {
  "kernelspec": {
   "display_name": "Python 3",
   "language": "python",
   "name": "python3"
  },
  "language_info": {
   "codemirror_mode": {
    "name": "ipython",
    "version": 3
   },
   "file_extension": ".py",
   "mimetype": "text/x-python",
   "name": "python",
   "nbconvert_exporter": "python",
   "pygments_lexer": "ipython3",
   "version": "3.7.3"
  }
 },
 "nbformat": 4,
 "nbformat_minor": 2
}
