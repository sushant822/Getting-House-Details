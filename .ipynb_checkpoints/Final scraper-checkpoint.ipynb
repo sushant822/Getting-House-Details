{
 "cells": [
  {
   "cell_type": "code",
   "execution_count": 1,
   "metadata": {},
   "outputs": [
    {
     "name": "stdout",
     "output_type": "stream",
     "text": [
      "Libraries imported!\n"
     ]
    }
   ],
   "source": [
    "import pandas as pd\n",
    "import numpy as np\n",
    "import requests\n",
    "from bs4 import BeautifulSoup\n",
    "import time\n",
    "from math import sin, cos, sqrt, atan2, radians\n",
    "import re\n",
    "import warnings\n",
    "warnings.filterwarnings('ignore')\n",
    "print('Libraries imported!')"
   ]
  },
  {
   "cell_type": "code",
   "execution_count": 2,
   "metadata": {},
   "outputs": [],
   "source": [
    "house_address_all = []\n",
    "house_details_all = []\n",
    "house_address = []\n",
    "house_details = []\n",
    "postal_code_array = []\n",
    "latitude_array = []\n",
    "longitude_array = []\n",
    "year_built_array = []\n",
    "payment_monthly = []\n",
    "lot_size = []\n",
    "basement = []\n",
    "garage = []\n",
    "mlsa = []\n",
    "mls_array = []\n",
    "\n",
    "base_url = 'https://www.remax.ca/ab/calgary-real-estate?page='\n",
    "urls = [base_url + str(x) for x in range(1,2)]\n",
    "\n",
    "for url in urls:\n",
    "    \n",
    "    #browser.visit(url)\n",
    "    time.sleep(5)\n",
    "\n",
    "    # Parse HTML with Beautiful Soup\n",
    "    response = requests.get(url)\n",
    "    soup = BeautifulSoup(response.text, 'html.parser')\n",
    "    \n",
    "    #time.sleep(5)\n",
    "    \n",
    "    for each in soup.find_all(class_= \"card-text ng-star-inserted\" ):\n",
    "        try: \n",
    "            mls = each.find(class_='mlsNumber').text.replace('MLS® #: ', '')\n",
    "            mls_array.append(mls)\n",
    "        except:\n",
    "            mls_array.append(np.nan)\n",
    "\n",
    "    try:\n",
    "        addresses = soup.find_all('div', class_='left-content flex-one')\n",
    "        for address in addresses:\n",
    "            house_address_all.append(address.text)\n",
    "    except:\n",
    "        house_address_all.append('None')\n",
    "        \n",
    "    #time.sleep(5)\n",
    "        \n",
    "    try:\n",
    "        details = soup.find_all('div', class_='property-details')\n",
    "        for detail in details:\n",
    "            house_details_all.append(detail.text)\n",
    "    except:\n",
    "        house_details_all.append('None')\n",
    "        \n",
    "    #time.sleep(5)\n",
    "        \n",
    "    house_details_more=[]\n",
    "    url_house = []\n",
    "        \n",
    "    try:\n",
    "        for detail in soup.find_all('a'):\n",
    "            house_details_more.append(detail.get('href'))\n",
    "    except:\n",
    "        house_details_more.append('None')\n",
    "    \n",
    "    #time.sleep(5)\n",
    "\n",
    "    for i in house_details_more:\n",
    "        if '/ab/calgary-real-estate/' in str(i):\n",
    "            link = 'https://www.remax.ca' + str(i)\n",
    "            url_house.append(link)\n",
    "            \n",
    "    #time.sleep(5)\n",
    "    \n",
    "    for i in url_house:\n",
    "    \n",
    "        time.sleep(5)\n",
    "\n",
    "        page = requests.get(i)\n",
    "        soup = BeautifulSoup(page.text, \"html.parser\")\n",
    "\n",
    "        lat_all = soup.find_all('script')[3]\n",
    "        \n",
    "        string = ', '.join(lat_all)\n",
    "        pc = \"postalCode\"\n",
    "        position_pc = string.find(pc)\n",
    "        pcd = string[(position_pc+14):(position_pc+20)]\n",
    "        postal_code_array.append(pcd)\n",
    "\n",
    "        lat = \"latitude\"\n",
    "        position_lat = string.find(lat)\n",
    "        latd = string[(position_lat+11):(position_lat+20)]\n",
    "        latitude_array.append(latd)\n",
    "\n",
    "        long = \"longitude\"\n",
    "        position_long = string.find(long)\n",
    "        longd = string[(position_long+12):(position_long+23)]\n",
    "        longitude_array.append(longd)\n",
    "\n",
    "        house_address = []\n",
    "\n",
    "        #time.sleep(5)\n",
    "\n",
    "        try:\n",
    "            addresses = soup.find_all('section', class_='property-details')\n",
    "            for address in addresses:\n",
    "                house_address.append(address.text)\n",
    "        except:\n",
    "            house_address.append('None')\n",
    "\n",
    "        #time.sleep(5)\n",
    "\n",
    "        string = ', '.join(house_address)\n",
    "        s_year = \"Year Built: \"\n",
    "        if s_year in string:            \n",
    "            position_year = string.find(s_year)\n",
    "            year_built = string[(position_year+12):(position_year+16)]\n",
    "            year_built_array.append(year_built)\n",
    "        else:\n",
    "            year_built_array.append(np.nan)\n",
    "        \n",
    "        s_lot = \"Lot Size: \"\n",
    "        if s_lot in string:\n",
    "            try:\n",
    "                start = string.rindex(s_lot) + len(s_lot)\n",
    "                end = string.rindex(\"Occupancy\", start )\n",
    "                lot_size.append(string[start:end])\n",
    "            except:\n",
    "                lot_size.append(np.nan)\n",
    "        else:\n",
    "            lot_size.append(np.nan)\n",
    "        \n",
    "        basement_yn = \"Basement\"\n",
    "        if basement_yn in string:\n",
    "            basement.append(1)\n",
    "        else:\n",
    "            basement.append(0)\n",
    "            \n",
    "        garage_yn = \"Garage\"\n",
    "        if garage_yn in string:\n",
    "            garage.append(1)\n",
    "        else:\n",
    "            garage.append(0)\n",
    "        \n",
    "        try:\n",
    "            payment = soup.find(class_=\"payment-amount\").text\n",
    "            payment_monthly.append(payment)\n",
    "        except:\n",
    "            payment_monthly.append(np.nan)\n",
    "        \n",
    "        #result = re.search('MLSÂ® #: (.*)Ownership', string)\n",
    "        #result_app = result.group(1)\n",
    "        #mlsa.append(result.group(1))\n",
    "        \n",
    "        mlsa_number = \"MLSÂ® #: \"\n",
    "        try:\n",
    "            start = string.rindex(mlsa_number) + len(mlsa_number)\n",
    "            end = string.rindex(\"Ownership\", start )\n",
    "            mlsa.append(string[start:end])\n",
    "        except:\n",
    "            #mlsa_pos = string.find(mlsa_number)\n",
    "            #mlsa_temp = string[(mlsa_pos+8):(mlsa_pos+16)]\n",
    "            mlsa.append(np.nan)\n",
    "\n",
    "        #time.sleep(5)"
   ]
  },
  {
   "cell_type": "code",
   "execution_count": 3,
   "metadata": {},
   "outputs": [
    {
     "data": {
      "text/plain": [
       "['51.091129', '50.975174', '51.042621', '51.021818', '51.142426']"
      ]
     },
     "execution_count": 3,
     "metadata": {},
     "output_type": "execute_result"
    }
   ],
   "source": [
    "latitude_array[:5]"
   ]
  },
  {
   "cell_type": "code",
   "execution_count": 4,
   "metadata": {},
   "outputs": [
    {
     "data": {
      "text/plain": [
       "['-113.956141', '-114.073925', '-114.13671\\n', '-114.095907', '-114.180925']"
      ]
     },
     "execution_count": 4,
     "metadata": {},
     "output_type": "execute_result"
    }
   ],
   "source": [
    "longitude_array[:5]"
   ]
  },
  {
   "cell_type": "code",
   "execution_count": 5,
   "metadata": {},
   "outputs": [
    {
     "data": {
      "text/plain": [
       "['T1Y4E8', 'T2V2W3', 'T3C3X6', 'T2T3X9', 'T3G 4J']"
      ]
     },
     "execution_count": 5,
     "metadata": {},
     "output_type": "execute_result"
    }
   ],
   "source": [
    "postal_code_array[:5]"
   ]
  },
  {
   "cell_type": "code",
   "execution_count": 6,
   "metadata": {},
   "outputs": [
    {
     "data": {
      "text/html": [
       "<div>\n",
       "<style scoped>\n",
       "    .dataframe tbody tr th:only-of-type {\n",
       "        vertical-align: middle;\n",
       "    }\n",
       "\n",
       "    .dataframe tbody tr th {\n",
       "        vertical-align: top;\n",
       "    }\n",
       "\n",
       "    .dataframe thead th {\n",
       "        text-align: right;\n",
       "    }\n",
       "</style>\n",
       "<table border=\"1\" class=\"dataframe\">\n",
       "  <thead>\n",
       "    <tr style=\"text-align: right;\">\n",
       "      <th></th>\n",
       "      <th>0</th>\n",
       "    </tr>\n",
       "  </thead>\n",
       "  <tbody>\n",
       "    <tr>\n",
       "      <th>0</th>\n",
       "      <td>MLSÂ® #: A1046765</td>\n",
       "    </tr>\n",
       "    <tr>\n",
       "      <th>1</th>\n",
       "      <td>MLSÂ® #: A1045446</td>\n",
       "    </tr>\n",
       "    <tr>\n",
       "      <th>2</th>\n",
       "      <td>MLSÂ® #: A1046854</td>\n",
       "    </tr>\n",
       "    <tr>\n",
       "      <th>3</th>\n",
       "      <td>MLSÂ® #: A1046690</td>\n",
       "    </tr>\n",
       "    <tr>\n",
       "      <th>4</th>\n",
       "      <td>MLSÂ® #: A1044809</td>\n",
       "    </tr>\n",
       "  </tbody>\n",
       "</table>\n",
       "</div>"
      ],
      "text/plain": [
       "                   0\n",
       "0  MLSÂ® #: A1046765\n",
       "1  MLSÂ® #: A1045446\n",
       "2  MLSÂ® #: A1046854\n",
       "3  MLSÂ® #: A1046690\n",
       "4  MLSÂ® #: A1044809"
      ]
     },
     "execution_count": 6,
     "metadata": {},
     "output_type": "execute_result"
    }
   ],
   "source": [
    "mls_array_df_temp = pd.DataFrame(mls_array)\n",
    "mls_array_df_temp.head()"
   ]
  },
  {
   "cell_type": "code",
   "execution_count": 7,
   "metadata": {},
   "outputs": [
    {
     "data": {
      "text/plain": [
       "0    A1046765\n",
       "1    A1045446\n",
       "2    A1046854\n",
       "3    A1046690\n",
       "4    A1044809\n",
       "Name: 1, dtype: object"
      ]
     },
     "execution_count": 7,
     "metadata": {},
     "output_type": "execute_result"
    }
   ],
   "source": [
    "mls_array_df = mls_array_df_temp[0].str.split(\"MLSÂ® #: \", 1, expand=True)\n",
    "mls_array_df[1].head()"
   ]
  },
  {
   "cell_type": "code",
   "execution_count": 8,
   "metadata": {},
   "outputs": [
    {
     "data": {
      "text/html": [
       "<div>\n",
       "<style scoped>\n",
       "    .dataframe tbody tr th:only-of-type {\n",
       "        vertical-align: middle;\n",
       "    }\n",
       "\n",
       "    .dataframe tbody tr th {\n",
       "        vertical-align: top;\n",
       "    }\n",
       "\n",
       "    .dataframe thead th {\n",
       "        text-align: right;\n",
       "    }\n",
       "</style>\n",
       "<table border=\"1\" class=\"dataframe\">\n",
       "  <thead>\n",
       "    <tr style=\"text-align: right;\">\n",
       "      <th></th>\n",
       "      <th>2</th>\n",
       "      <th>price</th>\n",
       "    </tr>\n",
       "  </thead>\n",
       "  <tbody>\n",
       "    <tr>\n",
       "      <th>0</th>\n",
       "      <td>7172 TEMPLE DR NE, Calgary, AB, T1Y 4E8</td>\n",
       "      <td>339900</td>\n",
       "    </tr>\n",
       "    <tr>\n",
       "      <th>1</th>\n",
       "      <td>611 - 8880 HORTON RD SW, Calgary, AB, T2V 2W3</td>\n",
       "      <td>235000</td>\n",
       "    </tr>\n",
       "    <tr>\n",
       "      <th>2</th>\n",
       "      <td>402 - 77 SPRUCE PL SW, Calgary, AB, T3C 3X6</td>\n",
       "      <td>299888</td>\n",
       "    </tr>\n",
       "    <tr>\n",
       "      <th>3</th>\n",
       "      <td>3710 14A ST SW, Calgary, AB, T2T 3X9</td>\n",
       "      <td>949900</td>\n",
       "    </tr>\n",
       "    <tr>\n",
       "      <th>4</th>\n",
       "      <td>155 Citadel Drive NW, Calgary, AB, T3G 4J5</td>\n",
       "      <td>334900</td>\n",
       "    </tr>\n",
       "  </tbody>\n",
       "</table>\n",
       "</div>"
      ],
      "text/plain": [
       "                                               2   price\n",
       "0        7172 TEMPLE DR NE, Calgary, AB, T1Y 4E8  339900\n",
       "1  611 - 8880 HORTON RD SW, Calgary, AB, T2V 2W3  235000\n",
       "2    402 - 77 SPRUCE PL SW, Calgary, AB, T3C 3X6  299888\n",
       "3           3710 14A ST SW, Calgary, AB, T2T 3X9  949900\n",
       "4     155 Citadel Drive NW, Calgary, AB, T3G 4J5  334900"
      ]
     },
     "execution_count": 8,
     "metadata": {},
     "output_type": "execute_result"
    }
   ],
   "source": [
    "address_df = pd.DataFrame(house_address_all)\n",
    "\n",
    "new_df = address_df[0].str.split(' ', 2, expand=True)\n",
    "new_df[\"price\"] = new_df[1].str.replace(\"$\", \"\")\n",
    "new_df[\"price\"] = new_df[\"price\"].str.replace(\",\", \"\")\n",
    "new_df[\"price\"] = pd.to_numeric(new_df[\"price\"])\n",
    "\n",
    "del new_df[0]\n",
    "del new_df[1]\n",
    "new_df.head()"
   ]
  },
  {
   "cell_type": "code",
   "execution_count": 9,
   "metadata": {},
   "outputs": [
    {
     "data": {
      "text/html": [
       "<div>\n",
       "<style scoped>\n",
       "    .dataframe tbody tr th:only-of-type {\n",
       "        vertical-align: middle;\n",
       "    }\n",
       "\n",
       "    .dataframe tbody tr th {\n",
       "        vertical-align: top;\n",
       "    }\n",
       "\n",
       "    .dataframe thead th {\n",
       "        text-align: right;\n",
       "    }\n",
       "</style>\n",
       "<table border=\"1\" class=\"dataframe\">\n",
       "  <thead>\n",
       "    <tr style=\"text-align: right;\">\n",
       "      <th></th>\n",
       "      <th>0</th>\n",
       "      <th>1</th>\n",
       "    </tr>\n",
       "  </thead>\n",
       "  <tbody>\n",
       "    <tr>\n",
       "      <th>0</th>\n",
       "      <td>7172 TEMPLE DR NE</td>\n",
       "      <td>T1Y 4E8</td>\n",
       "    </tr>\n",
       "    <tr>\n",
       "      <th>1</th>\n",
       "      <td>611 - 8880 HORTON RD SW</td>\n",
       "      <td>T2V 2W3</td>\n",
       "    </tr>\n",
       "    <tr>\n",
       "      <th>2</th>\n",
       "      <td>402 - 77 SPRUCE PL SW</td>\n",
       "      <td>T3C 3X6</td>\n",
       "    </tr>\n",
       "    <tr>\n",
       "      <th>3</th>\n",
       "      <td>3710 14A ST SW</td>\n",
       "      <td>T2T 3X9</td>\n",
       "    </tr>\n",
       "    <tr>\n",
       "      <th>4</th>\n",
       "      <td>155 Citadel Drive NW</td>\n",
       "      <td>T3G 4J5</td>\n",
       "    </tr>\n",
       "  </tbody>\n",
       "</table>\n",
       "</div>"
      ],
      "text/plain": [
       "                         0        1\n",
       "0        7172 TEMPLE DR NE  T1Y 4E8\n",
       "1  611 - 8880 HORTON RD SW  T2V 2W3\n",
       "2    402 - 77 SPRUCE PL SW  T3C 3X6\n",
       "3           3710 14A ST SW  T2T 3X9\n",
       "4     155 Citadel Drive NW  T3G 4J5"
      ]
     },
     "execution_count": 9,
     "metadata": {},
     "output_type": "execute_result"
    }
   ],
   "source": [
    "final_df_pc = new_df[2].str.split(', Calgary, AB, ', expand=True)\n",
    "final_df_pc.head()"
   ]
  },
  {
   "cell_type": "code",
   "execution_count": 10,
   "metadata": {
    "scrolled": true
   },
   "outputs": [
    {
     "data": {
      "text/plain": [
       "0    T1Y4E8\n",
       "1    T2V2W3\n",
       "2    T3C3X6\n",
       "3    T2T3X9\n",
       "4    T3G4J5\n",
       "Name: 1, dtype: object"
      ]
     },
     "execution_count": 10,
     "metadata": {},
     "output_type": "execute_result"
    }
   ],
   "source": [
    "final_df_pc_clean = final_df_pc[1].str.replace(\" \", \"\")\n",
    "#final_df_pc_clean = final_df_pc[1]\n",
    "final_df_pc_clean.head()"
   ]
  },
  {
   "cell_type": "code",
   "execution_count": 11,
   "metadata": {},
   "outputs": [
    {
     "data": {
      "text/html": [
       "<div>\n",
       "<style scoped>\n",
       "    .dataframe tbody tr th:only-of-type {\n",
       "        vertical-align: middle;\n",
       "    }\n",
       "\n",
       "    .dataframe tbody tr th {\n",
       "        vertical-align: top;\n",
       "    }\n",
       "\n",
       "    .dataframe thead th {\n",
       "        text-align: right;\n",
       "    }\n",
       "</style>\n",
       "<table border=\"1\" class=\"dataframe\">\n",
       "  <thead>\n",
       "    <tr style=\"text-align: right;\">\n",
       "      <th></th>\n",
       "      <th>price</th>\n",
       "      <th>postal_code</th>\n",
       "      <th>address</th>\n",
       "      <th>mls</th>\n",
       "    </tr>\n",
       "  </thead>\n",
       "  <tbody>\n",
       "    <tr>\n",
       "      <th>0</th>\n",
       "      <td>339900</td>\n",
       "      <td>T1Y4E8</td>\n",
       "      <td>7172 TEMPLE DR NE</td>\n",
       "      <td>A1046765</td>\n",
       "    </tr>\n",
       "    <tr>\n",
       "      <th>1</th>\n",
       "      <td>235000</td>\n",
       "      <td>T2V2W3</td>\n",
       "      <td>611 - 8880 HORTON RD SW</td>\n",
       "      <td>A1045446</td>\n",
       "    </tr>\n",
       "    <tr>\n",
       "      <th>2</th>\n",
       "      <td>299888</td>\n",
       "      <td>T3C3X6</td>\n",
       "      <td>402 - 77 SPRUCE PL SW</td>\n",
       "      <td>A1046854</td>\n",
       "    </tr>\n",
       "    <tr>\n",
       "      <th>3</th>\n",
       "      <td>949900</td>\n",
       "      <td>T2T3X9</td>\n",
       "      <td>3710 14A ST SW</td>\n",
       "      <td>A1046690</td>\n",
       "    </tr>\n",
       "    <tr>\n",
       "      <th>4</th>\n",
       "      <td>334900</td>\n",
       "      <td>T3G4J5</td>\n",
       "      <td>155 Citadel Drive NW</td>\n",
       "      <td>A1044809</td>\n",
       "    </tr>\n",
       "  </tbody>\n",
       "</table>\n",
       "</div>"
      ],
      "text/plain": [
       "    price postal_code                  address       mls\n",
       "0  339900      T1Y4E8        7172 TEMPLE DR NE  A1046765\n",
       "1  235000      T2V2W3  611 - 8880 HORTON RD SW  A1045446\n",
       "2  299888      T3C3X6    402 - 77 SPRUCE PL SW  A1046854\n",
       "3  949900      T2T3X9           3710 14A ST SW  A1046690\n",
       "4  334900      T3G4J5     155 Citadel Drive NW  A1044809"
      ]
     },
     "execution_count": 11,
     "metadata": {},
     "output_type": "execute_result"
    }
   ],
   "source": [
    "df_add = pd.concat([new_df, final_df_pc_clean, final_df_pc[0], mls_array_df[1]], axis=1)\n",
    "del df_add[2]\n",
    "df_add.columns = [\"price\", \"postal_code\", \"address\", \"mls\"]\n",
    "df_add.head()"
   ]
  },
  {
   "cell_type": "code",
   "execution_count": 12,
   "metadata": {},
   "outputs": [
    {
     "data": {
      "text/html": [
       "<div>\n",
       "<style scoped>\n",
       "    .dataframe tbody tr th:only-of-type {\n",
       "        vertical-align: middle;\n",
       "    }\n",
       "\n",
       "    .dataframe tbody tr th {\n",
       "        vertical-align: top;\n",
       "    }\n",
       "\n",
       "    .dataframe thead th {\n",
       "        text-align: right;\n",
       "    }\n",
       "</style>\n",
       "<table border=\"1\" class=\"dataframe\">\n",
       "  <thead>\n",
       "    <tr style=\"text-align: right;\">\n",
       "      <th></th>\n",
       "      <th>0</th>\n",
       "      <th>1</th>\n",
       "      <th>2</th>\n",
       "      <th>3</th>\n",
       "    </tr>\n",
       "  </thead>\n",
       "  <tbody>\n",
       "    <tr>\n",
       "      <th>0</th>\n",
       "      <td>5 bed</td>\n",
       "      <td>2 + 1 bath</td>\n",
       "      <td>1066 sqft</td>\n",
       "      <td>house</td>\n",
       "    </tr>\n",
       "    <tr>\n",
       "      <th>1</th>\n",
       "      <td>1 bed</td>\n",
       "      <td>1 bath</td>\n",
       "      <td>723 sqft</td>\n",
       "      <td>condo</td>\n",
       "    </tr>\n",
       "    <tr>\n",
       "      <th>2</th>\n",
       "      <td>2 bed</td>\n",
       "      <td>2 bath</td>\n",
       "      <td>889 sqft</td>\n",
       "      <td>condo</td>\n",
       "    </tr>\n",
       "    <tr>\n",
       "      <th>3</th>\n",
       "      <td>4 bed</td>\n",
       "      <td>3 + 1 bath</td>\n",
       "      <td>1845 sqft</td>\n",
       "      <td>house</td>\n",
       "    </tr>\n",
       "    <tr>\n",
       "      <th>4</th>\n",
       "      <td>3 bed</td>\n",
       "      <td>2 + 1 bath</td>\n",
       "      <td>1389 sqft</td>\n",
       "      <td>townhouse</td>\n",
       "    </tr>\n",
       "  </tbody>\n",
       "</table>\n",
       "</div>"
      ],
      "text/plain": [
       "       0           1          2          3\n",
       "0  5 bed  2 + 1 bath  1066 sqft      house\n",
       "1  1 bed      1 bath   723 sqft      condo\n",
       "2  2 bed      2 bath   889 sqft      condo\n",
       "3  4 bed  3 + 1 bath  1845 sqft      house\n",
       "4  3 bed  2 + 1 bath  1389 sqft  townhouse"
      ]
     },
     "execution_count": 12,
     "metadata": {},
     "output_type": "execute_result"
    }
   ],
   "source": [
    "details = pd.DataFrame(house_details_all)\n",
    "details_df_temp = details[0].str.split('|', expand=True)\n",
    "details_df_temp.head()"
   ]
  },
  {
   "cell_type": "code",
   "execution_count": 13,
   "metadata": {},
   "outputs": [],
   "source": [
    "details_df_bed = details_df_temp[0].str.replace(' bed', '')\n",
    "details_df_bath = details_df_temp[1].str.replace(' bath', '')\n",
    "details_df_area = details_df_temp[2].str.replace(' sqft', '')"
   ]
  },
  {
   "cell_type": "code",
   "execution_count": 14,
   "metadata": {},
   "outputs": [],
   "source": [
    "details_df_bath_all = details_df_bath.str.split('+', expand=True)\n",
    "details_df_bath_full = details_df_bath_all[0]\n",
    "details_df_bath_half = details_df_bath_all[1]"
   ]
  },
  {
   "cell_type": "code",
   "execution_count": 15,
   "metadata": {},
   "outputs": [],
   "source": [
    "details_df_bed = details_df_bed.replace('N/A', np.nan)\n",
    "details_df_bed = pd.to_numeric(details_df_bed)\n",
    "details_df_area = details_df_area.replace('N/A', np.nan)\n",
    "details_df_area = pd.to_numeric(details_df_area)\n",
    "details_df_bath_full = details_df_bath_full.replace('N/A', np.nan)\n",
    "details_df_bath_full = pd.to_numeric(details_df_bath_full)\n",
    "details_df_bath_half = details_df_bath_half.replace('N/A', np.nan)\n",
    "details_df_bath_half = pd.to_numeric(details_df_bath_half)"
   ]
  },
  {
   "cell_type": "code",
   "execution_count": 16,
   "metadata": {},
   "outputs": [],
   "source": [
    "data = {'bed':details_df_bed, 'full_bath':details_df_bath_full, 'half_bath':details_df_bath_half,\n",
    "       'property_area':details_df_area, 'property_type':details_df_temp[3]}"
   ]
  },
  {
   "cell_type": "code",
   "execution_count": 17,
   "metadata": {},
   "outputs": [
    {
     "data": {
      "text/html": [
       "<div>\n",
       "<style scoped>\n",
       "    .dataframe tbody tr th:only-of-type {\n",
       "        vertical-align: middle;\n",
       "    }\n",
       "\n",
       "    .dataframe tbody tr th {\n",
       "        vertical-align: top;\n",
       "    }\n",
       "\n",
       "    .dataframe thead th {\n",
       "        text-align: right;\n",
       "    }\n",
       "</style>\n",
       "<table border=\"1\" class=\"dataframe\">\n",
       "  <thead>\n",
       "    <tr style=\"text-align: right;\">\n",
       "      <th></th>\n",
       "      <th>bed</th>\n",
       "      <th>full_bath</th>\n",
       "      <th>half_bath</th>\n",
       "      <th>property_area</th>\n",
       "      <th>property_type</th>\n",
       "    </tr>\n",
       "  </thead>\n",
       "  <tbody>\n",
       "    <tr>\n",
       "      <th>0</th>\n",
       "      <td>5</td>\n",
       "      <td>2</td>\n",
       "      <td>1.0</td>\n",
       "      <td>1066</td>\n",
       "      <td>house</td>\n",
       "    </tr>\n",
       "    <tr>\n",
       "      <th>1</th>\n",
       "      <td>1</td>\n",
       "      <td>1</td>\n",
       "      <td>NaN</td>\n",
       "      <td>723</td>\n",
       "      <td>condo</td>\n",
       "    </tr>\n",
       "    <tr>\n",
       "      <th>2</th>\n",
       "      <td>2</td>\n",
       "      <td>2</td>\n",
       "      <td>NaN</td>\n",
       "      <td>889</td>\n",
       "      <td>condo</td>\n",
       "    </tr>\n",
       "    <tr>\n",
       "      <th>3</th>\n",
       "      <td>4</td>\n",
       "      <td>3</td>\n",
       "      <td>1.0</td>\n",
       "      <td>1845</td>\n",
       "      <td>house</td>\n",
       "    </tr>\n",
       "    <tr>\n",
       "      <th>4</th>\n",
       "      <td>3</td>\n",
       "      <td>2</td>\n",
       "      <td>1.0</td>\n",
       "      <td>1389</td>\n",
       "      <td>townhouse</td>\n",
       "    </tr>\n",
       "  </tbody>\n",
       "</table>\n",
       "</div>"
      ],
      "text/plain": [
       "   bed  full_bath  half_bath  property_area property_type\n",
       "0    5          2        1.0           1066         house\n",
       "1    1          1        NaN            723         condo\n",
       "2    2          2        NaN            889         condo\n",
       "3    4          3        1.0           1845         house\n",
       "4    3          2        1.0           1389     townhouse"
      ]
     },
     "execution_count": 17,
     "metadata": {},
     "output_type": "execute_result"
    }
   ],
   "source": [
    "details_df = pd.DataFrame(data)\n",
    "details_df.head()"
   ]
  },
  {
   "cell_type": "code",
   "execution_count": 18,
   "metadata": {},
   "outputs": [
    {
     "data": {
      "text/html": [
       "<div>\n",
       "<style scoped>\n",
       "    .dataframe tbody tr th:only-of-type {\n",
       "        vertical-align: middle;\n",
       "    }\n",
       "\n",
       "    .dataframe tbody tr th {\n",
       "        vertical-align: top;\n",
       "    }\n",
       "\n",
       "    .dataframe thead th {\n",
       "        text-align: right;\n",
       "    }\n",
       "</style>\n",
       "<table border=\"1\" class=\"dataframe\">\n",
       "  <thead>\n",
       "    <tr style=\"text-align: right;\">\n",
       "      <th></th>\n",
       "      <th>price</th>\n",
       "      <th>postal_code</th>\n",
       "      <th>address</th>\n",
       "      <th>mls</th>\n",
       "      <th>bed</th>\n",
       "      <th>full_bath</th>\n",
       "      <th>half_bath</th>\n",
       "      <th>property_area</th>\n",
       "      <th>property_type</th>\n",
       "    </tr>\n",
       "  </thead>\n",
       "  <tbody>\n",
       "    <tr>\n",
       "      <th>0</th>\n",
       "      <td>339900</td>\n",
       "      <td>T1Y4E8</td>\n",
       "      <td>7172 TEMPLE DR NE</td>\n",
       "      <td>A1046765</td>\n",
       "      <td>5</td>\n",
       "      <td>2</td>\n",
       "      <td>1.0</td>\n",
       "      <td>1066</td>\n",
       "      <td>house</td>\n",
       "    </tr>\n",
       "    <tr>\n",
       "      <th>1</th>\n",
       "      <td>235000</td>\n",
       "      <td>T2V2W3</td>\n",
       "      <td>611 - 8880 HORTON RD SW</td>\n",
       "      <td>A1045446</td>\n",
       "      <td>1</td>\n",
       "      <td>1</td>\n",
       "      <td>NaN</td>\n",
       "      <td>723</td>\n",
       "      <td>condo</td>\n",
       "    </tr>\n",
       "    <tr>\n",
       "      <th>2</th>\n",
       "      <td>299888</td>\n",
       "      <td>T3C3X6</td>\n",
       "      <td>402 - 77 SPRUCE PL SW</td>\n",
       "      <td>A1046854</td>\n",
       "      <td>2</td>\n",
       "      <td>2</td>\n",
       "      <td>NaN</td>\n",
       "      <td>889</td>\n",
       "      <td>condo</td>\n",
       "    </tr>\n",
       "    <tr>\n",
       "      <th>3</th>\n",
       "      <td>949900</td>\n",
       "      <td>T2T3X9</td>\n",
       "      <td>3710 14A ST SW</td>\n",
       "      <td>A1046690</td>\n",
       "      <td>4</td>\n",
       "      <td>3</td>\n",
       "      <td>1.0</td>\n",
       "      <td>1845</td>\n",
       "      <td>house</td>\n",
       "    </tr>\n",
       "    <tr>\n",
       "      <th>4</th>\n",
       "      <td>334900</td>\n",
       "      <td>T3G4J5</td>\n",
       "      <td>155 Citadel Drive NW</td>\n",
       "      <td>A1044809</td>\n",
       "      <td>3</td>\n",
       "      <td>2</td>\n",
       "      <td>1.0</td>\n",
       "      <td>1389</td>\n",
       "      <td>townhouse</td>\n",
       "    </tr>\n",
       "  </tbody>\n",
       "</table>\n",
       "</div>"
      ],
      "text/plain": [
       "    price postal_code                  address       mls  bed  full_bath  \\\n",
       "0  339900      T1Y4E8        7172 TEMPLE DR NE  A1046765    5          2   \n",
       "1  235000      T2V2W3  611 - 8880 HORTON RD SW  A1045446    1          1   \n",
       "2  299888      T3C3X6    402 - 77 SPRUCE PL SW  A1046854    2          2   \n",
       "3  949900      T2T3X9           3710 14A ST SW  A1046690    4          3   \n",
       "4  334900      T3G4J5     155 Citadel Drive NW  A1044809    3          2   \n",
       "\n",
       "   half_bath  property_area property_type  \n",
       "0        1.0           1066         house  \n",
       "1        NaN            723         condo  \n",
       "2        NaN            889         condo  \n",
       "3        1.0           1845         house  \n",
       "4        1.0           1389     townhouse  "
      ]
     },
     "execution_count": 18,
     "metadata": {},
     "output_type": "execute_result"
    }
   ],
   "source": [
    "calgary_df_dup = pd.concat([df_add, details_df], axis=1)\n",
    "calgary_df = calgary_df_dup.drop_duplicates()\n",
    "calgary_df.head()"
   ]
  },
  {
   "cell_type": "code",
   "execution_count": 19,
   "metadata": {},
   "outputs": [
    {
     "data": {
      "text/plain": [
       "20"
      ]
     },
     "execution_count": 19,
     "metadata": {},
     "output_type": "execute_result"
    }
   ],
   "source": [
    "len(calgary_df)"
   ]
  },
  {
   "cell_type": "code",
   "execution_count": 20,
   "metadata": {},
   "outputs": [],
   "source": [
    "calgary_df.to_csv('data/calgary_listings-a.csv', index=False)"
   ]
  },
  {
   "cell_type": "markdown",
   "metadata": {},
   "source": [
    "## Cleanup Postal Codes, Latitude, Longitude and Year Built"
   ]
  },
  {
   "cell_type": "markdown",
   "metadata": {},
   "source": [
    "postal_codes_messy = pd.DataFrame(postal_code_array, columns=[\"postal_code\"])"
   ]
  },
  {
   "cell_type": "markdown",
   "metadata": {},
   "source": [
    "postal_codes_messy.head()"
   ]
  },
  {
   "cell_type": "markdown",
   "metadata": {},
   "source": [
    "postal_code_array_clean = postal_codes_messy[\"postal_code\"].str.replace('\"', '')\n",
    "postal_code_array_clean = postal_code_array_clean.str.replace(\" \", \"\")"
   ]
  },
  {
   "cell_type": "code",
   "execution_count": 21,
   "metadata": {},
   "outputs": [],
   "source": [
    "latitude_array_messy = pd.DataFrame(latitude_array, columns=[\"latitude\"])"
   ]
  },
  {
   "cell_type": "code",
   "execution_count": 23,
   "metadata": {},
   "outputs": [],
   "source": [
    "#latitude_array_messy"
   ]
  },
  {
   "cell_type": "code",
   "execution_count": 24,
   "metadata": {},
   "outputs": [
    {
     "data": {
      "text/plain": [
       "0    51.091129\n",
       "1    50.975174\n",
       "2    51.042621\n",
       "3    51.021818\n",
       "4    51.142426\n",
       "Name: latitude, dtype: object"
      ]
     },
     "execution_count": 24,
     "metadata": {},
     "output_type": "execute_result"
    }
   ],
   "source": [
    "latitude_array_messy = latitude_array_messy[\"latitude\"].str.replace(',', '')\n",
    "latitude_array_messy.head()"
   ]
  },
  {
   "cell_type": "code",
   "execution_count": 25,
   "metadata": {},
   "outputs": [],
   "source": [
    "longitude_array_messy = pd.DataFrame(longitude_array, columns=[\"longitude\"])"
   ]
  },
  {
   "cell_type": "code",
   "execution_count": 26,
   "metadata": {},
   "outputs": [
    {
     "data": {
      "text/plain": [
       "0     -113.956141\n",
       "1     -114.073925\n",
       "2    -114.13671\\n\n",
       "3     -114.095907\n",
       "4     -114.180925\n",
       "Name: longitude, dtype: object"
      ]
     },
     "execution_count": 26,
     "metadata": {},
     "output_type": "execute_result"
    }
   ],
   "source": [
    "longitude_array_messy = longitude_array_messy[\"longitude\"].str.replace(',', '')\n",
    "longitude_array_messy.head()"
   ]
  },
  {
   "cell_type": "markdown",
   "metadata": {},
   "source": [
    "<div class=\"alert alert-danger\">\n",
    "    <b>Unused</b>\n",
    "    \n",
    "year_built_messy = pd.DataFrame(year_built_array, columns=[\"year_built\"])<br>\n",
    "year_built_clean = year_built_messy[\"year_built\"].str.replace('', np.nan)<br>\n",
    "year_built_num = year_built_messy.astype(int)\n",
    "\n",
    "year_built_num.head()\n",
    "</div>"
   ]
  },
  {
   "cell_type": "code",
   "execution_count": 27,
   "metadata": {},
   "outputs": [
    {
     "data": {
      "text/html": [
       "<div>\n",
       "<style scoped>\n",
       "    .dataframe tbody tr th:only-of-type {\n",
       "        vertical-align: middle;\n",
       "    }\n",
       "\n",
       "    .dataframe tbody tr th {\n",
       "        vertical-align: top;\n",
       "    }\n",
       "\n",
       "    .dataframe thead th {\n",
       "        text-align: right;\n",
       "    }\n",
       "</style>\n",
       "<table border=\"1\" class=\"dataframe\">\n",
       "  <thead>\n",
       "    <tr style=\"text-align: right;\">\n",
       "      <th></th>\n",
       "      <th>year_built</th>\n",
       "    </tr>\n",
       "  </thead>\n",
       "  <tbody>\n",
       "    <tr>\n",
       "      <th>0</th>\n",
       "      <td>1979</td>\n",
       "    </tr>\n",
       "    <tr>\n",
       "      <th>1</th>\n",
       "      <td>2010</td>\n",
       "    </tr>\n",
       "    <tr>\n",
       "      <th>2</th>\n",
       "      <td>2008</td>\n",
       "    </tr>\n",
       "    <tr>\n",
       "      <th>3</th>\n",
       "      <td>2013</td>\n",
       "    </tr>\n",
       "    <tr>\n",
       "      <th>4</th>\n",
       "      <td>1995</td>\n",
       "    </tr>\n",
       "  </tbody>\n",
       "</table>\n",
       "</div>"
      ],
      "text/plain": [
       "  year_built\n",
       "0       1979\n",
       "1       2010\n",
       "2       2008\n",
       "3       2013\n",
       "4       1995"
      ]
     },
     "execution_count": 27,
     "metadata": {},
     "output_type": "execute_result"
    }
   ],
   "source": [
    "year_built_messy = pd.DataFrame(year_built_array, columns=[\"year_built\"])\n",
    "#year_built_messy = pd.to_numeric(year_built_messy)\n",
    "year_built_messy.head()"
   ]
  },
  {
   "cell_type": "code",
   "execution_count": 28,
   "metadata": {},
   "outputs": [],
   "source": [
    "year_built_clean = year_built_messy[\"year_built\"].replace('', np.nan)"
   ]
  },
  {
   "cell_type": "code",
   "execution_count": 29,
   "metadata": {},
   "outputs": [
    {
     "data": {
      "text/plain": [
       "0     1979\n",
       "1     2010\n",
       "2     2008\n",
       "3     2013\n",
       "4     1995\n",
       "5     1977\n",
       "6     1997\n",
       "7     2004\n",
       "8     2017\n",
       "9     1968\n",
       "10    1979\n",
       "Name: year_built, dtype: object"
      ]
     },
     "execution_count": 29,
     "metadata": {},
     "output_type": "execute_result"
    }
   ],
   "source": [
    "year_built_clean.head(11)"
   ]
  },
  {
   "cell_type": "code",
   "execution_count": 30,
   "metadata": {},
   "outputs": [],
   "source": [
    "year_built_digits = []\n",
    "\n",
    "for i in year_built_clean:\n",
    "    if ((str(i) >= 'A' and str(i) <= 'Z') or (str(i) >= 'a' and str(i) <= 'z')):\n",
    "        #year_built_clean.replace(i, np.nan)\n",
    "        year_built_digits.append(np.nan)\n",
    "    if ((str(i) == ' 9 2') or (str(i) == ' 8 2') or (str(i) == ' 2 2') or (str(i) == 'nasq') or (str(i) == ' 6 R') or (str(i) == ' 6 S')):\n",
    "        year_built_digits.append(np.nan)\n",
    "    else:\n",
    "        year_built_digits.append(i)"
   ]
  },
  {
   "cell_type": "code",
   "execution_count": 31,
   "metadata": {},
   "outputs": [
    {
     "data": {
      "text/plain": [
       "['1979',\n",
       " '2010',\n",
       " '2008',\n",
       " '2013',\n",
       " '1995',\n",
       " '1977',\n",
       " '1997',\n",
       " '2004',\n",
       " '2017',\n",
       " '1968',\n",
       " '1979']"
      ]
     },
     "execution_count": 31,
     "metadata": {},
     "output_type": "execute_result"
    }
   ],
   "source": [
    "year_built_digits[:11]"
   ]
  },
  {
   "cell_type": "code",
   "execution_count": 32,
   "metadata": {},
   "outputs": [
    {
     "data": {
      "text/plain": [
       "array([1979, 2010, 2008, 2013, 1995, 1977, 1997, 2004, 2017, 1968],\n",
       "      dtype=int64)"
      ]
     },
     "execution_count": 32,
     "metadata": {},
     "output_type": "execute_result"
    }
   ],
   "source": [
    "year_built_num = pd.to_numeric(year_built_digits)\n",
    "year_built_num[:10]"
   ]
  },
  {
   "cell_type": "code",
   "execution_count": 33,
   "metadata": {},
   "outputs": [],
   "source": [
    "year_built_num_pd = pd.DataFrame(year_built_num)"
   ]
  },
  {
   "cell_type": "code",
   "execution_count": 34,
   "metadata": {},
   "outputs": [
    {
     "data": {
      "text/plain": [
       "array([41, 10, 12,  7, 25, 43, 23, 16,  3, 52], dtype=int64)"
      ]
     },
     "execution_count": 34,
     "metadata": {},
     "output_type": "execute_result"
    }
   ],
   "source": [
    "years_old = 2020 - year_built_num\n",
    "years_old[:10]"
   ]
  },
  {
   "cell_type": "code",
   "execution_count": 35,
   "metadata": {},
   "outputs": [],
   "source": [
    "years_old_df = pd.DataFrame(years_old)"
   ]
  },
  {
   "cell_type": "code",
   "execution_count": 36,
   "metadata": {},
   "outputs": [],
   "source": [
    "latitude_digits = []\n",
    "\n",
    "for i in latitude_array_messy:\n",
    "    if ((str(i) >= 'A' and str(i) <= 'Z') or (str(i) >= 'a' and str(i) <= 'z')):\n",
    "        latitude_digits.append(np.nan)\n",
    "    else:\n",
    "        latitude_digits.append(i)"
   ]
  },
  {
   "cell_type": "code",
   "execution_count": 37,
   "metadata": {},
   "outputs": [],
   "source": [
    "longitude_digits = []\n",
    "\n",
    "for i in longitude_array_messy:\n",
    "    if ((str(i) >= 'A' and str(i) <= 'Z') or (str(i) >= 'a' and str(i) <= 'z')):\n",
    "        longitude_digits.append(np.nan)\n",
    "    else:\n",
    "        longitude_digits.append(i)"
   ]
  },
  {
   "cell_type": "code",
   "execution_count": 38,
   "metadata": {},
   "outputs": [],
   "source": [
    "latitude_digits = pd.to_numeric(latitude_digits)\n",
    "longitude_digits = pd.to_numeric(longitude_digits)"
   ]
  },
  {
   "cell_type": "code",
   "execution_count": 39,
   "metadata": {},
   "outputs": [
    {
     "data": {
      "text/html": [
       "<div>\n",
       "<style scoped>\n",
       "    .dataframe tbody tr th:only-of-type {\n",
       "        vertical-align: middle;\n",
       "    }\n",
       "\n",
       "    .dataframe tbody tr th {\n",
       "        vertical-align: top;\n",
       "    }\n",
       "\n",
       "    .dataframe thead th {\n",
       "        text-align: right;\n",
       "    }\n",
       "</style>\n",
       "<table border=\"1\" class=\"dataframe\">\n",
       "  <thead>\n",
       "    <tr style=\"text-align: right;\">\n",
       "      <th></th>\n",
       "      <th>monthly_payments</th>\n",
       "    </tr>\n",
       "  </thead>\n",
       "  <tbody>\n",
       "    <tr>\n",
       "      <th>0</th>\n",
       "      <td>$1469.77</td>\n",
       "    </tr>\n",
       "    <tr>\n",
       "      <th>1</th>\n",
       "      <td>$1016.17</td>\n",
       "    </tr>\n",
       "    <tr>\n",
       "      <th>2</th>\n",
       "      <td>$1296.75</td>\n",
       "    </tr>\n",
       "    <tr>\n",
       "      <th>3</th>\n",
       "      <td>$4107.48</td>\n",
       "    </tr>\n",
       "    <tr>\n",
       "      <th>4</th>\n",
       "      <td>$1448.15</td>\n",
       "    </tr>\n",
       "  </tbody>\n",
       "</table>\n",
       "</div>"
      ],
      "text/plain": [
       "  monthly_payments\n",
       "0         $1469.77\n",
       "1         $1016.17\n",
       "2         $1296.75\n",
       "3         $4107.48\n",
       "4         $1448.15"
      ]
     },
     "execution_count": 39,
     "metadata": {},
     "output_type": "execute_result"
    }
   ],
   "source": [
    "payment_monthly_messy = pd.DataFrame(payment_monthly, columns=[\"monthly_payments\"])\n",
    "payment_monthly_messy.head()"
   ]
  },
  {
   "cell_type": "code",
   "execution_count": 40,
   "metadata": {
    "scrolled": true
   },
   "outputs": [
    {
     "data": {
      "text/plain": [
       "0    1469.77\n",
       "1    1016.17\n",
       "2    1296.75\n",
       "3    4107.48\n",
       "4    1448.15\n",
       "5     626.57\n",
       "6    1924.23\n",
       "7    1426.53\n",
       "8     972.50\n",
       "9    1729.22\n",
       "Name: monthly_payments, dtype: object"
      ]
     },
     "execution_count": 40,
     "metadata": {},
     "output_type": "execute_result"
    }
   ],
   "source": [
    "payment_monthly_messy = payment_monthly_messy[\"monthly_payments\"].str.replace('$', '')\n",
    "payment_monthly_messy.head(10)"
   ]
  },
  {
   "cell_type": "code",
   "execution_count": 41,
   "metadata": {},
   "outputs": [],
   "source": [
    "payment_monthly_messy = payment_monthly_messy.replace('', np.nan)"
   ]
  },
  {
   "cell_type": "code",
   "execution_count": 42,
   "metadata": {},
   "outputs": [],
   "source": [
    "payment_monthly_clean = payment_monthly_messy.replace('None', np.nan)\n",
    "payment_monthly_clean = pd.to_numeric(payment_monthly_clean)"
   ]
  },
  {
   "cell_type": "markdown",
   "metadata": {},
   "source": [
    "<div class=\"alert alert-success\">\n",
    "    <b>Guide</b>\n",
    "    \n",
    "https://stackoverflow.com/questions/19412462/getting-distance-between-two-points-based-on-latitude-longitude\n",
    "\n",
    "#### approximate radius of earth in km\n",
    "R = 6373.0\n",
    "    \n",
    "lat1 = radians(52.2296756)<br>\n",
    "lon1 = radians(21.0122287)\n",
    "\n",
    "lat2 = radians(52.406374)<br>\n",
    "lon2 = radians(16.9251681)\n",
    "\n",
    "dlon = lon2 - lon1<br>\n",
    "dlat = lat2 - lat1\n",
    "\n",
    "a = sin(dlat / 2)**2 + cos(lat1) * cos(lat2) * sin(dlon / 2)**2<br>\n",
    "c = 2 * atan2(sqrt(a), sqrt(1 - a))\n",
    "\n",
    "distance = R * c\n",
    "\n",
    "print(\"Result:\", distance)\n",
    "    \n",
    "#### Calgary Downtown coordinates (51.0449485,-114.0739559)\n",
    "</div>"
   ]
  },
  {
   "cell_type": "code",
   "execution_count": 45,
   "metadata": {},
   "outputs": [],
   "source": [
    "distance_downtown = []\n",
    "\n",
    "for i, j in zip(latitude_digits, longitude_digits):\n",
    "    lat1 = radians(i)\n",
    "    lon1 = radians(j)\n",
    "    lat2 = radians(51.0449485)\n",
    "    lon2 = radians(-114.0739559)\n",
    "    \n",
    "    dlon = lon2 - lon1\n",
    "    dlat = lat2 - lat1\n",
    "\n",
    "    a = sin(dlat / 2)**2 + cos(lat1) * cos(lat2) * sin(dlon / 2)**2\n",
    "    c = 2 * atan2(sqrt(a), sqrt(1 - a))\n",
    "    R = 6373.0\n",
    "    distance = (R * c)\n",
    "    \n",
    "    distance_downtown.append(round(distance, 2))"
   ]
  },
  {
   "cell_type": "code",
   "execution_count": 46,
   "metadata": {},
   "outputs": [
    {
     "data": {
      "text/plain": [
       "[9.71, 7.76, 4.4, 3.0, 13.17]"
      ]
     },
     "execution_count": 46,
     "metadata": {},
     "output_type": "execute_result"
    }
   ],
   "source": [
    "distance_downtown[:5]"
   ]
  },
  {
   "cell_type": "code",
   "execution_count": 47,
   "metadata": {},
   "outputs": [],
   "source": [
    "distance_downtown_df = pd.DataFrame(distance_downtown)"
   ]
  },
  {
   "cell_type": "markdown",
   "metadata": {},
   "source": [
    "<div class=\"alert alert-warning\">\n",
    "    <b>Another example</b>\n",
    "    \n",
    "import geopy.distance\n",
    "\n",
    "coords_1 = (52.2296756, 21.0122287)<br>\n",
    "coords_2 = (52.406374, 16.9251681)\n",
    "\n",
    "print(geopy.distance.vincenty(coords_1, coords_2).km)\n",
    "</div>"
   ]
  },
  {
   "cell_type": "code",
   "execution_count": 48,
   "metadata": {},
   "outputs": [
    {
     "data": {
      "text/html": [
       "<div>\n",
       "<style scoped>\n",
       "    .dataframe tbody tr th:only-of-type {\n",
       "        vertical-align: middle;\n",
       "    }\n",
       "\n",
       "    .dataframe tbody tr th {\n",
       "        vertical-align: top;\n",
       "    }\n",
       "\n",
       "    .dataframe thead th {\n",
       "        text-align: right;\n",
       "    }\n",
       "</style>\n",
       "<table border=\"1\" class=\"dataframe\">\n",
       "  <thead>\n",
       "    <tr style=\"text-align: right;\">\n",
       "      <th></th>\n",
       "      <th>0</th>\n",
       "      <th>1</th>\n",
       "      <th>2</th>\n",
       "    </tr>\n",
       "  </thead>\n",
       "  <tbody>\n",
       "    <tr>\n",
       "      <th>0</th>\n",
       "      <td>51.091129</td>\n",
       "      <td>-113.956141</td>\n",
       "      <td>1979.0</td>\n",
       "    </tr>\n",
       "    <tr>\n",
       "      <th>1</th>\n",
       "      <td>50.975174</td>\n",
       "      <td>-114.073925</td>\n",
       "      <td>2010.0</td>\n",
       "    </tr>\n",
       "    <tr>\n",
       "      <th>2</th>\n",
       "      <td>51.042621</td>\n",
       "      <td>-114.136710</td>\n",
       "      <td>2008.0</td>\n",
       "    </tr>\n",
       "    <tr>\n",
       "      <th>3</th>\n",
       "      <td>51.021818</td>\n",
       "      <td>-114.095907</td>\n",
       "      <td>2013.0</td>\n",
       "    </tr>\n",
       "    <tr>\n",
       "      <th>4</th>\n",
       "      <td>51.142426</td>\n",
       "      <td>-114.180925</td>\n",
       "      <td>1995.0</td>\n",
       "    </tr>\n",
       "  </tbody>\n",
       "</table>\n",
       "</div>"
      ],
      "text/plain": [
       "           0           1       2\n",
       "0  51.091129 -113.956141  1979.0\n",
       "1  50.975174 -114.073925  2010.0\n",
       "2  51.042621 -114.136710  2008.0\n",
       "3  51.021818 -114.095907  2013.0\n",
       "4  51.142426 -114.180925  1995.0"
      ]
     },
     "execution_count": 48,
     "metadata": {},
     "output_type": "execute_result"
    }
   ],
   "source": [
    "more_details = pd.DataFrame([latitude_digits, longitude_digits, year_built_num]).T\n",
    "#more_details.columns = [\"postal_code\", \"latitude\", \"longitude\", \"year_built\"]\n",
    "more_details.head()"
   ]
  },
  {
   "cell_type": "code",
   "execution_count": 49,
   "metadata": {},
   "outputs": [],
   "source": [
    "lot_size_df = pd.DataFrame(lot_size)"
   ]
  },
  {
   "cell_type": "code",
   "execution_count": 50,
   "metadata": {},
   "outputs": [],
   "source": [
    "basement_df = pd.DataFrame(basement)"
   ]
  },
  {
   "cell_type": "code",
   "execution_count": 51,
   "metadata": {},
   "outputs": [],
   "source": [
    "garage_df = pd.DataFrame(garage)"
   ]
  },
  {
   "cell_type": "code",
   "execution_count": 52,
   "metadata": {},
   "outputs": [],
   "source": [
    "mls_df = pd.DataFrame(mlsa)"
   ]
  },
  {
   "cell_type": "code",
   "execution_count": 53,
   "metadata": {
    "scrolled": false
   },
   "outputs": [
    {
     "data": {
      "text/html": [
       "<div>\n",
       "<style scoped>\n",
       "    .dataframe tbody tr th:only-of-type {\n",
       "        vertical-align: middle;\n",
       "    }\n",
       "\n",
       "    .dataframe tbody tr th {\n",
       "        vertical-align: top;\n",
       "    }\n",
       "\n",
       "    .dataframe thead th {\n",
       "        text-align: right;\n",
       "    }\n",
       "</style>\n",
       "<table border=\"1\" class=\"dataframe\">\n",
       "  <thead>\n",
       "    <tr style=\"text-align: right;\">\n",
       "      <th></th>\n",
       "      <th>latitude</th>\n",
       "      <th>longitude</th>\n",
       "      <th>year_built</th>\n",
       "      <th>years_old</th>\n",
       "      <th>distance_downtown</th>\n",
       "      <th>monthly_payments</th>\n",
       "      <th>lot_size</th>\n",
       "      <th>basement</th>\n",
       "      <th>garage</th>\n",
       "      <th>mls</th>\n",
       "    </tr>\n",
       "  </thead>\n",
       "  <tbody>\n",
       "    <tr>\n",
       "      <th>0</th>\n",
       "      <td>51.091129</td>\n",
       "      <td>-113.956141</td>\n",
       "      <td>1979.0</td>\n",
       "      <td>41</td>\n",
       "      <td>9.71</td>\n",
       "      <td>1469.77</td>\n",
       "      <td>4790</td>\n",
       "      <td>1</td>\n",
       "      <td>1</td>\n",
       "      <td>A1046765</td>\n",
       "    </tr>\n",
       "    <tr>\n",
       "      <th>1</th>\n",
       "      <td>50.975174</td>\n",
       "      <td>-114.073925</td>\n",
       "      <td>2010.0</td>\n",
       "      <td>10</td>\n",
       "      <td>7.76</td>\n",
       "      <td>1016.17</td>\n",
       "      <td>NaN</td>\n",
       "      <td>0</td>\n",
       "      <td>1</td>\n",
       "      <td>A1045446</td>\n",
       "    </tr>\n",
       "    <tr>\n",
       "      <th>2</th>\n",
       "      <td>51.042621</td>\n",
       "      <td>-114.136710</td>\n",
       "      <td>2008.0</td>\n",
       "      <td>12</td>\n",
       "      <td>4.40</td>\n",
       "      <td>1296.75</td>\n",
       "      <td>NaN</td>\n",
       "      <td>0</td>\n",
       "      <td>0</td>\n",
       "      <td>A1046854</td>\n",
       "    </tr>\n",
       "    <tr>\n",
       "      <th>3</th>\n",
       "      <td>51.021818</td>\n",
       "      <td>-114.095907</td>\n",
       "      <td>2013.0</td>\n",
       "      <td>7</td>\n",
       "      <td>3.00</td>\n",
       "      <td>4107.48</td>\n",
       "      <td>3132</td>\n",
       "      <td>1</td>\n",
       "      <td>1</td>\n",
       "      <td>A1046690</td>\n",
       "    </tr>\n",
       "    <tr>\n",
       "      <th>4</th>\n",
       "      <td>51.142426</td>\n",
       "      <td>-114.180925</td>\n",
       "      <td>1995.0</td>\n",
       "      <td>25</td>\n",
       "      <td>13.17</td>\n",
       "      <td>1448.15</td>\n",
       "      <td>2314</td>\n",
       "      <td>1</td>\n",
       "      <td>1</td>\n",
       "      <td>A1044809</td>\n",
       "    </tr>\n",
       "  </tbody>\n",
       "</table>\n",
       "</div>"
      ],
      "text/plain": [
       "    latitude   longitude  year_built  years_old  distance_downtown  \\\n",
       "0  51.091129 -113.956141      1979.0         41               9.71   \n",
       "1  50.975174 -114.073925      2010.0         10               7.76   \n",
       "2  51.042621 -114.136710      2008.0         12               4.40   \n",
       "3  51.021818 -114.095907      2013.0          7               3.00   \n",
       "4  51.142426 -114.180925      1995.0         25              13.17   \n",
       "\n",
       "   monthly_payments lot_size  basement  garage       mls  \n",
       "0           1469.77     4790         1       1  A1046765  \n",
       "1           1016.17      NaN         0       1  A1045446  \n",
       "2           1296.75      NaN         0       0  A1046854  \n",
       "3           4107.48     3132         1       1  A1046690  \n",
       "4           1448.15     2314         1       1  A1044809  "
      ]
     },
     "execution_count": 53,
     "metadata": {},
     "output_type": "execute_result"
    }
   ],
   "source": [
    "more_df = pd.concat([more_details, years_old_df, distance_downtown_df, payment_monthly_clean, lot_size_df, basement_df, garage_df, mls_df], axis=1)\n",
    "more_df.columns = [\"latitude\", \"longitude\", \"year_built\", \"years_old\", \"distance_downtown\", \"monthly_payments\", \"lot_size\", \"basement\", \"garage\", \"mls\"]\n",
    "more_df.head()"
   ]
  },
  {
   "cell_type": "code",
   "execution_count": 54,
   "metadata": {},
   "outputs": [
    {
     "data": {
      "text/plain": [
       "60"
      ]
     },
     "execution_count": 54,
     "metadata": {},
     "output_type": "execute_result"
    }
   ],
   "source": [
    "len(more_df)"
   ]
  },
  {
   "cell_type": "code",
   "execution_count": 55,
   "metadata": {},
   "outputs": [],
   "source": [
    "more_df.to_csv('data/calgary_listings-b.csv', index=False)"
   ]
  },
  {
   "cell_type": "code",
   "execution_count": 61,
   "metadata": {},
   "outputs": [
    {
     "data": {
      "text/html": [
       "<div>\n",
       "<style scoped>\n",
       "    .dataframe tbody tr th:only-of-type {\n",
       "        vertical-align: middle;\n",
       "    }\n",
       "\n",
       "    .dataframe tbody tr th {\n",
       "        vertical-align: top;\n",
       "    }\n",
       "\n",
       "    .dataframe thead th {\n",
       "        text-align: right;\n",
       "    }\n",
       "</style>\n",
       "<table border=\"1\" class=\"dataframe\">\n",
       "  <thead>\n",
       "    <tr style=\"text-align: right;\">\n",
       "      <th></th>\n",
       "      <th>price</th>\n",
       "      <th>postal_code</th>\n",
       "      <th>address</th>\n",
       "      <th>mls</th>\n",
       "      <th>bed</th>\n",
       "      <th>full_bath</th>\n",
       "      <th>half_bath</th>\n",
       "      <th>property_area</th>\n",
       "      <th>property_type</th>\n",
       "      <th>latitude</th>\n",
       "      <th>longitude</th>\n",
       "      <th>year_built</th>\n",
       "      <th>years_old</th>\n",
       "      <th>distance_downtown</th>\n",
       "      <th>monthly_payments</th>\n",
       "      <th>lot_size</th>\n",
       "      <th>basement</th>\n",
       "      <th>garage</th>\n",
       "    </tr>\n",
       "  </thead>\n",
       "  <tbody>\n",
       "    <tr>\n",
       "      <th>0</th>\n",
       "      <td>339900</td>\n",
       "      <td>T1Y4E8</td>\n",
       "      <td>7172 TEMPLE DR NE</td>\n",
       "      <td>A1046765</td>\n",
       "      <td>5</td>\n",
       "      <td>2</td>\n",
       "      <td>1.0</td>\n",
       "      <td>1066</td>\n",
       "      <td>house</td>\n",
       "      <td>51.091129</td>\n",
       "      <td>-113.956141</td>\n",
       "      <td>1979.0</td>\n",
       "      <td>41</td>\n",
       "      <td>9.71</td>\n",
       "      <td>1469.77</td>\n",
       "      <td>4790</td>\n",
       "      <td>1</td>\n",
       "      <td>1</td>\n",
       "    </tr>\n",
       "    <tr>\n",
       "      <th>1</th>\n",
       "      <td>235000</td>\n",
       "      <td>T2V2W3</td>\n",
       "      <td>611 - 8880 HORTON RD SW</td>\n",
       "      <td>A1045446</td>\n",
       "      <td>1</td>\n",
       "      <td>1</td>\n",
       "      <td>NaN</td>\n",
       "      <td>723</td>\n",
       "      <td>condo</td>\n",
       "      <td>50.975174</td>\n",
       "      <td>-114.073925</td>\n",
       "      <td>2010.0</td>\n",
       "      <td>10</td>\n",
       "      <td>7.76</td>\n",
       "      <td>1016.17</td>\n",
       "      <td>NaN</td>\n",
       "      <td>0</td>\n",
       "      <td>1</td>\n",
       "    </tr>\n",
       "    <tr>\n",
       "      <th>2</th>\n",
       "      <td>299888</td>\n",
       "      <td>T3C3X6</td>\n",
       "      <td>402 - 77 SPRUCE PL SW</td>\n",
       "      <td>A1046854</td>\n",
       "      <td>2</td>\n",
       "      <td>2</td>\n",
       "      <td>NaN</td>\n",
       "      <td>889</td>\n",
       "      <td>condo</td>\n",
       "      <td>51.042621</td>\n",
       "      <td>-114.136710</td>\n",
       "      <td>2008.0</td>\n",
       "      <td>12</td>\n",
       "      <td>4.40</td>\n",
       "      <td>1296.75</td>\n",
       "      <td>NaN</td>\n",
       "      <td>0</td>\n",
       "      <td>0</td>\n",
       "    </tr>\n",
       "    <tr>\n",
       "      <th>3</th>\n",
       "      <td>949900</td>\n",
       "      <td>T2T3X9</td>\n",
       "      <td>3710 14A ST SW</td>\n",
       "      <td>A1046690</td>\n",
       "      <td>4</td>\n",
       "      <td>3</td>\n",
       "      <td>1.0</td>\n",
       "      <td>1845</td>\n",
       "      <td>house</td>\n",
       "      <td>51.021818</td>\n",
       "      <td>-114.095907</td>\n",
       "      <td>2013.0</td>\n",
       "      <td>7</td>\n",
       "      <td>3.00</td>\n",
       "      <td>4107.48</td>\n",
       "      <td>3132</td>\n",
       "      <td>1</td>\n",
       "      <td>1</td>\n",
       "    </tr>\n",
       "    <tr>\n",
       "      <th>4</th>\n",
       "      <td>334900</td>\n",
       "      <td>T3G4J5</td>\n",
       "      <td>155 Citadel Drive NW</td>\n",
       "      <td>A1044809</td>\n",
       "      <td>3</td>\n",
       "      <td>2</td>\n",
       "      <td>1.0</td>\n",
       "      <td>1389</td>\n",
       "      <td>townhouse</td>\n",
       "      <td>51.142426</td>\n",
       "      <td>-114.180925</td>\n",
       "      <td>1995.0</td>\n",
       "      <td>25</td>\n",
       "      <td>13.17</td>\n",
       "      <td>1448.15</td>\n",
       "      <td>2314</td>\n",
       "      <td>1</td>\n",
       "      <td>1</td>\n",
       "    </tr>\n",
       "  </tbody>\n",
       "</table>\n",
       "</div>"
      ],
      "text/plain": [
       "    price postal_code                  address       mls  bed  full_bath  \\\n",
       "0  339900      T1Y4E8        7172 TEMPLE DR NE  A1046765    5          2   \n",
       "1  235000      T2V2W3  611 - 8880 HORTON RD SW  A1045446    1          1   \n",
       "2  299888      T3C3X6    402 - 77 SPRUCE PL SW  A1046854    2          2   \n",
       "3  949900      T2T3X9           3710 14A ST SW  A1046690    4          3   \n",
       "4  334900      T3G4J5     155 Citadel Drive NW  A1044809    3          2   \n",
       "\n",
       "   half_bath  property_area property_type   latitude   longitude  year_built  \\\n",
       "0        1.0           1066         house  51.091129 -113.956141      1979.0   \n",
       "1        NaN            723         condo  50.975174 -114.073925      2010.0   \n",
       "2        NaN            889         condo  51.042621 -114.136710      2008.0   \n",
       "3        1.0           1845         house  51.021818 -114.095907      2013.0   \n",
       "4        1.0           1389     townhouse  51.142426 -114.180925      1995.0   \n",
       "\n",
       "   years_old  distance_downtown  monthly_payments lot_size  basement  garage  \n",
       "0         41               9.71           1469.77     4790         1       1  \n",
       "1         10               7.76           1016.17      NaN         0       1  \n",
       "2         12               4.40           1296.75      NaN         0       0  \n",
       "3          7               3.00           4107.48     3132         1       1  \n",
       "4         25              13.17           1448.15     2314         1       1  "
      ]
     },
     "execution_count": 61,
     "metadata": {},
     "output_type": "execute_result"
    }
   ],
   "source": [
    "result_dup = pd.merge(calgary_df, more_df, on='mls')\n",
    "result = result_dup.drop_duplicates()\n",
    "result = result.reset_index(drop=True)\n",
    "result.head()"
   ]
  },
  {
   "cell_type": "code",
   "execution_count": 62,
   "metadata": {},
   "outputs": [
    {
     "data": {
      "text/plain": [
       "20"
      ]
     },
     "execution_count": 62,
     "metadata": {},
     "output_type": "execute_result"
    }
   ],
   "source": [
    "len(result)"
   ]
  },
  {
   "cell_type": "code",
   "execution_count": 63,
   "metadata": {},
   "outputs": [
    {
     "data": {
      "text/html": [
       "<div>\n",
       "<style scoped>\n",
       "    .dataframe tbody tr th:only-of-type {\n",
       "        vertical-align: middle;\n",
       "    }\n",
       "\n",
       "    .dataframe tbody tr th {\n",
       "        vertical-align: top;\n",
       "    }\n",
       "\n",
       "    .dataframe thead th {\n",
       "        text-align: right;\n",
       "    }\n",
       "</style>\n",
       "<table border=\"1\" class=\"dataframe\">\n",
       "  <thead>\n",
       "    <tr style=\"text-align: right;\">\n",
       "      <th></th>\n",
       "      <th>price</th>\n",
       "      <th>postal_code</th>\n",
       "      <th>address</th>\n",
       "      <th>mls</th>\n",
       "      <th>bed</th>\n",
       "      <th>full_bath</th>\n",
       "      <th>half_bath</th>\n",
       "      <th>property_area</th>\n",
       "      <th>property_type</th>\n",
       "      <th>latitude</th>\n",
       "      <th>longitude</th>\n",
       "      <th>year_built</th>\n",
       "      <th>years_old</th>\n",
       "      <th>distance_downtown</th>\n",
       "      <th>monthly_payments</th>\n",
       "      <th>lot_size</th>\n",
       "      <th>basement</th>\n",
       "      <th>garage</th>\n",
       "    </tr>\n",
       "  </thead>\n",
       "  <tbody>\n",
       "    <tr>\n",
       "      <th>11</th>\n",
       "      <td>597900</td>\n",
       "      <td>T3P0K3</td>\n",
       "      <td>100 EVANSFIELD PL NW</td>\n",
       "      <td>A1046587</td>\n",
       "      <td>4</td>\n",
       "      <td>3</td>\n",
       "      <td>1.0</td>\n",
       "      <td>2467</td>\n",
       "      <td>house</td>\n",
       "      <td>51.177351</td>\n",
       "      <td>-114.110308</td>\n",
       "      <td>2012.0</td>\n",
       "      <td>8</td>\n",
       "      <td>14.94</td>\n",
       "      <td>2585.39</td>\n",
       "      <td>5468</td>\n",
       "      <td>1</td>\n",
       "      <td>1</td>\n",
       "    </tr>\n",
       "    <tr>\n",
       "      <th>14</th>\n",
       "      <td>319900</td>\n",
       "      <td>T2W1G1</td>\n",
       "      <td>10304 ELBOW DR SW</td>\n",
       "      <td>A1046733</td>\n",
       "      <td>3</td>\n",
       "      <td>1</td>\n",
       "      <td>NaN</td>\n",
       "      <td>1040</td>\n",
       "      <td>house</td>\n",
       "      <td>50.961657</td>\n",
       "      <td>-114.084377</td>\n",
       "      <td>1961.0</td>\n",
       "      <td>59</td>\n",
       "      <td>9.29</td>\n",
       "      <td>1383.29</td>\n",
       "      <td>5500</td>\n",
       "      <td>1</td>\n",
       "      <td>1</td>\n",
       "    </tr>\n",
       "    <tr>\n",
       "      <th>12</th>\n",
       "      <td>349000</td>\n",
       "      <td>T3M1C3</td>\n",
       "      <td>110 CRAMOND PL SE</td>\n",
       "      <td>A1046724</td>\n",
       "      <td>3</td>\n",
       "      <td>2</td>\n",
       "      <td>1.0</td>\n",
       "      <td>1245</td>\n",
       "      <td>house</td>\n",
       "      <td>50.893400</td>\n",
       "      <td>-113.979031</td>\n",
       "      <td>2001.0</td>\n",
       "      <td>19</td>\n",
       "      <td>18.12</td>\n",
       "      <td>1509.12</td>\n",
       "      <td>2669</td>\n",
       "      <td>1</td>\n",
       "      <td>1</td>\n",
       "    </tr>\n",
       "    <tr>\n",
       "      <th>7</th>\n",
       "      <td>329900</td>\n",
       "      <td>T3L3C2</td>\n",
       "      <td>15 Toscana Gardens NW</td>\n",
       "      <td>A1046451</td>\n",
       "      <td>2</td>\n",
       "      <td>2</td>\n",
       "      <td>1.0</td>\n",
       "      <td>1345</td>\n",
       "      <td>townhouse</td>\n",
       "      <td>51.121067</td>\n",
       "      <td>-114.254993</td>\n",
       "      <td>2004.0</td>\n",
       "      <td>16</td>\n",
       "      <td>15.22</td>\n",
       "      <td>1426.53</td>\n",
       "      <td>na</td>\n",
       "      <td>0</td>\n",
       "      <td>1</td>\n",
       "    </tr>\n",
       "    <tr>\n",
       "      <th>4</th>\n",
       "      <td>334900</td>\n",
       "      <td>T3G4J5</td>\n",
       "      <td>155 Citadel Drive NW</td>\n",
       "      <td>A1044809</td>\n",
       "      <td>3</td>\n",
       "      <td>2</td>\n",
       "      <td>1.0</td>\n",
       "      <td>1389</td>\n",
       "      <td>townhouse</td>\n",
       "      <td>51.142426</td>\n",
       "      <td>-114.180925</td>\n",
       "      <td>1995.0</td>\n",
       "      <td>25</td>\n",
       "      <td>13.17</td>\n",
       "      <td>1448.15</td>\n",
       "      <td>2314</td>\n",
       "      <td>1</td>\n",
       "      <td>1</td>\n",
       "    </tr>\n",
       "  </tbody>\n",
       "</table>\n",
       "</div>"
      ],
      "text/plain": [
       "     price postal_code                address       mls  bed  full_bath  \\\n",
       "11  597900      T3P0K3   100 EVANSFIELD PL NW  A1046587    4          3   \n",
       "14  319900      T2W1G1      10304 ELBOW DR SW  A1046733    3          1   \n",
       "12  349000      T3M1C3      110 CRAMOND PL SE  A1046724    3          2   \n",
       "7   329900      T3L3C2  15 Toscana Gardens NW  A1046451    2          2   \n",
       "4   334900      T3G4J5   155 Citadel Drive NW  A1044809    3          2   \n",
       "\n",
       "    half_bath  property_area property_type   latitude   longitude  year_built  \\\n",
       "11        1.0           2467         house  51.177351 -114.110308      2012.0   \n",
       "14        NaN           1040         house  50.961657 -114.084377      1961.0   \n",
       "12        1.0           1245         house  50.893400 -113.979031      2001.0   \n",
       "7         1.0           1345     townhouse  51.121067 -114.254993      2004.0   \n",
       "4         1.0           1389     townhouse  51.142426 -114.180925      1995.0   \n",
       "\n",
       "    years_old  distance_downtown  monthly_payments lot_size  basement  garage  \n",
       "11          8              14.94           2585.39     5468         1       1  \n",
       "14         59               9.29           1383.29     5500         1       1  \n",
       "12         19              18.12           1509.12     2669         1       1  \n",
       "7          16              15.22           1426.53       na         0       1  \n",
       "4          25              13.17           1448.15     2314         1       1  "
      ]
     },
     "execution_count": 63,
     "metadata": {},
     "output_type": "execute_result"
    }
   ],
   "source": [
    "result_df_clean = result.sort_values('address').drop_duplicates(subset=['mls']) \n",
    "result_df_clean.head()"
   ]
  },
  {
   "cell_type": "code",
   "execution_count": 64,
   "metadata": {},
   "outputs": [
    {
     "data": {
      "text/plain": [
       "20"
      ]
     },
     "execution_count": 64,
     "metadata": {},
     "output_type": "execute_result"
    }
   ],
   "source": [
    "len(result_df_clean)"
   ]
  },
  {
   "cell_type": "code",
   "execution_count": 65,
   "metadata": {},
   "outputs": [],
   "source": [
    "result_df_clean.to_csv('data/calgary_listings.csv', index=False)"
   ]
  },
  {
   "cell_type": "markdown",
   "metadata": {},
   "source": [
    "-----------"
   ]
  },
  {
   "cell_type": "markdown",
   "metadata": {},
   "source": [
    "<div class=\"alert alert-info\">\n",
    "    <b>UNSED</b>\n",
    "</div>"
   ]
  },
  {
   "cell_type": "code",
   "execution_count": null,
   "metadata": {},
   "outputs": [],
   "source": [
    "house_details_more=[]\n",
    "url_house = []\n",
    "try:\n",
    "    for detail in soup.find_all('a'):\n",
    "        house_details_more.append(detail.get('href'))\n",
    "except:\n",
    "    house_details_more.append('None')\n",
    "    \n",
    "for i in house_details_more:\n",
    "    if '/ab/calgary-real-estate/' in str(i):\n",
    "        link = 'https://www.remax.ca' + str(i)\n",
    "        url_house.append(link)\n",
    "url_house"
   ]
  },
  {
   "cell_type": "code",
   "execution_count": null,
   "metadata": {},
   "outputs": [],
   "source": [
    "url_house[:5]"
   ]
  },
  {
   "cell_type": "code",
   "execution_count": null,
   "metadata": {},
   "outputs": [],
   "source": [
    "PostalCode = []\n",
    "Latitude = []\n",
    "Longitude = []\n",
    "YearBuilt = []\n",
    "\n",
    "for i in url_house[:5]:\n",
    "    \n",
    "    time.sleep(5)\n",
    "    \n",
    "    page = requests.get(i)\n",
    "    soup = BeautifulSoup(page.text, \"html.parser\")\n",
    "    \n",
    "    lat_all = soup.find_all('script')[4]\n",
    "    \n",
    "    string = ', '.join(lat_all)\n",
    "    pc = \"postalCode\"\n",
    "    position_pc = string.find(pc)\n",
    "    pcd = string[(position_pc+14):(position_pc+21)]\n",
    "    PostalCode.append(pcd)\n",
    "\n",
    "    lat = \"latitude\"\n",
    "    position_lat = string.find(lat)\n",
    "    latd = string[(position_lat+11):(position_lat+20)]\n",
    "    Latitude.append(latd)\n",
    "\n",
    "    long = \"longitude\"\n",
    "    position_long = string.find(long)\n",
    "    longd = string[(position_long+12):(position_long+23)]\n",
    "    Longitude.append(longd)\n",
    "    \n",
    "    house_address = []\n",
    "    \n",
    "    time.sleep(5)\n",
    "    \n",
    "    try:\n",
    "        addresses = soup.find_all('section', class_='property-details')\n",
    "        for address in addresses:\n",
    "            house_address.append(address.text)\n",
    "    except:\n",
    "        house_address.append('None')\n",
    "    \n",
    "    time.sleep(5)\n",
    "    \n",
    "    string = ', '.join(house_address)\n",
    "    s_year = \"Year Built\"\n",
    "    position_year = string.find(s_year)\n",
    "    year_built = string[(position_year+12):(position_year+16)]\n",
    "    YearBuilt.append(year_built)"
   ]
  },
  {
   "cell_type": "code",
   "execution_count": null,
   "metadata": {},
   "outputs": [],
   "source": []
  }
 ],
 "metadata": {
  "kernelspec": {
   "display_name": "Python 3",
   "language": "python",
   "name": "python3"
  },
  "language_info": {
   "codemirror_mode": {
    "name": "ipython",
    "version": 3
   },
   "file_extension": ".py",
   "mimetype": "text/x-python",
   "name": "python",
   "nbconvert_exporter": "python",
   "pygments_lexer": "ipython3",
   "version": "3.7.6"
  }
 },
 "nbformat": 4,
 "nbformat_minor": 2
}
