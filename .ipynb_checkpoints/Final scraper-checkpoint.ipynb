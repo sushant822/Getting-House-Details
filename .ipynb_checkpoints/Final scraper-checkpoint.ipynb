{
 "cells": [
  {
   "cell_type": "code",
   "execution_count": 1,
   "metadata": {},
   "outputs": [
    {
     "name": "stdout",
     "output_type": "stream",
     "text": [
      "Libraries imported!\n"
     ]
    }
   ],
   "source": [
    "import pandas as pd\n",
    "import numpy as np\n",
    "import requests\n",
    "from bs4 import BeautifulSoup\n",
    "import time\n",
    "import warnings\n",
    "warnings.filterwarnings('ignore')\n",
    "print('Libraries imported!')"
   ]
  },
  {
   "cell_type": "code",
   "execution_count": 2,
   "metadata": {},
   "outputs": [],
   "source": [
    "house_address_all = []\n",
    "house_details_all = []\n",
    "house_address = []\n",
    "house_details = []\n",
    "postal_code_array = []\n",
    "latitude_array = []\n",
    "longitude_array = []\n",
    "year_built_array = []\n",
    "\n",
    "base_url = 'https://www.remax.ca/ab/calgary-real-estate?page='\n",
    "urls = [base_url + str(x) for x in range(1,2)]\n",
    "\n",
    "for url in urls:\n",
    "    \n",
    "    #browser.visit(url)\n",
    "    time.sleep(5)\n",
    "\n",
    "    # Parse HTML with Beautiful Soup\n",
    "    response = requests.get(url)\n",
    "    soup = BeautifulSoup(response.text, 'html.parser')\n",
    "    \n",
    "    time.sleep(5)\n",
    "\n",
    "    try:\n",
    "        addresses = soup.find_all('div', class_='left-content flex-one')\n",
    "        for address in addresses:\n",
    "            house_address_all.append(address.text)\n",
    "    except:\n",
    "        house_address_all.append('None')\n",
    "        \n",
    "    time.sleep(5)\n",
    "        \n",
    "    try:\n",
    "        details = soup.find_all('div', class_='property-details')\n",
    "        for detail in details:\n",
    "            house_details_all.append(detail.text)\n",
    "    except:\n",
    "        house_details_all.append('None')\n",
    "        \n",
    "    time.sleep(5)\n",
    "        \n",
    "    house_details_more=[]\n",
    "    url_house = []\n",
    "        \n",
    "    try:\n",
    "        for detail in soup.find_all('a'):\n",
    "            house_details_more.append(detail.get('href'))\n",
    "    except:\n",
    "        house_details_more.append('None')\n",
    "    \n",
    "    time.sleep(5)\n",
    "\n",
    "    for i in house_details_more:\n",
    "        if '/ab/calgary-real-estate/' in str(i):\n",
    "            link = 'https://www.remax.ca' + str(i)\n",
    "            url_house.append(link)\n",
    "            \n",
    "    time.sleep(5)\n",
    "    \n",
    "    for i in url_house:\n",
    "    \n",
    "        time.sleep(5)\n",
    "\n",
    "        page = requests.get(i)\n",
    "        soup = BeautifulSoup(page.text, \"html.parser\")\n",
    "\n",
    "        lat_all = soup.find_all('script')[4]\n",
    "\n",
    "        string = ', '.join(lat_all)\n",
    "        pc = \"postalCode\"\n",
    "        position_pc = string.find(pc)\n",
    "        pcd = string[(position_pc+14):(position_pc+21)]\n",
    "        postal_code_array.append(pcd)\n",
    "\n",
    "        lat = \"latitude\"\n",
    "        position_lat = string.find(lat)\n",
    "        latd = string[(position_lat+11):(position_lat+20)]\n",
    "        latitude_array.append(latd)\n",
    "\n",
    "        long = \"longitude\"\n",
    "        position_long = string.find(long)\n",
    "        longd = string[(position_long+12):(position_long+23)]\n",
    "        longitude_array.append(longd)\n",
    "\n",
    "        house_address = []\n",
    "\n",
    "        time.sleep(5)\n",
    "\n",
    "        try:\n",
    "            addresses = soup.find_all('section', class_='property-details')\n",
    "            for address in addresses:\n",
    "                house_address.append(address.text)\n",
    "        except:\n",
    "            house_address.append('None')\n",
    "\n",
    "        time.sleep(5)\n",
    "\n",
    "        string = ', '.join(house_address)\n",
    "        s_year = \"Year Built\"\n",
    "        position_year = string.find(s_year)\n",
    "        year_built = string[(position_year+12):(position_year+16)]\n",
    "        year_built_array.append(year_built)\n",
    "\n",
    "        time.sleep(5)"
   ]
  },
  {
   "cell_type": "code",
   "execution_count": 51,
   "metadata": {},
   "outputs": [],
   "source": [
    "#postal_code_array[:5]\n",
    "#latitude_array[:5]\n",
    "#longitude_array[:5]\n",
    "#year_built_array[:5]"
   ]
  },
  {
   "cell_type": "code",
   "execution_count": 3,
   "metadata": {},
   "outputs": [
    {
     "data": {
      "text/html": [
       "<div>\n",
       "<style scoped>\n",
       "    .dataframe tbody tr th:only-of-type {\n",
       "        vertical-align: middle;\n",
       "    }\n",
       "\n",
       "    .dataframe tbody tr th {\n",
       "        vertical-align: top;\n",
       "    }\n",
       "\n",
       "    .dataframe thead th {\n",
       "        text-align: right;\n",
       "    }\n",
       "</style>\n",
       "<table border=\"1\" class=\"dataframe\">\n",
       "  <thead>\n",
       "    <tr style=\"text-align: right;\">\n",
       "      <th></th>\n",
       "      <th>2</th>\n",
       "      <th>price</th>\n",
       "    </tr>\n",
       "  </thead>\n",
       "  <tbody>\n",
       "    <tr>\n",
       "      <th>0</th>\n",
       "      <td>4312 49 ST NE, Calgary, AB, T1Y 2Z3</td>\n",
       "      <td>329900</td>\n",
       "    </tr>\n",
       "    <tr>\n",
       "      <th>1</th>\n",
       "      <td>3916 VANCOUVER CRES NW, Calgary, AB, T3A 0M1</td>\n",
       "      <td>464900</td>\n",
       "    </tr>\n",
       "    <tr>\n",
       "      <th>2</th>\n",
       "      <td>97 Prestwick Gardens SE, Calgary, AB, T2Z 3V4</td>\n",
       "      <td>285000</td>\n",
       "    </tr>\n",
       "    <tr>\n",
       "      <th>3</th>\n",
       "      <td>707 35 ST NW, Calgary, AB, T2N 2Z6</td>\n",
       "      <td>1196000</td>\n",
       "    </tr>\n",
       "    <tr>\n",
       "      <th>4</th>\n",
       "      <td>63 CRANARCH CIR SE, Calgary, AB, T3M 0S3</td>\n",
       "      <td>614900</td>\n",
       "    </tr>\n",
       "  </tbody>\n",
       "</table>\n",
       "</div>"
      ],
      "text/plain": [
       "                                               2    price\n",
       "0            4312 49 ST NE, Calgary, AB, T1Y 2Z3   329900\n",
       "1   3916 VANCOUVER CRES NW, Calgary, AB, T3A 0M1   464900\n",
       "2  97 Prestwick Gardens SE, Calgary, AB, T2Z 3V4   285000\n",
       "3             707 35 ST NW, Calgary, AB, T2N 2Z6  1196000\n",
       "4       63 CRANARCH CIR SE, Calgary, AB, T3M 0S3   614900"
      ]
     },
     "execution_count": 3,
     "metadata": {},
     "output_type": "execute_result"
    }
   ],
   "source": [
    "address_df = pd.DataFrame(house_address_all)\n",
    "\n",
    "new_df = address_df[0].str.split(' ', 2, expand=True)\n",
    "new_df[\"price\"] = new_df[1].str.replace(\"$\", \"\")\n",
    "new_df[\"price\"] = new_df[\"price\"].str.replace(\",\", \"\")\n",
    "new_df[\"price\"] = pd.to_numeric(new_df[\"price\"])\n",
    "\n",
    "del new_df[0]\n",
    "del new_df[1]\n",
    "new_df.head()"
   ]
  },
  {
   "cell_type": "code",
   "execution_count": 4,
   "metadata": {},
   "outputs": [
    {
     "data": {
      "text/html": [
       "<div>\n",
       "<style scoped>\n",
       "    .dataframe tbody tr th:only-of-type {\n",
       "        vertical-align: middle;\n",
       "    }\n",
       "\n",
       "    .dataframe tbody tr th {\n",
       "        vertical-align: top;\n",
       "    }\n",
       "\n",
       "    .dataframe thead th {\n",
       "        text-align: right;\n",
       "    }\n",
       "</style>\n",
       "<table border=\"1\" class=\"dataframe\">\n",
       "  <thead>\n",
       "    <tr style=\"text-align: right;\">\n",
       "      <th></th>\n",
       "      <th>0</th>\n",
       "      <th>1</th>\n",
       "    </tr>\n",
       "  </thead>\n",
       "  <tbody>\n",
       "    <tr>\n",
       "      <th>0</th>\n",
       "      <td>4312 49 ST NE</td>\n",
       "      <td>T1Y 2Z3</td>\n",
       "    </tr>\n",
       "    <tr>\n",
       "      <th>1</th>\n",
       "      <td>3916 VANCOUVER CRES NW</td>\n",
       "      <td>T3A 0M1</td>\n",
       "    </tr>\n",
       "    <tr>\n",
       "      <th>2</th>\n",
       "      <td>97 Prestwick Gardens SE</td>\n",
       "      <td>T2Z 3V4</td>\n",
       "    </tr>\n",
       "    <tr>\n",
       "      <th>3</th>\n",
       "      <td>707 35 ST NW</td>\n",
       "      <td>T2N 2Z6</td>\n",
       "    </tr>\n",
       "    <tr>\n",
       "      <th>4</th>\n",
       "      <td>63 CRANARCH CIR SE</td>\n",
       "      <td>T3M 0S3</td>\n",
       "    </tr>\n",
       "  </tbody>\n",
       "</table>\n",
       "</div>"
      ],
      "text/plain": [
       "                         0        1\n",
       "0            4312 49 ST NE  T1Y 2Z3\n",
       "1   3916 VANCOUVER CRES NW  T3A 0M1\n",
       "2  97 Prestwick Gardens SE  T2Z 3V4\n",
       "3             707 35 ST NW  T2N 2Z6\n",
       "4       63 CRANARCH CIR SE  T3M 0S3"
      ]
     },
     "execution_count": 4,
     "metadata": {},
     "output_type": "execute_result"
    }
   ],
   "source": [
    "final_df_pc = new_df[2].str.split(', Calgary, AB, ', expand=True)\n",
    "final_df_pc.head()"
   ]
  },
  {
   "cell_type": "code",
   "execution_count": 5,
   "metadata": {},
   "outputs": [
    {
     "data": {
      "text/plain": [
       "0    T1Y2Z3\n",
       "1    T3A0M1\n",
       "2    T2Z3V4\n",
       "3    T2N2Z6\n",
       "4    T3M0S3\n",
       "Name: 1, dtype: object"
      ]
     },
     "execution_count": 5,
     "metadata": {},
     "output_type": "execute_result"
    }
   ],
   "source": [
    "final_df_pc_clean = final_df_pc[1].str.replace(\" \", \"\")\n",
    "final_df_pc_clean.head()"
   ]
  },
  {
   "cell_type": "code",
   "execution_count": 7,
   "metadata": {},
   "outputs": [
    {
     "data": {
      "text/html": [
       "<div>\n",
       "<style scoped>\n",
       "    .dataframe tbody tr th:only-of-type {\n",
       "        vertical-align: middle;\n",
       "    }\n",
       "\n",
       "    .dataframe tbody tr th {\n",
       "        vertical-align: top;\n",
       "    }\n",
       "\n",
       "    .dataframe thead th {\n",
       "        text-align: right;\n",
       "    }\n",
       "</style>\n",
       "<table border=\"1\" class=\"dataframe\">\n",
       "  <thead>\n",
       "    <tr style=\"text-align: right;\">\n",
       "      <th></th>\n",
       "      <th>price</th>\n",
       "      <th>postal_code</th>\n",
       "      <th>address</th>\n",
       "    </tr>\n",
       "  </thead>\n",
       "  <tbody>\n",
       "    <tr>\n",
       "      <th>0</th>\n",
       "      <td>329900</td>\n",
       "      <td>T1Y2Z3</td>\n",
       "      <td>4312 49 ST NE</td>\n",
       "    </tr>\n",
       "    <tr>\n",
       "      <th>1</th>\n",
       "      <td>464900</td>\n",
       "      <td>T3A0M1</td>\n",
       "      <td>3916 VANCOUVER CRES NW</td>\n",
       "    </tr>\n",
       "    <tr>\n",
       "      <th>2</th>\n",
       "      <td>285000</td>\n",
       "      <td>T2Z3V4</td>\n",
       "      <td>97 Prestwick Gardens SE</td>\n",
       "    </tr>\n",
       "    <tr>\n",
       "      <th>3</th>\n",
       "      <td>1196000</td>\n",
       "      <td>T2N2Z6</td>\n",
       "      <td>707 35 ST NW</td>\n",
       "    </tr>\n",
       "    <tr>\n",
       "      <th>4</th>\n",
       "      <td>614900</td>\n",
       "      <td>T3M0S3</td>\n",
       "      <td>63 CRANARCH CIR SE</td>\n",
       "    </tr>\n",
       "  </tbody>\n",
       "</table>\n",
       "</div>"
      ],
      "text/plain": [
       "     price postal_code                  address\n",
       "0   329900      T1Y2Z3            4312 49 ST NE\n",
       "1   464900      T3A0M1   3916 VANCOUVER CRES NW\n",
       "2   285000      T2Z3V4  97 Prestwick Gardens SE\n",
       "3  1196000      T2N2Z6             707 35 ST NW\n",
       "4   614900      T3M0S3       63 CRANARCH CIR SE"
      ]
     },
     "execution_count": 7,
     "metadata": {},
     "output_type": "execute_result"
    }
   ],
   "source": [
    "df_add = pd.concat([new_df, final_df_pc_clean, final_df_pc[0]], axis=1)\n",
    "del df_add[2]\n",
    "df_add.columns = [\"price\", \"postal_code\", \"address\"]\n",
    "df_add.head()"
   ]
  },
  {
   "cell_type": "code",
   "execution_count": 8,
   "metadata": {},
   "outputs": [
    {
     "data": {
      "text/html": [
       "<div>\n",
       "<style scoped>\n",
       "    .dataframe tbody tr th:only-of-type {\n",
       "        vertical-align: middle;\n",
       "    }\n",
       "\n",
       "    .dataframe tbody tr th {\n",
       "        vertical-align: top;\n",
       "    }\n",
       "\n",
       "    .dataframe thead th {\n",
       "        text-align: right;\n",
       "    }\n",
       "</style>\n",
       "<table border=\"1\" class=\"dataframe\">\n",
       "  <thead>\n",
       "    <tr style=\"text-align: right;\">\n",
       "      <th></th>\n",
       "      <th>0</th>\n",
       "      <th>1</th>\n",
       "      <th>2</th>\n",
       "      <th>3</th>\n",
       "    </tr>\n",
       "  </thead>\n",
       "  <tbody>\n",
       "    <tr>\n",
       "      <th>0</th>\n",
       "      <td>4 bed</td>\n",
       "      <td>1 + 1 bath</td>\n",
       "      <td>2300 sqft</td>\n",
       "      <td>house</td>\n",
       "    </tr>\n",
       "    <tr>\n",
       "      <th>1</th>\n",
       "      <td>4 bed</td>\n",
       "      <td>2 bath</td>\n",
       "      <td>1043 sqft</td>\n",
       "      <td>house</td>\n",
       "    </tr>\n",
       "    <tr>\n",
       "      <th>2</th>\n",
       "      <td>2 bed</td>\n",
       "      <td>2 bath</td>\n",
       "      <td>1120 sqft</td>\n",
       "      <td>townhouse</td>\n",
       "    </tr>\n",
       "    <tr>\n",
       "      <th>3</th>\n",
       "      <td>4 bed</td>\n",
       "      <td>2 + 1 bath</td>\n",
       "      <td>2155 sqft</td>\n",
       "      <td>house</td>\n",
       "    </tr>\n",
       "    <tr>\n",
       "      <th>4</th>\n",
       "      <td>4 bed</td>\n",
       "      <td>3 + 1 bath</td>\n",
       "      <td>2210 sqft</td>\n",
       "      <td>house</td>\n",
       "    </tr>\n",
       "  </tbody>\n",
       "</table>\n",
       "</div>"
      ],
      "text/plain": [
       "       0           1          2          3\n",
       "0  4 bed  1 + 1 bath  2300 sqft      house\n",
       "1  4 bed      2 bath  1043 sqft      house\n",
       "2  2 bed      2 bath  1120 sqft  townhouse\n",
       "3  4 bed  2 + 1 bath  2155 sqft      house\n",
       "4  4 bed  3 + 1 bath  2210 sqft      house"
      ]
     },
     "execution_count": 8,
     "metadata": {},
     "output_type": "execute_result"
    }
   ],
   "source": [
    "details = pd.DataFrame(house_details_all)\n",
    "details_df_temp = details[0].str.split('|', expand=True)\n",
    "details_df_temp.head()"
   ]
  },
  {
   "cell_type": "code",
   "execution_count": 9,
   "metadata": {},
   "outputs": [],
   "source": [
    "details_df_bed = details_df_temp[0].str.replace(' bed', '')\n",
    "details_df_bath = details_df_temp[1].str.replace(' bath', '')\n",
    "details_df_area = details_df_temp[2].str.replace(' sqft', '')"
   ]
  },
  {
   "cell_type": "code",
   "execution_count": 10,
   "metadata": {},
   "outputs": [],
   "source": [
    "details_df_bath_all = details_df_bath.str.split('+', expand=True)\n",
    "details_df_bath_full = details_df_bath_all[0]\n",
    "details_df_bath_half = details_df_bath_all[1]"
   ]
  },
  {
   "cell_type": "code",
   "execution_count": 11,
   "metadata": {},
   "outputs": [],
   "source": [
    "details_df_bed = details_df_bed.replace('N/A', np.nan)\n",
    "details_df_bed = pd.to_numeric(details_df_bed)\n",
    "details_df_area = details_df_area.replace('N/A', np.nan)\n",
    "details_df_area = pd.to_numeric(details_df_area)\n",
    "details_df_bath_full = details_df_bath_full.replace('N/A', np.nan)\n",
    "details_df_bath_full = pd.to_numeric(details_df_bath_full)\n",
    "details_df_bath_half = details_df_bath_half.replace('N/A', np.nan)\n",
    "details_df_bath_half = pd.to_numeric(details_df_bath_half)"
   ]
  },
  {
   "cell_type": "code",
   "execution_count": 12,
   "metadata": {},
   "outputs": [],
   "source": [
    "data = {'bed':details_df_bed, 'full_bath':details_df_bath_full, 'half_bath':details_df_bath_half,\n",
    "       'property_area':details_df_area, 'property_type':details_df_temp[3]}"
   ]
  },
  {
   "cell_type": "code",
   "execution_count": 13,
   "metadata": {},
   "outputs": [
    {
     "data": {
      "text/html": [
       "<div>\n",
       "<style scoped>\n",
       "    .dataframe tbody tr th:only-of-type {\n",
       "        vertical-align: middle;\n",
       "    }\n",
       "\n",
       "    .dataframe tbody tr th {\n",
       "        vertical-align: top;\n",
       "    }\n",
       "\n",
       "    .dataframe thead th {\n",
       "        text-align: right;\n",
       "    }\n",
       "</style>\n",
       "<table border=\"1\" class=\"dataframe\">\n",
       "  <thead>\n",
       "    <tr style=\"text-align: right;\">\n",
       "      <th></th>\n",
       "      <th>bed</th>\n",
       "      <th>full_bath</th>\n",
       "      <th>half_bath</th>\n",
       "      <th>property_area</th>\n",
       "      <th>property_type</th>\n",
       "    </tr>\n",
       "  </thead>\n",
       "  <tbody>\n",
       "    <tr>\n",
       "      <th>0</th>\n",
       "      <td>4</td>\n",
       "      <td>1</td>\n",
       "      <td>1.0</td>\n",
       "      <td>2300</td>\n",
       "      <td>house</td>\n",
       "    </tr>\n",
       "    <tr>\n",
       "      <th>1</th>\n",
       "      <td>4</td>\n",
       "      <td>2</td>\n",
       "      <td>NaN</td>\n",
       "      <td>1043</td>\n",
       "      <td>house</td>\n",
       "    </tr>\n",
       "    <tr>\n",
       "      <th>2</th>\n",
       "      <td>2</td>\n",
       "      <td>2</td>\n",
       "      <td>NaN</td>\n",
       "      <td>1120</td>\n",
       "      <td>townhouse</td>\n",
       "    </tr>\n",
       "    <tr>\n",
       "      <th>3</th>\n",
       "      <td>4</td>\n",
       "      <td>2</td>\n",
       "      <td>1.0</td>\n",
       "      <td>2155</td>\n",
       "      <td>house</td>\n",
       "    </tr>\n",
       "    <tr>\n",
       "      <th>4</th>\n",
       "      <td>4</td>\n",
       "      <td>3</td>\n",
       "      <td>1.0</td>\n",
       "      <td>2210</td>\n",
       "      <td>house</td>\n",
       "    </tr>\n",
       "  </tbody>\n",
       "</table>\n",
       "</div>"
      ],
      "text/plain": [
       "   bed  full_bath  half_bath  property_area property_type\n",
       "0    4          1        1.0           2300         house\n",
       "1    4          2        NaN           1043         house\n",
       "2    2          2        NaN           1120     townhouse\n",
       "3    4          2        1.0           2155         house\n",
       "4    4          3        1.0           2210         house"
      ]
     },
     "execution_count": 13,
     "metadata": {},
     "output_type": "execute_result"
    }
   ],
   "source": [
    "details_df = pd.DataFrame(data)\n",
    "details_df.head()"
   ]
  },
  {
   "cell_type": "code",
   "execution_count": 14,
   "metadata": {},
   "outputs": [
    {
     "data": {
      "text/html": [
       "<div>\n",
       "<style scoped>\n",
       "    .dataframe tbody tr th:only-of-type {\n",
       "        vertical-align: middle;\n",
       "    }\n",
       "\n",
       "    .dataframe tbody tr th {\n",
       "        vertical-align: top;\n",
       "    }\n",
       "\n",
       "    .dataframe thead th {\n",
       "        text-align: right;\n",
       "    }\n",
       "</style>\n",
       "<table border=\"1\" class=\"dataframe\">\n",
       "  <thead>\n",
       "    <tr style=\"text-align: right;\">\n",
       "      <th></th>\n",
       "      <th>price</th>\n",
       "      <th>postal_code</th>\n",
       "      <th>address</th>\n",
       "      <th>bed</th>\n",
       "      <th>full_bath</th>\n",
       "      <th>half_bath</th>\n",
       "      <th>property_area</th>\n",
       "      <th>property_type</th>\n",
       "    </tr>\n",
       "  </thead>\n",
       "  <tbody>\n",
       "    <tr>\n",
       "      <th>0</th>\n",
       "      <td>329900</td>\n",
       "      <td>T1Y2Z3</td>\n",
       "      <td>4312 49 ST NE</td>\n",
       "      <td>4</td>\n",
       "      <td>1</td>\n",
       "      <td>1.0</td>\n",
       "      <td>2300</td>\n",
       "      <td>house</td>\n",
       "    </tr>\n",
       "    <tr>\n",
       "      <th>1</th>\n",
       "      <td>464900</td>\n",
       "      <td>T3A0M1</td>\n",
       "      <td>3916 VANCOUVER CRES NW</td>\n",
       "      <td>4</td>\n",
       "      <td>2</td>\n",
       "      <td>NaN</td>\n",
       "      <td>1043</td>\n",
       "      <td>house</td>\n",
       "    </tr>\n",
       "    <tr>\n",
       "      <th>2</th>\n",
       "      <td>285000</td>\n",
       "      <td>T2Z3V4</td>\n",
       "      <td>97 Prestwick Gardens SE</td>\n",
       "      <td>2</td>\n",
       "      <td>2</td>\n",
       "      <td>NaN</td>\n",
       "      <td>1120</td>\n",
       "      <td>townhouse</td>\n",
       "    </tr>\n",
       "    <tr>\n",
       "      <th>3</th>\n",
       "      <td>1196000</td>\n",
       "      <td>T2N2Z6</td>\n",
       "      <td>707 35 ST NW</td>\n",
       "      <td>4</td>\n",
       "      <td>2</td>\n",
       "      <td>1.0</td>\n",
       "      <td>2155</td>\n",
       "      <td>house</td>\n",
       "    </tr>\n",
       "    <tr>\n",
       "      <th>4</th>\n",
       "      <td>614900</td>\n",
       "      <td>T3M0S3</td>\n",
       "      <td>63 CRANARCH CIR SE</td>\n",
       "      <td>4</td>\n",
       "      <td>3</td>\n",
       "      <td>1.0</td>\n",
       "      <td>2210</td>\n",
       "      <td>house</td>\n",
       "    </tr>\n",
       "  </tbody>\n",
       "</table>\n",
       "</div>"
      ],
      "text/plain": [
       "     price postal_code                  address  bed  full_bath  half_bath  \\\n",
       "0   329900      T1Y2Z3            4312 49 ST NE    4          1        1.0   \n",
       "1   464900      T3A0M1   3916 VANCOUVER CRES NW    4          2        NaN   \n",
       "2   285000      T2Z3V4  97 Prestwick Gardens SE    2          2        NaN   \n",
       "3  1196000      T2N2Z6             707 35 ST NW    4          2        1.0   \n",
       "4   614900      T3M0S3       63 CRANARCH CIR SE    4          3        1.0   \n",
       "\n",
       "   property_area property_type  \n",
       "0           2300         house  \n",
       "1           1043         house  \n",
       "2           1120     townhouse  \n",
       "3           2155         house  \n",
       "4           2210         house  "
      ]
     },
     "execution_count": 14,
     "metadata": {},
     "output_type": "execute_result"
    }
   ],
   "source": [
    "calgary_df_dup = pd.concat([df_add, details_df], axis=1)\n",
    "calgary_df = calgary_df_dup.drop_duplicates()\n",
    "calgary_df.head()"
   ]
  },
  {
   "cell_type": "markdown",
   "metadata": {},
   "source": [
    "## Cleanup Postal Codes, Latitude, Longitude and Year Built"
   ]
  },
  {
   "cell_type": "code",
   "execution_count": 15,
   "metadata": {},
   "outputs": [],
   "source": [
    "postal_codes_messy = pd.DataFrame(postal_code_array, columns=[\"postal_code\"])"
   ]
  },
  {
   "cell_type": "code",
   "execution_count": 16,
   "metadata": {},
   "outputs": [
    {
     "data": {
      "text/html": [
       "<div>\n",
       "<style scoped>\n",
       "    .dataframe tbody tr th:only-of-type {\n",
       "        vertical-align: middle;\n",
       "    }\n",
       "\n",
       "    .dataframe tbody tr th {\n",
       "        vertical-align: top;\n",
       "    }\n",
       "\n",
       "    .dataframe thead th {\n",
       "        text-align: right;\n",
       "    }\n",
       "</style>\n",
       "<table border=\"1\" class=\"dataframe\">\n",
       "  <thead>\n",
       "    <tr style=\"text-align: right;\">\n",
       "      <th></th>\n",
       "      <th>postal_code</th>\n",
       "    </tr>\n",
       "  </thead>\n",
       "  <tbody>\n",
       "    <tr>\n",
       "      <th>0</th>\n",
       "      <td>T1Y2Z3\"</td>\n",
       "    </tr>\n",
       "    <tr>\n",
       "      <th>1</th>\n",
       "      <td>T3A0M1\"</td>\n",
       "    </tr>\n",
       "    <tr>\n",
       "      <th>2</th>\n",
       "      <td>T2Z 3V4</td>\n",
       "    </tr>\n",
       "    <tr>\n",
       "      <th>3</th>\n",
       "      <td>T2N2Z6\"</td>\n",
       "    </tr>\n",
       "    <tr>\n",
       "      <th>4</th>\n",
       "      <td>T3M0S3\"</td>\n",
       "    </tr>\n",
       "  </tbody>\n",
       "</table>\n",
       "</div>"
      ],
      "text/plain": [
       "  postal_code\n",
       "0     T1Y2Z3\"\n",
       "1     T3A0M1\"\n",
       "2     T2Z 3V4\n",
       "3     T2N2Z6\"\n",
       "4     T3M0S3\""
      ]
     },
     "execution_count": 16,
     "metadata": {},
     "output_type": "execute_result"
    }
   ],
   "source": [
    "postal_codes_messy.head()"
   ]
  },
  {
   "cell_type": "code",
   "execution_count": 17,
   "metadata": {},
   "outputs": [],
   "source": [
    "postal_code_array_clean = postal_codes_messy[\"postal_code\"].str.replace('\"', '')\n",
    "postal_code_array_clean = postal_code_array_clean.str.replace(\" \", \"\")"
   ]
  },
  {
   "cell_type": "code",
   "execution_count": 18,
   "metadata": {},
   "outputs": [],
   "source": [
    "latitude_array_messy = pd.DataFrame(latitude_array, columns=[\"latitude\"])"
   ]
  },
  {
   "cell_type": "code",
   "execution_count": 19,
   "metadata": {},
   "outputs": [
    {
     "data": {
      "text/plain": [
       "0    51.090065\n",
       "1    51.091708\n",
       "2    50.917976\n",
       "3    51.061022\n",
       "4    50.878539\n",
       "Name: latitude, dtype: object"
      ]
     },
     "execution_count": 19,
     "metadata": {},
     "output_type": "execute_result"
    }
   ],
   "source": [
    "latitude_array_messy = latitude_array_messy[\"latitude\"].str.replace(',', '')\n",
    "latitude_array_messy.head()"
   ]
  },
  {
   "cell_type": "code",
   "execution_count": 20,
   "metadata": {},
   "outputs": [],
   "source": [
    "longitude_array_messy = pd.DataFrame(longitude_array, columns=[\"longitude\"])"
   ]
  },
  {
   "cell_type": "code",
   "execution_count": 21,
   "metadata": {},
   "outputs": [
    {
     "data": {
      "text/plain": [
       "0     -113.962366\n",
       "1     -114.143333\n",
       "2    -113.96258\\n\n",
       "3     -114.138279\n",
       "4     -113.978402\n",
       "Name: longitude, dtype: object"
      ]
     },
     "execution_count": 21,
     "metadata": {},
     "output_type": "execute_result"
    }
   ],
   "source": [
    "longitude_array_messy = longitude_array_messy[\"longitude\"].str.replace(',', '')\n",
    "longitude_array_messy.head()"
   ]
  },
  {
   "cell_type": "code",
   "execution_count": 34,
   "metadata": {},
   "outputs": [
    {
     "ename": "TypeError",
     "evalue": "repl must be a string or callable",
     "output_type": "error",
     "traceback": [
      "\u001b[0;31m---------------------------------------------------------------------------\u001b[0m",
      "\u001b[0;31mTypeError\u001b[0m                                 Traceback (most recent call last)",
      "\u001b[0;32m<ipython-input-34-76c6c2995f2d>\u001b[0m in \u001b[0;36m<module>\u001b[0;34m\u001b[0m\n\u001b[1;32m      1\u001b[0m \u001b[0myear_built_messy\u001b[0m \u001b[0;34m=\u001b[0m \u001b[0mpd\u001b[0m\u001b[0;34m.\u001b[0m\u001b[0mDataFrame\u001b[0m\u001b[0;34m(\u001b[0m\u001b[0myear_built_array\u001b[0m\u001b[0;34m,\u001b[0m \u001b[0mcolumns\u001b[0m\u001b[0;34m=\u001b[0m\u001b[0;34m[\u001b[0m\u001b[0;34m\"year_built\"\u001b[0m\u001b[0;34m]\u001b[0m\u001b[0;34m)\u001b[0m\u001b[0;34m\u001b[0m\u001b[0;34m\u001b[0m\u001b[0m\n\u001b[0;32m----> 2\u001b[0;31m \u001b[0myear_built_clean\u001b[0m \u001b[0;34m=\u001b[0m \u001b[0myear_built_messy\u001b[0m\u001b[0;34m[\u001b[0m\u001b[0;34m\"year_built\"\u001b[0m\u001b[0;34m]\u001b[0m\u001b[0;34m.\u001b[0m\u001b[0mstr\u001b[0m\u001b[0;34m.\u001b[0m\u001b[0mreplace\u001b[0m\u001b[0;34m(\u001b[0m\u001b[0;34m''\u001b[0m\u001b[0;34m,\u001b[0m \u001b[0mnp\u001b[0m\u001b[0;34m.\u001b[0m\u001b[0mnan\u001b[0m\u001b[0;34m)\u001b[0m\u001b[0;34m\u001b[0m\u001b[0;34m\u001b[0m\u001b[0m\n\u001b[0m",
      "\u001b[0;32m~/anaconda3/lib/python3.7/site-packages/pandas/core/strings.py\u001b[0m in \u001b[0;36mreplace\u001b[0;34m(self, pat, repl, n, case, flags, regex)\u001b[0m\n\u001b[1;32m   2532\u001b[0m     \u001b[0;32mdef\u001b[0m \u001b[0mreplace\u001b[0m\u001b[0;34m(\u001b[0m\u001b[0mself\u001b[0m\u001b[0;34m,\u001b[0m \u001b[0mpat\u001b[0m\u001b[0;34m,\u001b[0m \u001b[0mrepl\u001b[0m\u001b[0;34m,\u001b[0m \u001b[0mn\u001b[0m\u001b[0;34m=\u001b[0m\u001b[0;34m-\u001b[0m\u001b[0;36m1\u001b[0m\u001b[0;34m,\u001b[0m \u001b[0mcase\u001b[0m\u001b[0;34m=\u001b[0m\u001b[0;32mNone\u001b[0m\u001b[0;34m,\u001b[0m \u001b[0mflags\u001b[0m\u001b[0;34m=\u001b[0m\u001b[0;36m0\u001b[0m\u001b[0;34m,\u001b[0m \u001b[0mregex\u001b[0m\u001b[0;34m=\u001b[0m\u001b[0;32mTrue\u001b[0m\u001b[0;34m)\u001b[0m\u001b[0;34m:\u001b[0m\u001b[0;34m\u001b[0m\u001b[0;34m\u001b[0m\u001b[0m\n\u001b[1;32m   2533\u001b[0m         result = str_replace(self._parent, pat, repl, n=n, case=case,\n\u001b[0;32m-> 2534\u001b[0;31m                              flags=flags, regex=regex)\n\u001b[0m\u001b[1;32m   2535\u001b[0m         \u001b[0;32mreturn\u001b[0m \u001b[0mself\u001b[0m\u001b[0;34m.\u001b[0m\u001b[0m_wrap_result\u001b[0m\u001b[0;34m(\u001b[0m\u001b[0mresult\u001b[0m\u001b[0;34m)\u001b[0m\u001b[0;34m\u001b[0m\u001b[0;34m\u001b[0m\u001b[0m\n\u001b[1;32m   2536\u001b[0m \u001b[0;34m\u001b[0m\u001b[0m\n",
      "\u001b[0;32m~/anaconda3/lib/python3.7/site-packages/pandas/core/strings.py\u001b[0m in \u001b[0;36mstr_replace\u001b[0;34m(arr, pat, repl, n, case, flags, regex)\u001b[0m\n\u001b[1;32m    548\u001b[0m     \u001b[0;31m# Check whether repl is valid (GH 13438, GH 15055)\u001b[0m\u001b[0;34m\u001b[0m\u001b[0;34m\u001b[0m\u001b[0;34m\u001b[0m\u001b[0m\n\u001b[1;32m    549\u001b[0m     \u001b[0;32mif\u001b[0m \u001b[0;32mnot\u001b[0m \u001b[0;34m(\u001b[0m\u001b[0mis_string_like\u001b[0m\u001b[0;34m(\u001b[0m\u001b[0mrepl\u001b[0m\u001b[0;34m)\u001b[0m \u001b[0;32mor\u001b[0m \u001b[0mcallable\u001b[0m\u001b[0;34m(\u001b[0m\u001b[0mrepl\u001b[0m\u001b[0;34m)\u001b[0m\u001b[0;34m)\u001b[0m\u001b[0;34m:\u001b[0m\u001b[0;34m\u001b[0m\u001b[0;34m\u001b[0m\u001b[0m\n\u001b[0;32m--> 550\u001b[0;31m         \u001b[0;32mraise\u001b[0m \u001b[0mTypeError\u001b[0m\u001b[0;34m(\u001b[0m\u001b[0;34m\"repl must be a string or callable\"\u001b[0m\u001b[0;34m)\u001b[0m\u001b[0;34m\u001b[0m\u001b[0;34m\u001b[0m\u001b[0m\n\u001b[0m\u001b[1;32m    551\u001b[0m \u001b[0;34m\u001b[0m\u001b[0m\n\u001b[1;32m    552\u001b[0m     \u001b[0mis_compiled_re\u001b[0m \u001b[0;34m=\u001b[0m \u001b[0mis_re\u001b[0m\u001b[0;34m(\u001b[0m\u001b[0mpat\u001b[0m\u001b[0;34m)\u001b[0m\u001b[0;34m\u001b[0m\u001b[0;34m\u001b[0m\u001b[0m\n",
      "\u001b[0;31mTypeError\u001b[0m: repl must be a string or callable"
     ]
    }
   ],
   "source": [
    "year_built_messy = pd.DataFrame(year_built_array, columns=[\"year_built\"])\n",
    "year_built_clean = year_built_messy[\"year_built\"].str.replace('', np.nan)"
   ]
  },
  {
   "cell_type": "code",
   "execution_count": 30,
   "metadata": {},
   "outputs": [
    {
     "ename": "ValueError",
     "evalue": "invalid literal for int() with base 10: ''",
     "output_type": "error",
     "traceback": [
      "\u001b[0;31m---------------------------------------------------------------------------\u001b[0m",
      "\u001b[0;31mValueError\u001b[0m                                Traceback (most recent call last)",
      "\u001b[0;32m<ipython-input-30-ee7c693860b6>\u001b[0m in \u001b[0;36m<module>\u001b[0;34m\u001b[0m\n\u001b[0;32m----> 1\u001b[0;31m \u001b[0myear_built_num\u001b[0m \u001b[0;34m=\u001b[0m \u001b[0myear_built_messy\u001b[0m\u001b[0;34m.\u001b[0m\u001b[0mastype\u001b[0m\u001b[0;34m(\u001b[0m\u001b[0mint\u001b[0m\u001b[0;34m)\u001b[0m\u001b[0;34m\u001b[0m\u001b[0;34m\u001b[0m\u001b[0m\n\u001b[0m\u001b[1;32m      2\u001b[0m \u001b[0myear_built_num\u001b[0m\u001b[0;34m.\u001b[0m\u001b[0mhead\u001b[0m\u001b[0;34m(\u001b[0m\u001b[0;34m)\u001b[0m\u001b[0;34m\u001b[0m\u001b[0;34m\u001b[0m\u001b[0m\n",
      "\u001b[0;32m~/anaconda3/lib/python3.7/site-packages/pandas/core/generic.py\u001b[0m in \u001b[0;36mastype\u001b[0;34m(self, dtype, copy, errors, **kwargs)\u001b[0m\n\u001b[1;32m   5689\u001b[0m             \u001b[0;31m# else, only a single dtype is given\u001b[0m\u001b[0;34m\u001b[0m\u001b[0;34m\u001b[0m\u001b[0;34m\u001b[0m\u001b[0m\n\u001b[1;32m   5690\u001b[0m             new_data = self._data.astype(dtype=dtype, copy=copy, errors=errors,\n\u001b[0;32m-> 5691\u001b[0;31m                                          **kwargs)\n\u001b[0m\u001b[1;32m   5692\u001b[0m             \u001b[0;32mreturn\u001b[0m \u001b[0mself\u001b[0m\u001b[0;34m.\u001b[0m\u001b[0m_constructor\u001b[0m\u001b[0;34m(\u001b[0m\u001b[0mnew_data\u001b[0m\u001b[0;34m)\u001b[0m\u001b[0;34m.\u001b[0m\u001b[0m__finalize__\u001b[0m\u001b[0;34m(\u001b[0m\u001b[0mself\u001b[0m\u001b[0;34m)\u001b[0m\u001b[0;34m\u001b[0m\u001b[0;34m\u001b[0m\u001b[0m\n\u001b[1;32m   5693\u001b[0m \u001b[0;34m\u001b[0m\u001b[0m\n",
      "\u001b[0;32m~/anaconda3/lib/python3.7/site-packages/pandas/core/internals/managers.py\u001b[0m in \u001b[0;36mastype\u001b[0;34m(self, dtype, **kwargs)\u001b[0m\n\u001b[1;32m    529\u001b[0m \u001b[0;34m\u001b[0m\u001b[0m\n\u001b[1;32m    530\u001b[0m     \u001b[0;32mdef\u001b[0m \u001b[0mastype\u001b[0m\u001b[0;34m(\u001b[0m\u001b[0mself\u001b[0m\u001b[0;34m,\u001b[0m \u001b[0mdtype\u001b[0m\u001b[0;34m,\u001b[0m \u001b[0;34m**\u001b[0m\u001b[0mkwargs\u001b[0m\u001b[0;34m)\u001b[0m\u001b[0;34m:\u001b[0m\u001b[0;34m\u001b[0m\u001b[0;34m\u001b[0m\u001b[0m\n\u001b[0;32m--> 531\u001b[0;31m         \u001b[0;32mreturn\u001b[0m \u001b[0mself\u001b[0m\u001b[0;34m.\u001b[0m\u001b[0mapply\u001b[0m\u001b[0;34m(\u001b[0m\u001b[0;34m'astype'\u001b[0m\u001b[0;34m,\u001b[0m \u001b[0mdtype\u001b[0m\u001b[0;34m=\u001b[0m\u001b[0mdtype\u001b[0m\u001b[0;34m,\u001b[0m \u001b[0;34m**\u001b[0m\u001b[0mkwargs\u001b[0m\u001b[0;34m)\u001b[0m\u001b[0;34m\u001b[0m\u001b[0;34m\u001b[0m\u001b[0m\n\u001b[0m\u001b[1;32m    532\u001b[0m \u001b[0;34m\u001b[0m\u001b[0m\n\u001b[1;32m    533\u001b[0m     \u001b[0;32mdef\u001b[0m \u001b[0mconvert\u001b[0m\u001b[0;34m(\u001b[0m\u001b[0mself\u001b[0m\u001b[0;34m,\u001b[0m \u001b[0;34m**\u001b[0m\u001b[0mkwargs\u001b[0m\u001b[0;34m)\u001b[0m\u001b[0;34m:\u001b[0m\u001b[0;34m\u001b[0m\u001b[0;34m\u001b[0m\u001b[0m\n",
      "\u001b[0;32m~/anaconda3/lib/python3.7/site-packages/pandas/core/internals/managers.py\u001b[0m in \u001b[0;36mapply\u001b[0;34m(self, f, axes, filter, do_integrity_check, consolidate, **kwargs)\u001b[0m\n\u001b[1;32m    393\u001b[0m                                             copy=align_copy)\n\u001b[1;32m    394\u001b[0m \u001b[0;34m\u001b[0m\u001b[0m\n\u001b[0;32m--> 395\u001b[0;31m             \u001b[0mapplied\u001b[0m \u001b[0;34m=\u001b[0m \u001b[0mgetattr\u001b[0m\u001b[0;34m(\u001b[0m\u001b[0mb\u001b[0m\u001b[0;34m,\u001b[0m \u001b[0mf\u001b[0m\u001b[0;34m)\u001b[0m\u001b[0;34m(\u001b[0m\u001b[0;34m**\u001b[0m\u001b[0mkwargs\u001b[0m\u001b[0;34m)\u001b[0m\u001b[0;34m\u001b[0m\u001b[0;34m\u001b[0m\u001b[0m\n\u001b[0m\u001b[1;32m    396\u001b[0m             \u001b[0mresult_blocks\u001b[0m \u001b[0;34m=\u001b[0m \u001b[0m_extend_blocks\u001b[0m\u001b[0;34m(\u001b[0m\u001b[0mapplied\u001b[0m\u001b[0;34m,\u001b[0m \u001b[0mresult_blocks\u001b[0m\u001b[0;34m)\u001b[0m\u001b[0;34m\u001b[0m\u001b[0;34m\u001b[0m\u001b[0m\n\u001b[1;32m    397\u001b[0m \u001b[0;34m\u001b[0m\u001b[0m\n",
      "\u001b[0;32m~/anaconda3/lib/python3.7/site-packages/pandas/core/internals/blocks.py\u001b[0m in \u001b[0;36mastype\u001b[0;34m(self, dtype, copy, errors, values, **kwargs)\u001b[0m\n\u001b[1;32m    532\u001b[0m     \u001b[0;32mdef\u001b[0m \u001b[0mastype\u001b[0m\u001b[0;34m(\u001b[0m\u001b[0mself\u001b[0m\u001b[0;34m,\u001b[0m \u001b[0mdtype\u001b[0m\u001b[0;34m,\u001b[0m \u001b[0mcopy\u001b[0m\u001b[0;34m=\u001b[0m\u001b[0;32mFalse\u001b[0m\u001b[0;34m,\u001b[0m \u001b[0merrors\u001b[0m\u001b[0;34m=\u001b[0m\u001b[0;34m'raise'\u001b[0m\u001b[0;34m,\u001b[0m \u001b[0mvalues\u001b[0m\u001b[0;34m=\u001b[0m\u001b[0;32mNone\u001b[0m\u001b[0;34m,\u001b[0m \u001b[0;34m**\u001b[0m\u001b[0mkwargs\u001b[0m\u001b[0;34m)\u001b[0m\u001b[0;34m:\u001b[0m\u001b[0;34m\u001b[0m\u001b[0;34m\u001b[0m\u001b[0m\n\u001b[1;32m    533\u001b[0m         return self._astype(dtype, copy=copy, errors=errors, values=values,\n\u001b[0;32m--> 534\u001b[0;31m                             **kwargs)\n\u001b[0m\u001b[1;32m    535\u001b[0m \u001b[0;34m\u001b[0m\u001b[0m\n\u001b[1;32m    536\u001b[0m     def _astype(self, dtype, copy=False, errors='raise', values=None,\n",
      "\u001b[0;32m~/anaconda3/lib/python3.7/site-packages/pandas/core/internals/blocks.py\u001b[0m in \u001b[0;36m_astype\u001b[0;34m(self, dtype, copy, errors, values, **kwargs)\u001b[0m\n\u001b[1;32m    631\u001b[0m \u001b[0;34m\u001b[0m\u001b[0m\n\u001b[1;32m    632\u001b[0m                     \u001b[0;31m# _astype_nansafe works fine with 1-d only\u001b[0m\u001b[0;34m\u001b[0m\u001b[0;34m\u001b[0m\u001b[0;34m\u001b[0m\u001b[0m\n\u001b[0;32m--> 633\u001b[0;31m                     \u001b[0mvalues\u001b[0m \u001b[0;34m=\u001b[0m \u001b[0mastype_nansafe\u001b[0m\u001b[0;34m(\u001b[0m\u001b[0mvalues\u001b[0m\u001b[0;34m.\u001b[0m\u001b[0mravel\u001b[0m\u001b[0;34m(\u001b[0m\u001b[0;34m)\u001b[0m\u001b[0;34m,\u001b[0m \u001b[0mdtype\u001b[0m\u001b[0;34m,\u001b[0m \u001b[0mcopy\u001b[0m\u001b[0;34m=\u001b[0m\u001b[0;32mTrue\u001b[0m\u001b[0;34m)\u001b[0m\u001b[0;34m\u001b[0m\u001b[0;34m\u001b[0m\u001b[0m\n\u001b[0m\u001b[1;32m    634\u001b[0m \u001b[0;34m\u001b[0m\u001b[0m\n\u001b[1;32m    635\u001b[0m                 \u001b[0;31m# TODO(extension)\u001b[0m\u001b[0;34m\u001b[0m\u001b[0;34m\u001b[0m\u001b[0;34m\u001b[0m\u001b[0m\n",
      "\u001b[0;32m~/anaconda3/lib/python3.7/site-packages/pandas/core/dtypes/cast.py\u001b[0m in \u001b[0;36mastype_nansafe\u001b[0;34m(arr, dtype, copy, skipna)\u001b[0m\n\u001b[1;32m    681\u001b[0m         \u001b[0;31m# work around NumPy brokenness, #1987\u001b[0m\u001b[0;34m\u001b[0m\u001b[0;34m\u001b[0m\u001b[0;34m\u001b[0m\u001b[0m\n\u001b[1;32m    682\u001b[0m         \u001b[0;32mif\u001b[0m \u001b[0mnp\u001b[0m\u001b[0;34m.\u001b[0m\u001b[0missubdtype\u001b[0m\u001b[0;34m(\u001b[0m\u001b[0mdtype\u001b[0m\u001b[0;34m.\u001b[0m\u001b[0mtype\u001b[0m\u001b[0;34m,\u001b[0m \u001b[0mnp\u001b[0m\u001b[0;34m.\u001b[0m\u001b[0minteger\u001b[0m\u001b[0;34m)\u001b[0m\u001b[0;34m:\u001b[0m\u001b[0;34m\u001b[0m\u001b[0;34m\u001b[0m\u001b[0m\n\u001b[0;32m--> 683\u001b[0;31m             \u001b[0;32mreturn\u001b[0m \u001b[0mlib\u001b[0m\u001b[0;34m.\u001b[0m\u001b[0mastype_intsafe\u001b[0m\u001b[0;34m(\u001b[0m\u001b[0marr\u001b[0m\u001b[0;34m.\u001b[0m\u001b[0mravel\u001b[0m\u001b[0;34m(\u001b[0m\u001b[0;34m)\u001b[0m\u001b[0;34m,\u001b[0m \u001b[0mdtype\u001b[0m\u001b[0;34m)\u001b[0m\u001b[0;34m.\u001b[0m\u001b[0mreshape\u001b[0m\u001b[0;34m(\u001b[0m\u001b[0marr\u001b[0m\u001b[0;34m.\u001b[0m\u001b[0mshape\u001b[0m\u001b[0;34m)\u001b[0m\u001b[0;34m\u001b[0m\u001b[0;34m\u001b[0m\u001b[0m\n\u001b[0m\u001b[1;32m    684\u001b[0m \u001b[0;34m\u001b[0m\u001b[0m\n\u001b[1;32m    685\u001b[0m         \u001b[0;31m# if we have a datetime/timedelta array of objects\u001b[0m\u001b[0;34m\u001b[0m\u001b[0;34m\u001b[0m\u001b[0;34m\u001b[0m\u001b[0m\n",
      "\u001b[0;32mpandas/_libs/lib.pyx\u001b[0m in \u001b[0;36mpandas._libs.lib.astype_intsafe\u001b[0;34m()\u001b[0m\n",
      "\u001b[0;31mValueError\u001b[0m: invalid literal for int() with base 10: ''"
     ]
    }
   ],
   "source": [
    "year_built_num = year_built_messy.astype(int)\n",
    "year_built_num.head()"
   ]
  },
  {
   "cell_type": "code",
   "execution_count": 22,
   "metadata": {},
   "outputs": [],
   "source": [
    "latitude_array_messy = pd.to_numeric(latitude_array_messy)\n",
    "longitude_array_messy = pd.to_numeric(longitude_array_messy)"
   ]
  },
  {
   "cell_type": "code",
   "execution_count": 23,
   "metadata": {},
   "outputs": [
    {
     "ename": "NameError",
     "evalue": "name 'year_built_num' is not defined",
     "output_type": "error",
     "traceback": [
      "\u001b[0;31m---------------------------------------------------------------------------\u001b[0m",
      "\u001b[0;31mNameError\u001b[0m                                 Traceback (most recent call last)",
      "\u001b[0;32m<ipython-input-23-f1f197be190b>\u001b[0m in \u001b[0;36m<module>\u001b[0;34m\u001b[0m\n\u001b[0;32m----> 1\u001b[0;31m \u001b[0mmore_details\u001b[0m \u001b[0;34m=\u001b[0m \u001b[0mpd\u001b[0m\u001b[0;34m.\u001b[0m\u001b[0mDataFrame\u001b[0m\u001b[0;34m(\u001b[0m\u001b[0;34m[\u001b[0m\u001b[0mlatitude_array_messy\u001b[0m\u001b[0;34m,\u001b[0m \u001b[0mlongitude_array_messy\u001b[0m\u001b[0;34m,\u001b[0m \u001b[0myear_built_num\u001b[0m\u001b[0;34m]\u001b[0m\u001b[0;34m)\u001b[0m\u001b[0;34m.\u001b[0m\u001b[0mT\u001b[0m\u001b[0;34m\u001b[0m\u001b[0;34m\u001b[0m\u001b[0m\n\u001b[0m\u001b[1;32m      2\u001b[0m \u001b[0;31m#more_details.columns = [\"postal_code\", \"latitude\", \"longitude\", \"year_built\"]\u001b[0m\u001b[0;34m\u001b[0m\u001b[0;34m\u001b[0m\u001b[0;34m\u001b[0m\u001b[0m\n\u001b[1;32m      3\u001b[0m \u001b[0mmore_details\u001b[0m\u001b[0;34m.\u001b[0m\u001b[0mhead\u001b[0m\u001b[0;34m(\u001b[0m\u001b[0;34m)\u001b[0m\u001b[0;34m\u001b[0m\u001b[0;34m\u001b[0m\u001b[0m\n",
      "\u001b[0;31mNameError\u001b[0m: name 'year_built_num' is not defined"
     ]
    }
   ],
   "source": [
    "more_details = pd.DataFrame([latitude_array_messy, longitude_array_messy, year_built_num]).T\n",
    "#more_details.columns = [\"postal_code\", \"latitude\", \"longitude\", \"year_built\"]\n",
    "more_details.head()"
   ]
  },
  {
   "cell_type": "code",
   "execution_count": 117,
   "metadata": {
    "scrolled": true
   },
   "outputs": [
    {
     "data": {
      "text/html": [
       "<div>\n",
       "<style scoped>\n",
       "    .dataframe tbody tr th:only-of-type {\n",
       "        vertical-align: middle;\n",
       "    }\n",
       "\n",
       "    .dataframe tbody tr th {\n",
       "        vertical-align: top;\n",
       "    }\n",
       "\n",
       "    .dataframe thead th {\n",
       "        text-align: right;\n",
       "    }\n",
       "</style>\n",
       "<table border=\"1\" class=\"dataframe\">\n",
       "  <thead>\n",
       "    <tr style=\"text-align: right;\">\n",
       "      <th></th>\n",
       "      <th>postal_code</th>\n",
       "      <th>latitude</th>\n",
       "      <th>longitude</th>\n",
       "      <th>year_built</th>\n",
       "    </tr>\n",
       "  </thead>\n",
       "  <tbody>\n",
       "    <tr>\n",
       "      <th>0</th>\n",
       "      <td>T1Y2Z3</td>\n",
       "      <td>51.090065</td>\n",
       "      <td>-113.962366</td>\n",
       "      <td>1977.0</td>\n",
       "    </tr>\n",
       "    <tr>\n",
       "      <th>1</th>\n",
       "      <td>T3A0M1</td>\n",
       "      <td>51.091708</td>\n",
       "      <td>-114.143333</td>\n",
       "      <td>1964.0</td>\n",
       "    </tr>\n",
       "    <tr>\n",
       "      <th>2</th>\n",
       "      <td>T3G4E4</td>\n",
       "      <td>51.128258</td>\n",
       "      <td>-114.213815</td>\n",
       "      <td>1974.0</td>\n",
       "    </tr>\n",
       "    <tr>\n",
       "      <th>3</th>\n",
       "      <td>T3M0S3</td>\n",
       "      <td>50.878580</td>\n",
       "      <td>-113.978461</td>\n",
       "      <td>2011.0</td>\n",
       "    </tr>\n",
       "    <tr>\n",
       "      <th>4</th>\n",
       "      <td>T2Z0Y9</td>\n",
       "      <td>50.919925</td>\n",
       "      <td>-113.930907</td>\n",
       "      <td>2010.0</td>\n",
       "    </tr>\n",
       "  </tbody>\n",
       "</table>\n",
       "</div>"
      ],
      "text/plain": [
       "  postal_code   latitude   longitude  year_built\n",
       "0      T1Y2Z3  51.090065 -113.962366      1977.0\n",
       "1      T3A0M1  51.091708 -114.143333      1964.0\n",
       "2      T3G4E4  51.128258 -114.213815      1974.0\n",
       "3      T3M0S3  50.878580 -113.978461      2011.0\n",
       "4      T2Z0Y9  50.919925 -113.930907      2010.0"
      ]
     },
     "execution_count": 117,
     "metadata": {},
     "output_type": "execute_result"
    }
   ],
   "source": [
    "more_df = pd.concat([postal_code_array_clean, more_details], axis=1)\n",
    "more_df.columns = [\"postal_code\", \"latitude\", \"longitude\", \"year_built\"]\n",
    "more_df.head()"
   ]
  },
  {
   "cell_type": "code",
   "execution_count": 118,
   "metadata": {},
   "outputs": [
    {
     "data": {
      "text/html": [
       "<div>\n",
       "<style scoped>\n",
       "    .dataframe tbody tr th:only-of-type {\n",
       "        vertical-align: middle;\n",
       "    }\n",
       "\n",
       "    .dataframe tbody tr th {\n",
       "        vertical-align: top;\n",
       "    }\n",
       "\n",
       "    .dataframe thead th {\n",
       "        text-align: right;\n",
       "    }\n",
       "</style>\n",
       "<table border=\"1\" class=\"dataframe\">\n",
       "  <thead>\n",
       "    <tr style=\"text-align: right;\">\n",
       "      <th></th>\n",
       "      <th>price</th>\n",
       "      <th>postal_code</th>\n",
       "      <th>address</th>\n",
       "      <th>bed</th>\n",
       "      <th>full_bath</th>\n",
       "      <th>half_bath</th>\n",
       "      <th>property_area</th>\n",
       "      <th>property_type</th>\n",
       "      <th>latitude</th>\n",
       "      <th>longitude</th>\n",
       "      <th>year_built</th>\n",
       "    </tr>\n",
       "  </thead>\n",
       "  <tbody>\n",
       "    <tr>\n",
       "      <th>0</th>\n",
       "      <td>329900</td>\n",
       "      <td>T1Y2Z3</td>\n",
       "      <td>4312 49 ST NE</td>\n",
       "      <td>4</td>\n",
       "      <td>1</td>\n",
       "      <td>1.0</td>\n",
       "      <td>122</td>\n",
       "      <td>house</td>\n",
       "      <td>51.090065</td>\n",
       "      <td>-113.962366</td>\n",
       "      <td>1977.0</td>\n",
       "    </tr>\n",
       "    <tr>\n",
       "      <th>3</th>\n",
       "      <td>464900</td>\n",
       "      <td>T3A0M1</td>\n",
       "      <td>3916 VANCOUVER CRES NW</td>\n",
       "      <td>4</td>\n",
       "      <td>2</td>\n",
       "      <td>NaN</td>\n",
       "      <td>1043</td>\n",
       "      <td>house</td>\n",
       "      <td>51.091708</td>\n",
       "      <td>-114.143333</td>\n",
       "      <td>1964.0</td>\n",
       "    </tr>\n",
       "    <tr>\n",
       "      <th>6</th>\n",
       "      <td>119800</td>\n",
       "      <td>T3G4E4</td>\n",
       "      <td>102 - 99 ARBOUR LAKE RD NW</td>\n",
       "      <td>3</td>\n",
       "      <td>1</td>\n",
       "      <td>1.0</td>\n",
       "      <td>1316</td>\n",
       "      <td>None</td>\n",
       "      <td>51.128258</td>\n",
       "      <td>-114.213815</td>\n",
       "      <td>1974.0</td>\n",
       "    </tr>\n",
       "    <tr>\n",
       "      <th>9</th>\n",
       "      <td>614900</td>\n",
       "      <td>T3M0S3</td>\n",
       "      <td>63 CRANARCH CIR SE</td>\n",
       "      <td>4</td>\n",
       "      <td>3</td>\n",
       "      <td>1.0</td>\n",
       "      <td>2210</td>\n",
       "      <td>house</td>\n",
       "      <td>50.878580</td>\n",
       "      <td>-113.978461</td>\n",
       "      <td>2011.0</td>\n",
       "    </tr>\n",
       "    <tr>\n",
       "      <th>12</th>\n",
       "      <td>329900</td>\n",
       "      <td>T2Z0Y9</td>\n",
       "      <td>32 COPPERPOND Close SE</td>\n",
       "      <td>3</td>\n",
       "      <td>2</td>\n",
       "      <td>1.0</td>\n",
       "      <td>1323</td>\n",
       "      <td>townhouse</td>\n",
       "      <td>50.919925</td>\n",
       "      <td>-113.930907</td>\n",
       "      <td>2010.0</td>\n",
       "    </tr>\n",
       "  </tbody>\n",
       "</table>\n",
       "</div>"
      ],
      "text/plain": [
       "     price postal_code                     address  bed  full_bath  half_bath  \\\n",
       "0   329900      T1Y2Z3               4312 49 ST NE    4          1        1.0   \n",
       "3   464900      T3A0M1      3916 VANCOUVER CRES NW    4          2        NaN   \n",
       "6   119800      T3G4E4  102 - 99 ARBOUR LAKE RD NW    3          1        1.0   \n",
       "9   614900      T3M0S3          63 CRANARCH CIR SE    4          3        1.0   \n",
       "12  329900      T2Z0Y9      32 COPPERPOND Close SE    3          2        1.0   \n",
       "\n",
       "    property_area property_type   latitude   longitude  year_built  \n",
       "0             122         house  51.090065 -113.962366      1977.0  \n",
       "3            1043         house  51.091708 -114.143333      1964.0  \n",
       "6            1316          None  51.128258 -114.213815      1974.0  \n",
       "9            2210         house  50.878580 -113.978461      2011.0  \n",
       "12           1323     townhouse  50.919925 -113.930907      2010.0  "
      ]
     },
     "execution_count": 118,
     "metadata": {},
     "output_type": "execute_result"
    }
   ],
   "source": [
    "result_dup = pd.merge(calgary_df, more_df, on='postal_code')\n",
    "result = result_dup.drop_duplicates()\n",
    "result.head()"
   ]
  },
  {
   "cell_type": "markdown",
   "metadata": {},
   "source": [
    "-----------"
   ]
  },
  {
   "cell_type": "markdown",
   "metadata": {},
   "source": [
    "<div class=\"alert alert-info\">\n",
    "    <b>UNSED</b>\n",
    "</div>"
   ]
  },
  {
   "cell_type": "code",
   "execution_count": 6,
   "metadata": {},
   "outputs": [
    {
     "data": {
      "text/plain": [
       "['https://www.remax.ca/ab/calgary-real-estate/4312-49-st-ne-wp_id282699451-lst',\n",
       " 'https://www.remax.ca/ab/calgary-real-estate/3916-vancouver-crescent-nw-wp_id282833251-lst',\n",
       " 'https://www.remax.ca/ab/calgary-real-estate/102-99-arbour-lake-road-nw-wp_id282825809-lst',\n",
       " 'https://www.remax.ca/ab/calgary-real-estate/63-cranarch-circle-se-wp_id282826543-lst',\n",
       " 'https://www.remax.ca/ab/calgary-real-estate/32-copperpond-close-se-wp_id282827182-lst',\n",
       " 'https://www.remax.ca/ab/calgary-real-estate/1408-43-street-sw-wp_id282826546-lst',\n",
       " 'https://www.remax.ca/ab/calgary-real-estate/1314-7451-springbank-boulevard-sw-wp_id282825813-lst',\n",
       " 'https://www.remax.ca/ab/calgary-real-estate/54-6103-madigan-drive-ne-wp_id282827181-lst',\n",
       " 'https://www.remax.ca/ab/calgary-real-estate/303-4-14-street-nw-wp_id282825548-lst',\n",
       " 'https://www.remax.ca/ab/calgary-real-estate/97-prestwick-gardens-se-wp_id282825546-lst',\n",
       " 'https://www.remax.ca/luxury/ab/calgary-real-estate/707-35-street-nw-wp_id282831352-lst',\n",
       " 'https://www.remax.ca/ab/calgary-real-estate/116-franklin-drive-se-wp_id282831367-lst',\n",
       " 'https://www.remax.ca/ab/calgary-real-estate/15-riverbirch-place-se-wp_id282827195-lst',\n",
       " 'https://www.remax.ca/ab/calgary-real-estate/1225-2395-eversyde-avenue-sw-wp_id282826775-lst',\n",
       " 'https://www.remax.ca/ab/calgary-real-estate/7744-46-avenue-nw-wp_id282827183-lst',\n",
       " 'https://www.remax.ca/ab/calgary-real-estate/137-saddlelake-grove-ne-wp_id282826344-lst',\n",
       " 'https://www.remax.ca/ab/calgary-real-estate/247-valley-pointe-way-nw-wp_id282831355-lst',\n",
       " 'https://www.remax.ca/ab/calgary-real-estate/3810-catalina-boulevard-ne-wp_id282826335-lst',\n",
       " 'https://www.remax.ca/ab/calgary-real-estate/956-nolan-hill-boulevard-nw-wp_id282825808-lst',\n",
       " 'https://www.remax.ca/ab/calgary-real-estate/6408-tregillus-street-nw-wp_id282835659-lst',\n",
       " 'https://www.remax.ca/ab/calgary-real-estate/4312-49-st-ne-wp_id282699451-lst',\n",
       " 'https://www.remax.ca/ab/calgary-real-estate/3916-vancouver-crescent-nw-wp_id282833251-lst',\n",
       " 'https://www.remax.ca/ab/calgary-real-estate/102-99-arbour-lake-road-nw-wp_id282825809-lst',\n",
       " 'https://www.remax.ca/ab/calgary-real-estate/63-cranarch-circle-se-wp_id282826543-lst',\n",
       " 'https://www.remax.ca/ab/calgary-real-estate/32-copperpond-close-se-wp_id282827182-lst',\n",
       " 'https://www.remax.ca/ab/calgary-real-estate/1408-43-street-sw-wp_id282826546-lst',\n",
       " 'https://www.remax.ca/ab/calgary-real-estate/1314-7451-springbank-boulevard-sw-wp_id282825813-lst',\n",
       " 'https://www.remax.ca/ab/calgary-real-estate/54-6103-madigan-drive-ne-wp_id282827181-lst',\n",
       " 'https://www.remax.ca/ab/calgary-real-estate/303-4-14-street-nw-wp_id282825548-lst',\n",
       " 'https://www.remax.ca/ab/calgary-real-estate/97-prestwick-gardens-se-wp_id282825546-lst',\n",
       " 'https://www.remax.ca/luxury/ab/calgary-real-estate/707-35-street-nw-wp_id282831352-lst',\n",
       " 'https://www.remax.ca/ab/calgary-real-estate/116-franklin-drive-se-wp_id282831367-lst',\n",
       " 'https://www.remax.ca/ab/calgary-real-estate/15-riverbirch-place-se-wp_id282827195-lst',\n",
       " 'https://www.remax.ca/ab/calgary-real-estate/1225-2395-eversyde-avenue-sw-wp_id282826775-lst',\n",
       " 'https://www.remax.ca/ab/calgary-real-estate/7744-46-avenue-nw-wp_id282827183-lst',\n",
       " 'https://www.remax.ca/ab/calgary-real-estate/137-saddlelake-grove-ne-wp_id282826344-lst',\n",
       " 'https://www.remax.ca/ab/calgary-real-estate/247-valley-pointe-way-nw-wp_id282831355-lst',\n",
       " 'https://www.remax.ca/ab/calgary-real-estate/3810-catalina-boulevard-ne-wp_id282826335-lst',\n",
       " 'https://www.remax.ca/ab/calgary-real-estate/956-nolan-hill-boulevard-nw-wp_id282825808-lst',\n",
       " 'https://www.remax.ca/ab/calgary-real-estate/6408-tregillus-street-nw-wp_id282835659-lst',\n",
       " 'https://www.remax.ca/ab/calgary-real-estate/4312-49-st-ne-wp_id282699451-lst',\n",
       " 'https://www.remax.ca/ab/calgary-real-estate/3916-vancouver-crescent-nw-wp_id282833251-lst',\n",
       " 'https://www.remax.ca/ab/calgary-real-estate/102-99-arbour-lake-road-nw-wp_id282825809-lst',\n",
       " 'https://www.remax.ca/ab/calgary-real-estate/63-cranarch-circle-se-wp_id282826543-lst',\n",
       " 'https://www.remax.ca/ab/calgary-real-estate/32-copperpond-close-se-wp_id282827182-lst',\n",
       " 'https://www.remax.ca/ab/calgary-real-estate/1408-43-street-sw-wp_id282826546-lst',\n",
       " 'https://www.remax.ca/ab/calgary-real-estate/1314-7451-springbank-boulevard-sw-wp_id282825813-lst',\n",
       " 'https://www.remax.ca/ab/calgary-real-estate/54-6103-madigan-drive-ne-wp_id282827181-lst',\n",
       " 'https://www.remax.ca/ab/calgary-real-estate/303-4-14-street-nw-wp_id282825548-lst',\n",
       " 'https://www.remax.ca/ab/calgary-real-estate/97-prestwick-gardens-se-wp_id282825546-lst',\n",
       " 'https://www.remax.ca/luxury/ab/calgary-real-estate/707-35-street-nw-wp_id282831352-lst',\n",
       " 'https://www.remax.ca/ab/calgary-real-estate/116-franklin-drive-se-wp_id282831367-lst',\n",
       " 'https://www.remax.ca/ab/calgary-real-estate/15-riverbirch-place-se-wp_id282827195-lst',\n",
       " 'https://www.remax.ca/ab/calgary-real-estate/1225-2395-eversyde-avenue-sw-wp_id282826775-lst',\n",
       " 'https://www.remax.ca/ab/calgary-real-estate/7744-46-avenue-nw-wp_id282827183-lst',\n",
       " 'https://www.remax.ca/ab/calgary-real-estate/137-saddlelake-grove-ne-wp_id282826344-lst',\n",
       " 'https://www.remax.ca/ab/calgary-real-estate/247-valley-pointe-way-nw-wp_id282831355-lst',\n",
       " 'https://www.remax.ca/ab/calgary-real-estate/3810-catalina-boulevard-ne-wp_id282826335-lst',\n",
       " 'https://www.remax.ca/ab/calgary-real-estate/956-nolan-hill-boulevard-nw-wp_id282825808-lst',\n",
       " 'https://www.remax.ca/ab/calgary-real-estate/6408-tregillus-street-nw-wp_id282835659-lst']"
      ]
     },
     "execution_count": 6,
     "metadata": {},
     "output_type": "execute_result"
    }
   ],
   "source": [
    "house_details_more=[]\n",
    "url_house = []\n",
    "try:\n",
    "    for detail in soup.find_all('a'):\n",
    "        house_details_more.append(detail.get('href'))\n",
    "except:\n",
    "    house_details_more.append('None')\n",
    "    \n",
    "for i in house_details_more:\n",
    "    if '/ab/calgary-real-estate/' in str(i):\n",
    "        link = 'https://www.remax.ca' + str(i)\n",
    "        url_house.append(link)\n",
    "url_house"
   ]
  },
  {
   "cell_type": "code",
   "execution_count": 16,
   "metadata": {},
   "outputs": [
    {
     "data": {
      "text/plain": [
       "['https://www.remax.ca/ab/calgary-real-estate/4312-49-st-ne-wp_id282699451-lst',\n",
       " 'https://www.remax.ca/ab/calgary-real-estate/3916-vancouver-crescent-nw-wp_id282833251-lst',\n",
       " 'https://www.remax.ca/ab/calgary-real-estate/102-99-arbour-lake-road-nw-wp_id282825809-lst',\n",
       " 'https://www.remax.ca/ab/calgary-real-estate/63-cranarch-circle-se-wp_id282826543-lst',\n",
       " 'https://www.remax.ca/ab/calgary-real-estate/32-copperpond-close-se-wp_id282827182-lst']"
      ]
     },
     "execution_count": 16,
     "metadata": {},
     "output_type": "execute_result"
    }
   ],
   "source": [
    "url_house[:5]"
   ]
  },
  {
   "cell_type": "code",
   "execution_count": 26,
   "metadata": {},
   "outputs": [],
   "source": [
    "PostalCode = []\n",
    "Latitude = []\n",
    "Longitude = []\n",
    "YearBuilt = []\n",
    "\n",
    "for i in url_house[:5]:\n",
    "    \n",
    "    time.sleep(5)\n",
    "    \n",
    "    page = requests.get(i)\n",
    "    soup = BeautifulSoup(page.text, \"html.parser\")\n",
    "    \n",
    "    lat_all = soup.find_all('script')[4]\n",
    "    \n",
    "    string = ', '.join(lat_all)\n",
    "    pc = \"postalCode\"\n",
    "    position_pc = string.find(pc)\n",
    "    pcd = string[(position_pc+14):(position_pc+21)]\n",
    "    PostalCode.append(pcd)\n",
    "\n",
    "    lat = \"latitude\"\n",
    "    position_lat = string.find(lat)\n",
    "    latd = string[(position_lat+11):(position_lat+20)]\n",
    "    Latitude.append(latd)\n",
    "\n",
    "    long = \"longitude\"\n",
    "    position_long = string.find(long)\n",
    "    longd = string[(position_long+12):(position_long+23)]\n",
    "    Longitude.append(longd)\n",
    "    \n",
    "    house_address = []\n",
    "    \n",
    "    time.sleep(5)\n",
    "    \n",
    "    try:\n",
    "        addresses = soup.find_all('section', class_='property-details')\n",
    "        for address in addresses:\n",
    "            house_address.append(address.text)\n",
    "    except:\n",
    "        house_address.append('None')\n",
    "    \n",
    "    time.sleep(5)\n",
    "    \n",
    "    string = ', '.join(house_address)\n",
    "    s_year = \"Year Built\"\n",
    "    position_year = string.find(s_year)\n",
    "    year_built = string[(position_year+12):(position_year+16)]\n",
    "    YearBuilt.append(year_built)"
   ]
  },
  {
   "cell_type": "code",
   "execution_count": null,
   "metadata": {},
   "outputs": [],
   "source": []
  }
 ],
 "metadata": {
  "kernelspec": {
   "display_name": "Python 3",
   "language": "python",
   "name": "python3"
  },
  "language_info": {
   "codemirror_mode": {
    "name": "ipython",
    "version": 3
   },
   "file_extension": ".py",
   "mimetype": "text/x-python",
   "name": "python",
   "nbconvert_exporter": "python",
   "pygments_lexer": "ipython3",
   "version": "3.7.3"
  }
 },
 "nbformat": 4,
 "nbformat_minor": 2
}
