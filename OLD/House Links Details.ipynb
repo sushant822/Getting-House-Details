{
 "cells": [
  {
   "cell_type": "code",
   "execution_count": 1,
   "metadata": {},
   "outputs": [],
   "source": [
    "import pandas as pd\n",
    "import numpy as np\n",
    "import requests\n",
    "from bs4 import BeautifulSoup\n",
    "import time\n",
    "import re"
   ]
  },
  {
   "cell_type": "code",
   "execution_count": 2,
   "metadata": {},
   "outputs": [],
   "source": [
    "#url = 'https://www.remax.ca/ab/calgary-real-estate/247-valley-pointe-way-nw-wp_id282831355-lst'\n",
    "#url = 'https://www.remax.ca/ab/calgary-real-estate/3710-14a-street-sw-wp_id283788225-lst'\n",
    "url = 'https://www.remax.ca/ab/calgary-real-estate/4210-17-street-sw-wp_id284253492-lst'"
   ]
  },
  {
   "cell_type": "code",
   "execution_count": 3,
   "metadata": {},
   "outputs": [],
   "source": [
    "page = requests.get(url)\n",
    "soup = BeautifulSoup(page.text, \"html.parser\")"
   ]
  },
  {
   "cell_type": "code",
   "execution_count": 4,
   "metadata": {},
   "outputs": [],
   "source": [
    "#print(soup.prettify())"
   ]
  },
  {
   "cell_type": "code",
   "execution_count": null,
   "metadata": {},
   "outputs": [],
   "source": []
  },
  {
   "cell_type": "code",
   "execution_count": 5,
   "metadata": {
    "scrolled": true
   },
   "outputs": [],
   "source": [
    "lat_all = soup.find_all('script')[3]\n",
    "#lat_all"
   ]
  },
  {
   "cell_type": "code",
   "execution_count": 6,
   "metadata": {},
   "outputs": [],
   "source": [
    "ltd = []\n",
    "latitude = \"latitude\"\n",
    "lat3 = soup.find_all('script')[3]\n",
    "lat4 = soup.find_all('script')[4]\n",
    "\n",
    "string3 = ', '.join(lat3)\n",
    "string4 = ', '.join(lat4)\n",
    "\n",
    "if latitude in string3:\n",
    "    position_lat = string3.find(latitude)\n",
    "    latd = string3[(position_lat+11):(position_lat+20)]\n",
    "    ltd.append(latd)\n",
    "elif latitude in string4:\n",
    "    position_lat = string4.find(latitude)\n",
    "    latd = string4[(position_lat+11):(position_lat+20)]\n",
    "    ltd.append(latd)"
   ]
  },
  {
   "cell_type": "code",
   "execution_count": 7,
   "metadata": {},
   "outputs": [
    {
     "data": {
      "text/plain": [
       "['51.016745']"
      ]
     },
     "execution_count": 7,
     "metadata": {},
     "output_type": "execute_result"
    }
   ],
   "source": [
    "ltd"
   ]
  },
  {
   "cell_type": "code",
   "execution_count": 8,
   "metadata": {},
   "outputs": [
    {
     "name": "stdout",
     "output_type": "stream",
     "text": [
      "Postal Code: T2T4P6 \n",
      " Latitude: 51.016745 \n",
      " Longitude: -114.103154\n"
     ]
    }
   ],
   "source": [
    "string = ', '.join(lat_all)\n",
    "pc = \"postalCode\"\n",
    "position_pc = string.find(pc)\n",
    "pcd = string[(position_pc+14):(position_pc+20)]\n",
    "\n",
    "latd = []\n",
    "\n",
    "lat = \"latitude\"\n",
    "position_lat = string.find(lat)\n",
    "latd = string[(position_lat+11):(position_lat+20)]\n",
    "\n",
    "long = \"longitude\"\n",
    "position_long = string.find(long)\n",
    "longd = string[(position_long+12):(position_long+23)]\n",
    "\n",
    "print(f'Postal Code: {pcd} \\n Latitude: {latd} \\n Longitude: {longd}')"
   ]
  },
  {
   "cell_type": "code",
   "execution_count": 9,
   "metadata": {},
   "outputs": [
    {
     "data": {
      "text/plain": [
       "['Details for 4210 17 ST SWProperty Type: Single FamilyProperty Tax: naLast Updated: Wed, November 11, 2020Possession: ImmediateProperty Subtype: DetachedProperty Type Detail: ResidentialRestrictions: None KnownTitle: Fee SimpleKey Facts for 4210 17 ST SWMLSÂ® #: A1045665Ownership Type: naYear Built: 2005sqft: details.sizeDate Listed: Nov 11, 2020Lot Size: 3412Occupancy: naSubdivision: AltadoreZoning: R-C2InsideHeating: In Floor, Forced Air, Natural GasHeating Source: naFull Bathrooms: 3Half Bathrooms: 1Rooms: naStories: 2Cooling: Central AirBasement: Walk-Out, FinishedFlooring: Carpet, Hardwood, SlateInterior Features: Sump Pump(s), Pantry, Smart Home, Vaulted Ceiling(s), Skylight(s), High Ceilings, Kitchen Island, Granite Counters, No Smoking Home, No Animal Home, Open Floorplan, Built-in FeaturesOutsideGarage: YesGarage Spaces: 1Exterior Features: Private Yard, LightingRoof: Asphalt ShingleFencing: FencedFeaturesPatio Features: Patio, See RemarksConstruction Materials: Stone, Stucco, Wood FrameCondo: Not a CondoCommunity Features: Sidewalks, Street Lights, Park, Playground, Shopping Nearby, Schools NearbyLot Features: Back Lane, Rectangular Lot, Underground Sprinklers, Level, Low Maintenance Landscape, Many Trees, Front Yard, Landscaped, Yard Lightsdetails.associationyn: 0Fireplace Features: Basement, Gas, Great RoomStructure Type: Housedetails.bathroomsfull: 3Laundry Features: Upper LevelFoundation Details: Poured ConcreteTotal Bathrooms: 4details.bedroomstotal: 4details.bathroomshalf: 1Documents Available: RPRdetails.countyorparish: Calgarydetails.subdivisionname: AltadoreLevels: TwoParking Features: Double Garage Detacheddetails.garageyn: YArchitectural Style: 2 StoreySee more details keyboard_arrow_down']"
      ]
     },
     "execution_count": 9,
     "metadata": {},
     "output_type": "execute_result"
    }
   ],
   "source": [
    "house_address = []\n",
    "\n",
    "try:\n",
    "    addresses = soup.find_all('section', class_='property-details')\n",
    "    for address in addresses:\n",
    "        house_address.append(address.text)\n",
    "except:\n",
    "    house_address.append('None')\n",
    "\n",
    "house_address"
   ]
  },
  {
   "cell_type": "code",
   "execution_count": 10,
   "metadata": {},
   "outputs": [
    {
     "name": "stdout",
     "output_type": "stream",
     "text": [
      "Year Built: 2005 \n",
      " Lot Size: 3412\n",
      " Garage: Yes\n",
      " MLSA: ['A1045665']\n"
     ]
    }
   ],
   "source": [
    "string = ', '.join(house_address)\n",
    "s_year = \"Year Built\"\n",
    "position_year = string.find(s_year)\n",
    "year_built = string[(position_year+12):(position_year+16)]\n",
    "\n",
    "s_lot = \"Lot Size\"\n",
    "position_lot = string.find(s_lot)\n",
    "lot_size = string[(position_lot+10):(position_lot+14)]\n",
    "\n",
    "s_garage = \"Garage\"\n",
    "position_garage = string.find(s_garage)\n",
    "garage_yn = string[(position_garage+8):(position_garage+11)]\n",
    "\n",
    "mlsa = []\n",
    "result = re.search('MLSÂ® #: (.*)Ownership', string)\n",
    "mlsa.append(result.group(1))\n",
    "\n",
    "print(f'Year Built: {year_built} \\n Lot Size: {lot_size}\\n Garage: {garage_yn}\\n MLSA: {mlsa}')"
   ]
  },
  {
   "cell_type": "code",
   "execution_count": 11,
   "metadata": {},
   "outputs": [],
   "source": [
    "page = requests.get(url)\n",
    "soup = BeautifulSoup(page.text, \"html.parser\")"
   ]
  },
  {
   "cell_type": "code",
   "execution_count": 13,
   "metadata": {},
   "outputs": [
    {
     "data": {
      "text/plain": [
       "[<div _ngcontent-sc46=\"\" id=\"poiWidget\"></div>]"
      ]
     },
     "execution_count": 13,
     "metadata": {},
     "output_type": "execute_result"
    }
   ],
   "source": [
    "poi = soup.find_all('div', id='poiWidget')\n",
    "poi"
   ]
  },
  {
   "cell_type": "code",
   "execution_count": null,
   "metadata": {},
   "outputs": [],
   "source": []
  },
  {
   "cell_type": "code",
   "execution_count": null,
   "metadata": {},
   "outputs": [],
   "source": []
  },
  {
   "cell_type": "code",
   "execution_count": null,
   "metadata": {},
   "outputs": [],
   "source": []
  },
  {
   "cell_type": "markdown",
   "metadata": {},
   "source": [
    "### UNUSED"
   ]
  },
  {
   "cell_type": "code",
   "execution_count": 8,
   "metadata": {},
   "outputs": [
    {
     "data": {
      "text/plain": [
       "'51.093025'"
      ]
     },
     "execution_count": 8,
     "metadata": {},
     "output_type": "execute_result"
    }
   ],
   "source": [
    "string = ', '.join(lat_all)\n",
    "lat = \"latitude\"\n",
    "position_lat = string.find(lat)\n",
    "latd = string[(position_lat+11):(position_lat+20)]\n",
    "latd\n",
    "#position_lat"
   ]
  },
  {
   "cell_type": "code",
   "execution_count": 9,
   "metadata": {},
   "outputs": [
    {
     "data": {
      "text/plain": [
       "'-114.272066'"
      ]
     },
     "execution_count": 9,
     "metadata": {},
     "output_type": "execute_result"
    }
   ],
   "source": [
    "string = ', '.join(lat_all)\n",
    "long = \"longitude\"\n",
    "position_long = string.find(long)\n",
    "longd = string[(position_long+12):(position_long+23)]\n",
    "longd"
   ]
  },
  {
   "cell_type": "markdown",
   "metadata": {},
   "source": [
    "house_details = []\n",
    "\n",
    "try:\n",
    "    addresses = soup.find_all('meta content')\n",
    "    for address in addresses:\n",
    "        house_details.append(address.text)\n",
    "except:\n",
    "    house_details.append('None')\n",
    "\n",
    "house_details"
   ]
  },
  {
   "cell_type": "code",
   "execution_count": 10,
   "metadata": {},
   "outputs": [],
   "source": [
    "string = ', '.join(house_address)"
   ]
  },
  {
   "cell_type": "code",
   "execution_count": 12,
   "metadata": {},
   "outputs": [
    {
     "data": {
      "text/plain": [
       "''"
      ]
     },
     "execution_count": 12,
     "metadata": {},
     "output_type": "execute_result"
    }
   ],
   "source": [
    "s_lot = \"Lot Size\"\n",
    "position_lot = string.find(s_lot)\n",
    "lot_size = string[(position_lot+10):(position_lot+14)]\n",
    "lot_size"
   ]
  },
  {
   "cell_type": "code",
   "execution_count": null,
   "metadata": {},
   "outputs": [],
   "source": []
  }
 ],
 "metadata": {
  "kernelspec": {
   "display_name": "Python 3",
   "language": "python",
   "name": "python3"
  },
  "language_info": {
   "codemirror_mode": {
    "name": "ipython",
    "version": 3
   },
   "file_extension": ".py",
   "mimetype": "text/x-python",
   "name": "python",
   "nbconvert_exporter": "python",
   "pygments_lexer": "ipython3",
   "version": "3.7.3"
  }
 },
 "nbformat": 4,
 "nbformat_minor": 2
}
