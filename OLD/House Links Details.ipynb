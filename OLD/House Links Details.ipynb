{
 "cells": [
  {
   "cell_type": "code",
   "execution_count": 1,
   "metadata": {},
   "outputs": [],
   "source": [
    "import pandas as pd\n",
    "import numpy as np\n",
    "import requests\n",
    "from bs4 import BeautifulSoup\n",
    "import time\n",
    "import re"
   ]
  },
  {
   "cell_type": "code",
   "execution_count": 2,
   "metadata": {},
   "outputs": [],
   "source": [
    "#url = 'https://www.remax.ca/ab/calgary-real-estate/247-valley-pointe-way-nw-wp_id282831355-lst'\n",
    "url = 'https://www.remax.ca/ab/calgary-real-estate/3710-14a-street-sw-wp_id283788225-lst'"
   ]
  },
  {
   "cell_type": "code",
   "execution_count": 3,
   "metadata": {},
   "outputs": [],
   "source": [
    "page = requests.get(url)\n",
    "soup = BeautifulSoup(page.text, \"html.parser\")"
   ]
  },
  {
   "cell_type": "code",
   "execution_count": 4,
   "metadata": {},
   "outputs": [],
   "source": [
    "#print(soup.prettify())"
   ]
  },
  {
   "cell_type": "code",
   "execution_count": 7,
   "metadata": {
    "scrolled": true
   },
   "outputs": [
    {
     "data": {
      "text/plain": [
       "[<script type=\"application/ld+json\">{\n",
       "   \"@context\": \"http://schema.org\",\n",
       "   \"@graph\": [\n",
       "     {\n",
       "       \"@type\": \"SingleFamilyResidence\",\n",
       "       \"address\": {\n",
       "         \"@type\": \"PostalAddress\",\n",
       "         \"streetAddress\": \"3710 14A ST SW, Calgary, AB T2T3X9\",\n",
       "         \"addressLocality\": \"Calgary\",\n",
       "         \"addressRegion\": \"AB\",\n",
       "         \"postalCode\": \"T2T3X9\"\n",
       "       },\n",
       "       \"geo\": {\n",
       "         \"@type\": \"GeoCoordinates\",\n",
       "         \"latitude\": 51.021818,\n",
       "         \"longitude\": -114.095907\n",
       "       }\n",
       "     },\n",
       "     {\n",
       "       \"@type\": \"House\",\n",
       "       \"address\": {\n",
       "         \"@type\": \"PostalAddress\",\n",
       "         \"streetAddress\": \"3710 14A ST SW, Calgary, AB T2T3X9\",\n",
       "         \"addressLocality\": \"Calgary\",\n",
       "         \"addressRegion\": \"AB\",\n",
       "         \"postalCode\": \"T2T3X9\"\n",
       "       },\n",
       "       \"geo\": {\n",
       "         \"@type\": \"GeoCoordinates\",\n",
       "         \"latitude\": 51.021818,\n",
       "         \"longitude\": -114.095907\n",
       "       },\n",
       "       \"description\": \"Gorgeous 2 storey infill with all the upgrades, just blocks from River Park! This beautiful home features everything you have been looking for and more! 10 ft ceilings, marble tiled wall with gas fireplace, engineered oak hardwood flooring, dream kitchen with Wolf & Sub Zero appliances, quartz counter tops, plenty of cabinetry and tons of storage. Open riser staircase leads you to the upper floor which has a nicely appointed laundry room, two generous kids rooms with large windows, a spacious master with walk-in closet (complete with built-ins) and an incredible ensuite featuring a marble steam shower, stand alone tub and dual sinks. Basement has a wet bar, large media/rec room, 4th bedroom, full bath and a cool storage room under the stairs. Convenient mud room off the back entrance with lots of built in storage leads you out to a large deck, low maintenance backyard and double garage which has insulation, heater, storage and a beautiful epoxy floor. Owners have spared no expense with upgrades and extras in this home that also features Hunter Douglas Blinds and central AC. Truly an exceptional home that is a must see!\",\n",
       "       \"photo\": {\n",
       "         \"@type\": \"ImageObject\",\n",
       "         \"url\": [\n",
       "           \"https://remax-listingphotos-ca1.imgix.net/x2/@v=-1853890208@/806/6/690/a1046690/a1046690_1.jpg\",\n",
       "           \"https://remax-listingphotos-ca1.imgix.net/x2/@v=-1857035936@/806/6/690/a1046690/a1046690_2.jpg\",\n",
       "           \"https://remax-listingphotos-ca1.imgix.net/x2/@v=-1855987360@/806/6/690/a1046690/a1046690_3.jpg\",\n",
       "           \"https://remax-listingphotos-ca1.imgix.net/x2/@v=-1859133088@/806/6/690/a1046690/a1046690_4.jpg\",\n",
       "           \"https://remax-listingphotos-ca1.imgix.net/x2/@v=-1858084512@/806/6/690/a1046690/a1046690_5.jpg\",\n",
       "           \"https://remax-listingphotos-ca1.imgix.net/x2/@v=-1861230240@/806/6/690/a1046690/a1046690_6.jpg\",\n",
       "           \"https://remax-listingphotos-ca1.imgix.net/x2/@v=-1860181664@/806/6/690/a1046690/a1046690_7.jpg\",\n",
       "           \"https://remax-listingphotos-ca1.imgix.net/x2/@v=-1846550176@/806/6/690/a1046690/a1046690_8.jpg\",\n",
       "           \"https://remax-listingphotos-ca1.imgix.net/x2/@v=-1845501600@/806/6/690/a1046690/a1046690_9.jpg\",\n",
       "           \"https://remax-listingphotos-ca1.imgix.net/x2/@v=128780358@/806/6/690/a1046690/a1046690_10.jpg\",\n",
       "           \"https://remax-listingphotos-ca1.imgix.net/x2/@v=129828934@/806/6/690/a1046690/a1046690_11.jpg\",\n",
       "           \"https://remax-listingphotos-ca1.imgix.net/x2/@v=126683206@/806/6/690/a1046690/a1046690_12.jpg\",\n",
       "           \"https://remax-listingphotos-ca1.imgix.net/x2/@v=127731782@/806/6/690/a1046690/a1046690_13.jpg\",\n",
       "           \"https://remax-listingphotos-ca1.imgix.net/x2/@v=132974662@/806/6/690/a1046690/a1046690_14.jpg\",\n",
       "           \"https://remax-listingphotos-ca1.imgix.net/x2/@v=134023238@/806/6/690/a1046690/a1046690_15.jpg\",\n",
       "           \"https://remax-listingphotos-ca1.imgix.net/x2/@v=130877510@/806/6/690/a1046690/a1046690_16.jpg\",\n",
       "           \"https://remax-listingphotos-ca1.imgix.net/x2/@v=131926086@/806/6/690/a1046690/a1046690_17.jpg\",\n",
       "           \"https://remax-listingphotos-ca1.imgix.net/x2/@v=120391750@/806/6/690/a1046690/a1046690_18.jpg\",\n",
       "           \"https://remax-listingphotos-ca1.imgix.net/x2/@v=121440326@/806/6/690/a1046690/a1046690_19.jpg\",\n",
       "           \"https://remax-listingphotos-ca1.imgix.net/x2/@v=78448710@/806/6/690/a1046690/a1046690_20.jpg\",\n",
       "           \"https://remax-listingphotos-ca1.imgix.net/x2/@v=79497286@/806/6/690/a1046690/a1046690_21.jpg\",\n",
       "           \"https://remax-listingphotos-ca1.imgix.net/x2/@v=76351558@/806/6/690/a1046690/a1046690_22.jpg\",\n",
       "           \"https://remax-listingphotos-ca1.imgix.net/x2/@v=77400134@/806/6/690/a1046690/a1046690_23.jpg\",\n",
       "           \"https://remax-listingphotos-ca1.imgix.net/x2/@v=82643014@/806/6/690/a1046690/a1046690_24.jpg\",\n",
       "           \"https://remax-listingphotos-ca1.imgix.net/x2/@v=83691590@/806/6/690/a1046690/a1046690_25.jpg\",\n",
       "           \"https://remax-listingphotos-ca1.imgix.net/x2/@v=80545862@/806/6/690/a1046690/a1046690_26.jpg\",\n",
       "           \"https://remax-listingphotos-ca1.imgix.net/x2/@v=81594438@/806/6/690/a1046690/a1046690_27.jpg\",\n",
       "           \"https://remax-listingphotos-ca1.imgix.net/x2/@v=70060102@/806/6/690/a1046690/a1046690_28.jpg\",\n",
       "           \"https://remax-listingphotos-ca1.imgix.net/x2/@v=71108678@/806/6/690/a1046690/a1046690_29.jpg\",\n",
       "           \"https://remax-listingphotos-ca1.imgix.net/x2/@v=95225926@/806/6/690/a1046690/a1046690_30.jpg\",\n",
       "           \"https://remax-listingphotos-ca1.imgix.net/x2/@v=96274502@/806/6/690/a1046690/a1046690_31.jpg\",\n",
       "           \"https://remax-listingphotos-ca1.imgix.net/x2/@v=93128774@/806/6/690/a1046690/a1046690_32.jpg\",\n",
       "           \"https://remax-listingphotos-ca1.imgix.net/x2/@v=94177350@/806/6/690/a1046690/a1046690_33.jpg\",\n",
       "           \"https://remax-listingphotos-ca1.imgix.net/x2/@v=99420230@/806/6/690/a1046690/a1046690_34.jpg\",\n",
       "           \"https://remax-listingphotos-ca1.imgix.net/x2/@v=100468806@/806/6/690/a1046690/a1046690_35.jpg\",\n",
       "           \"https://remax-listingphotos-ca1.imgix.net/x2/@v=97323078@/806/6/690/a1046690/a1046690_36.jpg\",\n",
       "           \"https://remax-listingphotos-ca1.imgix.net/x2/@v=98371654@/806/6/690/a1046690/a1046690_37.jpg\",\n",
       "           \"https://remax-listingphotos-ca1.imgix.net/x2/@v=86837318@/806/6/690/a1046690/a1046690_38.jpg\",\n",
       "           \"https://remax-listingphotos-ca1.imgix.net/x2/@v=87885894@/806/6/690/a1046690/a1046690_39.jpg\",\n",
       "           \"https://remax-listingphotos-ca1.imgix.net/x2/@v=44894278@/806/6/690/a1046690/a1046690_40.jpg\",\n",
       "           \"https://remax-listingphotos-ca1.imgix.net/x2/@v=45942854@/806/6/690/a1046690/a1046690_41.jpg\",\n",
       "           \"https://remax-listingphotos-ca1.imgix.net/x2/@v=42797126@/806/6/690/a1046690/a1046690_42.jpg\",\n",
       "           \"https://remax-listingphotos-ca1.imgix.net/x2/@v=43845702@/806/6/690/a1046690/a1046690_43.jpg\",\n",
       "           \"https://remax-listingphotos-ca1.imgix.net/x2/@v=49088582@/806/6/690/a1046690/a1046690_44.jpg\",\n",
       "           \"https://remax-listingphotos-ca1.imgix.net/x2/@v=50137158@/806/6/690/a1046690/a1046690_45.jpg\",\n",
       "           \"https://remax-listingphotos-ca1.imgix.net/x2/@v=46991430@/806/6/690/a1046690/a1046690_46.jpg\",\n",
       "           \"https://remax-listingphotos-ca1.imgix.net/x2/@v=48040006@/806/6/690/a1046690/a1046690_47.jpg\",\n",
       "           \"https://remax-listingphotos-ca1.imgix.net/x2/@v=36505670@/806/6/690/a1046690/a1046690_48.jpg\",\n",
       "           \"https://remax-listingphotos-ca1.imgix.net/x2/@v=37554246@/806/6/690/a1046690/a1046690_49.jpg\",\n",
       "           \"https://remax-listingphotos-ca1.imgix.net/x2/@v=61671494@/806/6/690/a1046690/a1046690_50.jpg\"\n",
       "         ]\n",
       "       }\n",
       "     },\n",
       "     {\n",
       "       \"@type\": \"Offer\",\n",
       "       \"price\": 949900,\n",
       "       \"priceCurrency\": \"CAD\",\n",
       "       \"url\": \"/ab/calgary-real-estate/3710-14a-street-sw-wp_id283788225-lst\"\n",
       "     }\n",
       "   ]\n",
       " }</script>]"
      ]
     },
     "execution_count": 7,
     "metadata": {},
     "output_type": "execute_result"
    }
   ],
   "source": [
    "lat_all = soup.find_all('script')[3:4]\n",
    "lat_all"
   ]
  },
  {
   "cell_type": "code",
   "execution_count": 8,
   "metadata": {},
   "outputs": [
    {
     "ename": "TypeError",
     "evalue": "sequence item 0: expected str instance, Tag found",
     "output_type": "error",
     "traceback": [
      "\u001b[1;31m---------------------------------------------------------------------------\u001b[0m",
      "\u001b[1;31mTypeError\u001b[0m                                 Traceback (most recent call last)",
      "\u001b[1;32m<ipython-input-8-d1f23dfba8de>\u001b[0m in \u001b[0;36m<module>\u001b[1;34m\u001b[0m\n\u001b[1;32m----> 1\u001b[1;33m \u001b[0mstring\u001b[0m \u001b[1;33m=\u001b[0m \u001b[1;34m', '\u001b[0m\u001b[1;33m.\u001b[0m\u001b[0mjoin\u001b[0m\u001b[1;33m(\u001b[0m\u001b[0mlat_all\u001b[0m\u001b[1;33m)\u001b[0m\u001b[1;33m\u001b[0m\u001b[1;33m\u001b[0m\u001b[0m\n\u001b[0m\u001b[0;32m      2\u001b[0m \u001b[0mpc\u001b[0m \u001b[1;33m=\u001b[0m \u001b[1;34m\"postalCode\"\u001b[0m\u001b[1;33m\u001b[0m\u001b[1;33m\u001b[0m\u001b[0m\n\u001b[0;32m      3\u001b[0m \u001b[0mposition_pc\u001b[0m \u001b[1;33m=\u001b[0m \u001b[0mstring\u001b[0m\u001b[1;33m.\u001b[0m\u001b[0mfind\u001b[0m\u001b[1;33m(\u001b[0m\u001b[0mpc\u001b[0m\u001b[1;33m)\u001b[0m\u001b[1;33m\u001b[0m\u001b[1;33m\u001b[0m\u001b[0m\n\u001b[0;32m      4\u001b[0m \u001b[0mpcd\u001b[0m \u001b[1;33m=\u001b[0m \u001b[0mstring\u001b[0m\u001b[1;33m[\u001b[0m\u001b[1;33m(\u001b[0m\u001b[0mposition_pc\u001b[0m\u001b[1;33m+\u001b[0m\u001b[1;36m14\u001b[0m\u001b[1;33m)\u001b[0m\u001b[1;33m:\u001b[0m\u001b[1;33m(\u001b[0m\u001b[0mposition_pc\u001b[0m\u001b[1;33m+\u001b[0m\u001b[1;36m20\u001b[0m\u001b[1;33m)\u001b[0m\u001b[1;33m]\u001b[0m\u001b[1;33m\u001b[0m\u001b[1;33m\u001b[0m\u001b[0m\n\u001b[0;32m      5\u001b[0m \u001b[1;33m\u001b[0m\u001b[0m\n",
      "\u001b[1;31mTypeError\u001b[0m: sequence item 0: expected str instance, Tag found"
     ]
    }
   ],
   "source": [
    "string = ', '.join(lat_all)\n",
    "pc = \"postalCode\"\n",
    "position_pc = string.find(pc)\n",
    "pcd = string[(position_pc+14):(position_pc+20)]\n",
    "\n",
    "latd = []\n",
    "\n",
    "lat = \"latitude\"\n",
    "position_lat = string.find(lat)\n",
    "latd = string[(position_lat+11):(position_lat+20)]\n",
    "\n",
    "long = \"longitude\"\n",
    "position_long = string.find(long)\n",
    "longd = string[(position_long+12):(position_long+23)]\n",
    "\n",
    "print(f'Postal Code: {pcd} \\n Latitude: {latd} \\n Longitude: {longd}')"
   ]
  },
  {
   "cell_type": "code",
   "execution_count": 7,
   "metadata": {},
   "outputs": [
    {
     "data": {
      "text/plain": [
       "['Details for 247 VALLEY POINTE WAY NWProperty Type: Single FamilyProperty Tax: naLast Updated: Mon, October 19, 2020Possession: NegotiableProperty Subtype: DetachedProperty Type Detail: ResidentialRestrictions: Restrictive Covenant-Building Design/Size, Utility Right Of WayKey Facts for 247 VALLEY POINTE WAY NWMLSÂ® #: A1043104Ownership Type: naYear Built: 2012sqft: details.sizeDate Listed: Oct 19, 2020Lot Size: 5479Occupancy: naSubdivision: Valley RidgeZoning: R-1SInsideHeating: Natural Gas, Forced AirHeating Source: naFull Bathrooms: 3Half Bathrooms: 1Rooms: naStories: 2Cooling: Central AirBasement: Finished, Suite, FullFlooring: Ceramic Tile, Laminate, Hardwood, CarpetInterior Features: Kitchen Island, No Smoking Home, Double Vanity, Granite Counters, High Ceilings, Walk-In Closet(s), Vaulted Ceiling(s), Wired for Sound, Soaking Tub, Chandelier, Open Floorplan, See RemarksOutsideGarage: YesGarage Spaces: 1Exterior Features: GardenRoof: Asphalt ShingleFencing: FencedFeaturesCommunity Features: Golf, Park, Pool, Sidewalks, Playground, Street LightsParking Features: Double Garage AttachedCondo: Not a CondoLevels: TwoDocuments Available: RPR with ComplianceLot Features: Rectangular Lot, See Remarks, Treed, Underground Sprinklers, Street Lighting, Level, Lawn, Gazebo, Fruit Trees/Shrub(s), Back Yard, Corner Lot, Landscaped, Front YardEntry Level: 0Construction Materials: Wood Siding, Wood Frame, Composite Siding, StonePatio Features: Deckdetails.garageyn: YFireplace Features: Gas, Electricdetails.associationyn: 1Foundation Details: Poured ConcreteLaundry Features: In Unit, Upper LevelStructure Type: HouseTotal Bathrooms: 4details.bedroomstotal: 5Direction Faces: NEdetails.bathroomsfull: 3details.bathroomshalf: 1details.subdivisionname: Valley Ridgedetails.countyorparish: CalgarySee more details keyboard_arrow_down']"
      ]
     },
     "execution_count": 7,
     "metadata": {},
     "output_type": "execute_result"
    }
   ],
   "source": [
    "house_address = []\n",
    "\n",
    "try:\n",
    "    addresses = soup.find_all('section', class_='property-details')\n",
    "    for address in addresses:\n",
    "        house_address.append(address.text)\n",
    "except:\n",
    "    house_address.append('None')\n",
    "\n",
    "house_address"
   ]
  },
  {
   "cell_type": "code",
   "execution_count": 9,
   "metadata": {},
   "outputs": [],
   "source": [
    "import re"
   ]
  },
  {
   "cell_type": "code",
   "execution_count": 17,
   "metadata": {},
   "outputs": [
    {
     "name": "stdout",
     "output_type": "stream",
     "text": [
      "Year Built: 2012 \n",
      " Lot Size: 5479\n",
      " Garage: Yes\n",
      " MLSA: ['A1043104']\n"
     ]
    }
   ],
   "source": [
    "string = ', '.join(house_address)\n",
    "s_year = \"Year Built\"\n",
    "position_year = string.find(s_year)\n",
    "year_built = string[(position_year+12):(position_year+16)]\n",
    "\n",
    "s_lot = \"Lot Size\"\n",
    "position_lot = string.find(s_lot)\n",
    "lot_size = string[(position_lot+10):(position_lot+14)]\n",
    "\n",
    "s_garage = \"Garage\"\n",
    "position_garage = string.find(s_garage)\n",
    "garage_yn = string[(position_garage+8):(position_garage+11)]\n",
    "\n",
    "mlsa = []\n",
    "result = re.search('MLSÂ® #: (.*)Ownership', string)\n",
    "mlsa.append(result.group(1))\n",
    "\n",
    "print(f'Year Built: {year_built} \\n Lot Size: {lot_size}\\n Garage: {garage_yn}\\n MLSA: {mlsa}')"
   ]
  },
  {
   "cell_type": "markdown",
   "metadata": {},
   "source": [
    "### UNUSED"
   ]
  },
  {
   "cell_type": "code",
   "execution_count": 8,
   "metadata": {},
   "outputs": [
    {
     "data": {
      "text/plain": [
       "'51.093025'"
      ]
     },
     "execution_count": 8,
     "metadata": {},
     "output_type": "execute_result"
    }
   ],
   "source": [
    "string = ', '.join(lat_all)\n",
    "lat = \"latitude\"\n",
    "position_lat = string.find(lat)\n",
    "latd = string[(position_lat+11):(position_lat+20)]\n",
    "latd\n",
    "#position_lat"
   ]
  },
  {
   "cell_type": "code",
   "execution_count": 9,
   "metadata": {},
   "outputs": [
    {
     "data": {
      "text/plain": [
       "'-114.272066'"
      ]
     },
     "execution_count": 9,
     "metadata": {},
     "output_type": "execute_result"
    }
   ],
   "source": [
    "string = ', '.join(lat_all)\n",
    "long = \"longitude\"\n",
    "position_long = string.find(long)\n",
    "longd = string[(position_long+12):(position_long+23)]\n",
    "longd"
   ]
  },
  {
   "cell_type": "markdown",
   "metadata": {},
   "source": [
    "house_details = []\n",
    "\n",
    "try:\n",
    "    addresses = soup.find_all('meta content')\n",
    "    for address in addresses:\n",
    "        house_details.append(address.text)\n",
    "except:\n",
    "    house_details.append('None')\n",
    "\n",
    "house_details"
   ]
  },
  {
   "cell_type": "code",
   "execution_count": 10,
   "metadata": {},
   "outputs": [],
   "source": [
    "string = ', '.join(house_address)"
   ]
  },
  {
   "cell_type": "code",
   "execution_count": 12,
   "metadata": {},
   "outputs": [
    {
     "data": {
      "text/plain": [
       "''"
      ]
     },
     "execution_count": 12,
     "metadata": {},
     "output_type": "execute_result"
    }
   ],
   "source": [
    "s_lot = \"Lot Size\"\n",
    "position_lot = string.find(s_lot)\n",
    "lot_size = string[(position_lot+10):(position_lot+14)]\n",
    "lot_size"
   ]
  },
  {
   "cell_type": "code",
   "execution_count": null,
   "metadata": {},
   "outputs": [],
   "source": []
  }
 ],
 "metadata": {
  "kernelspec": {
   "display_name": "Python 3",
   "language": "python",
   "name": "python3"
  },
  "language_info": {
   "codemirror_mode": {
    "name": "ipython",
    "version": 3
   },
   "file_extension": ".py",
   "mimetype": "text/x-python",
   "name": "python",
   "nbconvert_exporter": "python",
   "pygments_lexer": "ipython3",
   "version": "3.7.6"
  }
 },
 "nbformat": 4,
 "nbformat_minor": 2
}
